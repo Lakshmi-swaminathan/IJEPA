{
  "nbformat": 4,
  "nbformat_minor": 0,
  "metadata": {
    "colab": {
      "provenance": [],
      "machine_shape": "hm",
      "gpuType": "L4"
    },
    "kernelspec": {
      "name": "python3",
      "display_name": "Python 3"
    },
    "language_info": {
      "name": "python"
    },
    "accelerator": "GPU"
  },
  "cells": [
    {
      "cell_type": "markdown",
      "source": [
        "## Google Drive Setup"
      ],
      "metadata": {
        "id": "cZDXuOy2Dxfn"
      }
    },
    {
      "cell_type": "code",
      "execution_count": 1,
      "metadata": {
        "colab": {
          "base_uri": "https://localhost:8080/"
        },
        "id": "2ihG8nZQ3Ryu",
        "outputId": "417ad354-1938-4505-da6c-e7934ddfdc08"
      },
      "outputs": [
        {
          "output_type": "stream",
          "name": "stdout",
          "text": [
            "Mounted at /content/drive\n"
          ]
        }
      ],
      "source": [
        "from google.colab import drive\n",
        "\n",
        "# Mount Google Drive\n",
        "drive.mount('/content/drive')\n",
        "\n",
        "# Define paths to save models\n",
        "best_model_path_ijepa = '/content/drive/My Drive/best_ijepa_model.keras'\n",
        "best_model_path_linear = '/content/drive/My Drive/best_linear_probing_model.keras'\n"
      ]
    },
    {
      "cell_type": "markdown",
      "source": [
        "## Data Preparation"
      ],
      "metadata": {
        "id": "v6YMuXWSD0q1"
      }
    },
    {
      "cell_type": "code",
      "source": [
        "import numpy as np\n",
        "from tensorflow.keras.datasets import cifar10\n",
        "\n",
        "# Load CIFAR-10 dataset\n",
        "(x_train, y_train), (x_test, y_test) = cifar10.load_data()\n",
        "\n",
        "# Normalize data\n",
        "x_train = x_train.astype('float32') / 255.0\n",
        "x_test = x_test.astype('float32') / 255.0\n"
      ],
      "metadata": {
        "colab": {
          "base_uri": "https://localhost:8080/"
        },
        "id": "rCIRLsKoD5Rn",
        "outputId": "8d38e751-ac4c-4408-c310-f8bad2a7bdfc"
      },
      "execution_count": 2,
      "outputs": [
        {
          "output_type": "stream",
          "name": "stdout",
          "text": [
            "Downloading data from https://www.cs.toronto.edu/~kriz/cifar-10-python.tar.gz\n",
            "\u001b[1m170498071/170498071\u001b[0m \u001b[32m━━━━━━━━━━━━━━━━━━━━\u001b[0m\u001b[37m\u001b[0m \u001b[1m13s\u001b[0m 0us/step\n"
          ]
        }
      ]
    },
    {
      "cell_type": "markdown",
      "source": [
        "## Encoder Architecture"
      ],
      "metadata": {
        "id": "gFFLCM3cEBac"
      }
    },
    {
      "cell_type": "code",
      "source": [
        "import tensorflow as tf\n",
        "from tensorflow.keras import layers, Model\n",
        "\n",
        "class CNNEncoder(tf.keras.Model):\n",
        "    def __init__(self, embed_dim=128):\n",
        "        super(CNNEncoder, self).__init__()\n",
        "        self.embed_dim = embed_dim\n",
        "\n",
        "        # Convolutional layers\n",
        "        self.conv_layers = tf.keras.Sequential([\n",
        "            layers.Conv2D(32, kernel_size=3, strides=1, padding='valid', activation=None),\n",
        "            layers.BatchNormalization(),\n",
        "            layers.ReLU(),\n",
        "            layers.MaxPooling2D(pool_size=2, strides=2),\n",
        "\n",
        "            layers.Conv2D(64, kernel_size=3, strides=1, padding='valid', activation=None),\n",
        "            layers.BatchNormalization(),\n",
        "            layers.ReLU(),\n",
        "            layers.MaxPooling2D(pool_size=2, strides=2),\n",
        "\n",
        "            layers.Conv2D(128, kernel_size=3, strides=1, padding='valid', activation=None),\n",
        "            layers.BatchNormalization(),\n",
        "            layers.ReLU(),\n",
        "            layers.MaxPooling2D(pool_size=2, strides=2)\n",
        "        ])\n",
        "\n",
        "        # Fully connected layers\n",
        "        self.fc_layers = tf.keras.Sequential([\n",
        "            layers.Flatten(),\n",
        "            layers.Dense(256, activation='relu'),\n",
        "            layers.Dense(embed_dim, activation=None)\n",
        "        ])\n",
        "\n",
        "    def call(self, inputs):\n",
        "        # Ensure the inputs are converted to tensors if they're NumPy arrays\n",
        "        if isinstance(inputs, np.ndarray):\n",
        "            inputs = tf.convert_to_tensor(inputs, dtype=tf.float32)\n",
        "\n",
        "        x = self.conv_layers(inputs)\n",
        "        x = self.fc_layers(x)\n",
        "        return x\n",
        "\n",
        "    def get_config(self):\n",
        "        # Return the configuration of the model\n",
        "        return {\"embed_dim\": self.embed_dim}\n",
        "\n",
        "    @classmethod\n",
        "    def from_config(cls, config):\n",
        "        # Create a new instance from the config\n",
        "        return cls(**config)\n",
        "\n"
      ],
      "metadata": {
        "id": "zv6gp9quEEg2"
      },
      "execution_count": 3,
      "outputs": []
    },
    {
      "cell_type": "markdown",
      "source": [
        "##Target Encoder Cloning"
      ],
      "metadata": {
        "id": "RXkgb-fMEHP4"
      }
    },
    {
      "cell_type": "code",
      "source": [
        "from tensorflow.keras.models import clone_model\n",
        "# Initialize encoders\n",
        "context_encoder = CNNEncoder(embed_dim=128)\n",
        "target_encoder = clone_model(context_encoder)"
      ],
      "metadata": {
        "id": "kdnLcDnEEL27"
      },
      "execution_count": 4,
      "outputs": []
    },
    {
      "cell_type": "markdown",
      "source": [
        "## Predictor Model"
      ],
      "metadata": {
        "id": "qZ4N8v-3EOh-"
      }
    },
    {
      "cell_type": "code",
      "source": [
        "import tensorflow as tf\n",
        "from tensorflow.keras.layers import Dense, Concatenate, Input\n",
        "from tensorflow.keras.models import Model\n",
        "\n",
        "# Input layers\n",
        "context_input = Input(shape=(128,), name=\"context_input\")\n",
        "coords_input = Input(shape=(4,), name=\"coords_input\")\n",
        "\n",
        "# Concatenate context encoding with coordinates\n",
        "x = Concatenate()([context_input, coords_input])\n",
        "x = Dense(256, activation='relu')(x)\n",
        "x = Dense(128, activation='relu')(x)\n",
        "output = Dense(128, activation='relu')(x)\n",
        "\n",
        "# Build predictor model\n",
        "predictor_model = Model(inputs=[context_input, coords_input], outputs=output)\n"
      ],
      "metadata": {
        "id": "DE1SkyI4ESJB"
      },
      "execution_count": 5,
      "outputs": []
    },
    {
      "cell_type": "markdown",
      "source": [
        "## Generate context & target blocks"
      ],
      "metadata": {
        "id": "_8PEOGdQEU8K"
      }
    },
    {
      "cell_type": "code",
      "source": [
        "import numpy as np\n",
        "\n",
        "def generate_blocks(image, block_size=4, num_target_patches=4):\n",
        "    \"\"\"\n",
        "    Generate masked target patches and a context image with patches removed.\n",
        "\n",
        "    Args:\n",
        "        image (np.ndarray): Input image as a 2D NumPy array.\n",
        "        block_size (int): Size of each block.\n",
        "        num_target_patches (int): Number of target patches to generate.\n",
        "\n",
        "    Returns:\n",
        "        tuple: A tuple containing:\n",
        "            - context (np.ndarray): Image with target patches removed.\n",
        "            - target_patches (list[np.ndarray]): List of target patches.\n",
        "    \"\"\"\n",
        "    # Ensure image dimensions are divisible by block_size\n",
        "    image_height, image_width = image.shape[0], image.shape[1]\n",
        "    assert image_height % block_size == 0, \"Image height must be divisible by block_size\"\n",
        "    assert image_width % block_size == 0, \"Image width must be divisible by block_size\"\n",
        "    num_rows = image_height // block_size\n",
        "    num_cols = image_width // block_size\n",
        "\n",
        "    # Calculate patch indices directly as NumPy arrays\n",
        "    patch_row_indices = np.arange(0, image_height, block_size)\n",
        "    patch_col_indices = np.arange(0, image_width, block_size)\n",
        "\n",
        "    # Initialize context image\n",
        "    context = image.copy()\n",
        "\n",
        "    target_patches = []\n",
        "    target_patch_coords = []\n",
        "    for _ in range(num_target_patches):\n",
        "        # Randomly select top-left coordinates for the patch\n",
        "        top_left_y = np.random.choice(patch_row_indices)\n",
        "        top_left_x = np.random.choice(patch_col_indices)\n",
        "\n",
        "        # Randomly determine patch size within bounds\n",
        "        bottom_right_y = min(\n",
        "            top_left_y + np.random.choice(np.arange(2 * block_size, 8 * block_size, block_size)),\n",
        "            image_height\n",
        "        )\n",
        "        bottom_right_x = min(\n",
        "            top_left_x + np.random.choice(np.arange(2 * block_size, 8 * block_size, block_size)),\n",
        "            image_width\n",
        "        )\n",
        "\n",
        "        # Extract the patch directly without copying\n",
        "        target_patch = np.zeros_like(image)\n",
        "        target_patch[top_left_y:bottom_right_y, top_left_x:bottom_right_x] = \\\n",
        "            image[top_left_y:bottom_right_y, top_left_x:bottom_right_x]\n",
        "\n",
        "        # Add the target patch to the list\n",
        "        target_patches.append(target_patch)\n",
        "\n",
        "        # Add target patch coords to the list\n",
        "        target_patch_coords.append((top_left_y, top_left_x, bottom_right_y, bottom_right_x))\n",
        "\n",
        "        # Remove the patch from the context image\n",
        "        context[top_left_y:bottom_right_y, top_left_x:bottom_right_x] = 0\n",
        "\n",
        "    return context, target_patches, target_patch_coords\n"
      ],
      "metadata": {
        "id": "kRLw-V9oEYPI"
      },
      "execution_count": 6,
      "outputs": []
    },
    {
      "cell_type": "code",
      "source": [
        "import matplotlib.pyplot as plt\n",
        "# Example context and target blocks\n",
        "\n",
        "# choose a random int between 0 and 50000\n",
        "random_int = np.random.randint(0, 50000)\n",
        "\n",
        "# Generate blocks\n",
        "context, target_patches, target_patch_coords = generate_blocks(x_train[random_int])\n",
        "\n",
        "# Create a figure to show 6 images in a row\n",
        "fig, axs = plt.subplots(1, 6, figsize=(15, 5))\n",
        "\n",
        "# Show original in the first column\n",
        "axs[0].imshow(x_train[random_int])\n",
        "axs[0].set_title('Original')\n",
        "\n",
        "# Show context in the second column\n",
        "axs[1].imshow(context)\n",
        "axs[1].set_title('Context')\n",
        "\n",
        "# Show the targets in the rest of the columns\n",
        "for i in range(2, 6):\n",
        "    axs[i].imshow(target_patches[i-2])\n",
        "    axs[i].set_title(f'Target {i-1}')\n",
        "\n",
        "# Print target coords\n",
        "print(\"Target coords:\")\n",
        "for coord in target_patch_coords:\n",
        "    print(coord)\n",
        "\n",
        "# Show the plot\n",
        "plt.show()"
      ],
      "metadata": {
        "colab": {
          "base_uri": "https://localhost:8080/",
          "height": 338
        },
        "id": "oqBJsFKJfgmL",
        "outputId": "422da28e-a5e5-4f94-c9d9-85b3c0bce738"
      },
      "execution_count": 7,
      "outputs": [
        {
          "output_type": "stream",
          "name": "stdout",
          "text": [
            "Target coords:\n",
            "(24, 28, 32, 32)\n",
            "(20, 0, 32, 12)\n",
            "(16, 12, 24, 32)\n",
            "(20, 28, 32, 32)\n"
          ]
        },
        {
          "output_type": "display_data",
          "data": {
            "text/plain": [
              "<Figure size 1500x500 with 6 Axes>"
            ],
            "image/png": "[encoded data removed]"
          },
          "metadata": {}
        }
      ]
    },
    {
      "cell_type": "markdown",
      "source": [
        "##I-JEPA Training"
      ],
      "metadata": {
        "id": "x8zt0PD5EnN0"
      }
    },
    {
      "cell_type": "code",
      "source": [
        "from tensorflow.keras.callbacks import ModelCheckpoint, EarlyStopping\n",
        "from tqdm import tqdm\n",
        "\n",
        "\n",
        "# Set training parameters\n",
        "epochs = 5\n",
        "batch_size = 32\n",
        "optimizer = tf.keras.optimizers.Adam(learning_rate=1e-4)\n",
        "loss_fn = tf.keras.losses.MeanSquaredError()\n",
        "initial_momentum = 0.996\n",
        "final_momentum = 1.0\n",
        "\n",
        "# Checkpoints and early stopping for future use\n",
        "checkpoint = ModelCheckpoint(\n",
        "    best_model_path_ijepa, monitor='epoch_loss', save_best_only=True, verbose=1\n",
        ")\n",
        "early_stopping = EarlyStopping(monitor='epoch_loss', patience=10, verbose=1)\n",
        "\n",
        "# Training Loop\n",
        "for epoch in range(epochs):\n",
        "    total_loss = 0  # Track cumulative loss for the epoch\n",
        "    num_batches = len(x_train) // batch_size  # Total number of batches\n",
        "    current_momentum = initial_momentum + (epoch / epochs) * (final_momentum - initial_momentum)\n",
        "\n",
        "    print(f\"Epoch {epoch + 1}/{epochs}\")\n",
        "    with tqdm(total=num_batches, desc=f\"Epoch {epoch + 1}/{epochs}\", unit=\"batch\") as pbar:\n",
        "        for step in range(num_batches):\n",
        "            # Create a batch of images\n",
        "            batch_images = x_train[step * batch_size:(step + 1) * batch_size]\n",
        "\n",
        "            # Generate context and target patches\n",
        "            batch_contexts, batch_targets, batch_coords = [], [], []\n",
        "            for img in batch_images:\n",
        "                context, targets, coords = generate_blocks(img)\n",
        "                batch_contexts.append(context)\n",
        "                batch_targets.extend(targets)  # Flatten target patches\n",
        "                batch_coords.extend(coords)   # Flatten coordinates\n",
        "\n",
        "            # Convert to numpy arrays and preprocess\n",
        "            batch_contexts = np.array(batch_contexts) / 255.0\n",
        "            batch_targets = np.array(batch_targets) / 255.0\n",
        "            batch_coords = np.array(batch_coords, dtype=np.float32)\n",
        "\n",
        "            # Encode context and target patches (silent predictions)\n",
        "            batch_context_encodings = context_encoder.predict(batch_contexts, verbose=0)\n",
        "            batch_target_encodings = target_encoder.predict(batch_targets, verbose=0)\n",
        "\n",
        "            # Repeat context encodings to match target patches\n",
        "            batch_context_encodings = np.repeat(batch_context_encodings, len(batch_coords) // batch_size, axis=0)\n",
        "\n",
        "            # Training step\n",
        "            with tf.GradientTape() as tape:\n",
        "                # Predict using predictor model\n",
        "                predictions = predictor_model([batch_context_encodings, batch_coords])\n",
        "                # Calculate loss\n",
        "                loss = loss_fn(batch_target_encodings, predictions)\n",
        "\n",
        "            # Print the loss for each batch\n",
        "            # print(f\"Batch {step}, Loss: {loss.numpy()}\")\n",
        "            # Compute gradients\n",
        "            gradients = tape.gradient(loss, predictor_model.trainable_variables + context_encoder.trainable_variables)\n",
        "            # Apply gradients\n",
        "            optimizer.apply_gradients(zip(gradients, predictor_model.trainable_variables + context_encoder.trainable_variables))\n",
        "\n",
        "            # Update loss and progress bar\n",
        "            total_loss += loss.numpy()\n",
        "            pbar.update(1)  # Increment progress bar\n",
        "\n",
        "            # Update target encoder weights at the end of the epoch\n",
        "            for var, target_var in zip(context_encoder.variables, target_encoder.variables):\n",
        "                target_var.assign(current_momentum * target_var + (1 - current_momentum) * var)\n",
        "\n",
        "    # Print epoch loss\n",
        "    epoch_loss = total_loss / num_batches\n",
        "    print(f\"Epoch {epoch + 1}/{epochs}, Loss: {epoch_loss:.4f},  Momentum: {current_momentum:.4f}\")\n",
        "\n"
      ],
      "metadata": {
        "colab": {
          "base_uri": "https://localhost:8080/"
        },
        "id": "hUhKm4JzjFWK",
        "outputId": "93bd1932-5790-4f77-97a2-019013584315"
      },
      "execution_count": 8,
      "outputs": [
        {
          "output_type": "stream",
          "name": "stdout",
          "text": [
            "Epoch 1/5\n"
          ]
        },
        {
          "output_type": "stream",
          "name": "stderr",
          "text": [
            "\rEpoch 1/5:   0%|          | 0/1562 [00:00<?, ?batch/s]/usr/local/lib/python3.10/dist-packages/keras/src/optimizers/base_optimizer.py:678: UserWarning: Gradients do not exist for variables ['kernel', 'bias', 'gamma', 'beta', 'kernel', 'bias', 'gamma', 'beta', 'kernel', 'bias', 'gamma', 'beta', 'kernel', 'bias', 'kernel', 'bias'] when minimizing the loss. If using `model.compile()`, did you forget to provide a `loss` argument?\n",
            "  warnings.warn(\n",
            "Epoch 1/5: 100%|██████████| 1562/1562 [04:39<00:00,  5.60batch/s]\n"
          ]
        },
        {
          "output_type": "stream",
          "name": "stdout",
          "text": [
            "Epoch 1/5, Loss: 0.0324,  Momentum: 0.9960\n",
            "Epoch 2/5\n"
          ]
        },
        {
          "output_type": "stream",
          "name": "stderr",
          "text": [
            "Epoch 2/5: 100%|██████████| 1562/1562 [04:35<00:00,  5.67batch/s]\n"
          ]
        },
        {
          "output_type": "stream",
          "name": "stdout",
          "text": [
            "Epoch 2/5, Loss: 0.0000,  Momentum: 0.9968\n",
            "Epoch 3/5\n"
          ]
        },
        {
          "output_type": "stream",
          "name": "stderr",
          "text": [
            "Epoch 3/5: 100%|██████████| 1562/1562 [04:37<00:00,  5.63batch/s]\n"
          ]
        },
        {
          "output_type": "stream",
          "name": "stdout",
          "text": [
            "Epoch 3/5, Loss: 0.0000,  Momentum: 0.9976\n",
            "Epoch 4/5\n"
          ]
        },
        {
          "output_type": "stream",
          "name": "stderr",
          "text": [
            "Epoch 4/5: 100%|██████████| 1562/1562 [04:38<00:00,  5.62batch/s]\n"
          ]
        },
        {
          "output_type": "stream",
          "name": "stdout",
          "text": [
            "Epoch 4/5, Loss: 0.0000,  Momentum: 0.9984\n",
            "Epoch 5/5\n"
          ]
        },
        {
          "output_type": "stream",
          "name": "stderr",
          "text": [
            "Epoch 5/5: 100%|██████████| 1562/1562 [04:39<00:00,  5.59batch/s]"
          ]
        },
        {
          "output_type": "stream",
          "name": "stdout",
          "text": [
            "Epoch 5/5, Loss: 0.0000,  Momentum: 0.9992\n"
          ]
        },
        {
          "output_type": "stream",
          "name": "stderr",
          "text": [
            "\n"
          ]
        }
      ]
    },
    {
      "cell_type": "code",
      "source": [
        "context_encoder.summary()"
      ],
      "metadata": {
        "colab": {
          "base_uri": "https://localhost:8080/",
          "height": 199
        },
        "id": "_cx3MNYqRfOq",
        "outputId": "5abc088e-8817-4487-dab0-762aeb4d4b75"
      },
      "execution_count": 9,
      "outputs": [
        {
          "output_type": "display_data",
          "data": {
            "text/plain": [
              "\u001b[1mModel: \"cnn_encoder\"\u001b[0m\n"
            ],
            "text/html": [
              "<pre style=\"white-space:pre;overflow-x:auto;line-height:normal;font-family:Menlo,'DejaVu Sans Mono',consolas,'Courier New',monospace\"><span style=\"font-weight: bold\">Model: \"cnn_encoder\"</span>\n",
              "</pre>\n"
            ]
          },
          "metadata": {}
        },
        {
          "output_type": "display_data",
          "data": {
            "text/plain": [
              "┏━━━━━━━━━━━━━━━━━━━━━━━━━━━━━━━━━━━━━━┳━━━━━━━━━━━━━━━━━━━━━━━━━━━━━┳━━━━━━━━━━━━━━━━━┓\n",
              "┃\u001b[1m \u001b[0m\u001b[1mLayer (type)                        \u001b[0m\u001b[1m \u001b[0m┃\u001b[1m \u001b[0m\u001b[1mOutput Shape               \u001b[0m\u001b[1m \u001b[0m┃\u001b[1m \u001b[0m\u001b[1m        Param #\u001b[0m\u001b[1m \u001b[0m┃\n",
              "┡━━━━━━━━━━━━━━━━━━━━━━━━━━━━━━━━━━━━━━╇━━━━━━━━━━━━━━━━━━━━━━━━━━━━━╇━━━━━━━━━━━━━━━━━┩\n",
              "│ sequential (\u001b[38;5;33mSequential\u001b[0m)              │ (32, 2, 2, 128)             │          \u001b[38;5;34m94,144\u001b[0m │\n",
              "├──────────────────────────────────────┼─────────────────────────────┼─────────────────┤\n",
              "│ sequential_1 (\u001b[38;5;33mSequential\u001b[0m)            │ (32, 128)                   │         \u001b[38;5;34m164,224\u001b[0m │\n",
              "└──────────────────────────────────────┴─────────────────────────────┴─────────────────┘\n"
            ],
            "text/html": [
              "<pre style=\"white-space:pre;overflow-x:auto;line-height:normal;font-family:Menlo,'DejaVu Sans Mono',consolas,'Courier New',monospace\">┏━━━━━━━━━━━━━━━━━━━━━━━━━━━━━━━━━━━━━━┳━━━━━━━━━━━━━━━━━━━━━━━━━━━━━┳━━━━━━━━━━━━━━━━━┓\n",
              "┃<span style=\"font-weight: bold\"> Layer (type)                         </span>┃<span style=\"font-weight: bold\"> Output Shape                </span>┃<span style=\"font-weight: bold\">         Param # </span>┃\n",
              "┡━━━━━━━━━━━━━━━━━━━━━━━━━━━━━━━━━━━━━━╇━━━━━━━━━━━━━━━━━━━━━━━━━━━━━╇━━━━━━━━━━━━━━━━━┩\n",
              "│ sequential (<span style=\"color: #0087ff; text-decoration-color: #0087ff\">Sequential</span>)              │ (32, 2, 2, 128)             │          <span style=\"color: #00af00; text-decoration-color: #00af00\">94,144</span> │\n",
              "├──────────────────────────────────────┼─────────────────────────────┼─────────────────┤\n",
              "│ sequential_1 (<span style=\"color: #0087ff; text-decoration-color: #0087ff\">Sequential</span>)            │ (32, 128)                   │         <span style=\"color: #00af00; text-decoration-color: #00af00\">164,224</span> │\n",
              "└──────────────────────────────────────┴─────────────────────────────┴─────────────────┘\n",
              "</pre>\n"
            ]
          },
          "metadata": {}
        },
        {
          "output_type": "display_data",
          "data": {
            "text/plain": [
              "\u001b[1m Total params: \u001b[0m\u001b[38;5;34m258,368\u001b[0m (1009.25 KB)\n"
            ],
            "text/html": [
              "<pre style=\"white-space:pre;overflow-x:auto;line-height:normal;font-family:Menlo,'DejaVu Sans Mono',consolas,'Courier New',monospace\"><span style=\"font-weight: bold\"> Total params: </span><span style=\"color: #00af00; text-decoration-color: #00af00\">258,368</span> (1009.25 KB)\n",
              "</pre>\n"
            ]
          },
          "metadata": {}
        },
        {
          "output_type": "display_data",
          "data": {
            "text/plain": [
              "\u001b[1m Trainable params: \u001b[0m\u001b[38;5;34m257,920\u001b[0m (1007.50 KB)\n"
            ],
            "text/html": [
              "<pre style=\"white-space:pre;overflow-x:auto;line-height:normal;font-family:Menlo,'DejaVu Sans Mono',consolas,'Courier New',monospace\"><span style=\"font-weight: bold\"> Trainable params: </span><span style=\"color: #00af00; text-decoration-color: #00af00\">257,920</span> (1007.50 KB)\n",
              "</pre>\n"
            ]
          },
          "metadata": {}
        },
        {
          "output_type": "display_data",
          "data": {
            "text/plain": [
              "\u001b[1m Non-trainable params: \u001b[0m\u001b[38;5;34m448\u001b[0m (1.75 KB)\n"
            ],
            "text/html": [
              "<pre style=\"white-space:pre;overflow-x:auto;line-height:normal;font-family:Menlo,'DejaVu Sans Mono',consolas,'Courier New',monospace\"><span style=\"font-weight: bold\"> Non-trainable params: </span><span style=\"color: #00af00; text-decoration-color: #00af00\">448</span> (1.75 KB)\n",
              "</pre>\n"
            ]
          },
          "metadata": {}
        }
      ]
    },
    {
      "cell_type": "code",
      "source": [
        "target_encoder.summary()"
      ],
      "metadata": {
        "colab": {
          "base_uri": "https://localhost:8080/",
          "height": 199
        },
        "id": "ayBDGNOMRhft",
        "outputId": "3312f6ce-9c2c-4adc-a8b7-e83a8c052ff0"
      },
      "execution_count": 10,
      "outputs": [
        {
          "output_type": "display_data",
          "data": {
            "text/plain": [
              "\u001b[1mModel: \"cnn_encoder_1\"\u001b[0m\n"
            ],
            "text/html": [
              "<pre style=\"white-space:pre;overflow-x:auto;line-height:normal;font-family:Menlo,'DejaVu Sans Mono',consolas,'Courier New',monospace\"><span style=\"font-weight: bold\">Model: \"cnn_encoder_1\"</span>\n",
              "</pre>\n"
            ]
          },
          "metadata": {}
        },
        {
          "output_type": "display_data",
          "data": {
            "text/plain": [
              "┏━━━━━━━━━━━━━━━━━━━━━━━━━━━━━━━━━━━━━━┳━━━━━━━━━━━━━━━━━━━━━━━━━━━━━┳━━━━━━━━━━━━━━━━━┓\n",
              "┃\u001b[1m \u001b[0m\u001b[1mLayer (type)                        \u001b[0m\u001b[1m \u001b[0m┃\u001b[1m \u001b[0m\u001b[1mOutput Shape               \u001b[0m\u001b[1m \u001b[0m┃\u001b[1m \u001b[0m\u001b[1m        Param #\u001b[0m\u001b[1m \u001b[0m┃\n",
              "┡━━━━━━━━━━━━━━━━━━━━━━━━━━━━━━━━━━━━━━╇━━━━━━━━━━━━━━━━━━━━━━━━━━━━━╇━━━━━━━━━━━━━━━━━┩\n",
              "│ sequential_2 (\u001b[38;5;33mSequential\u001b[0m)            │ (32, 2, 2, 128)             │          \u001b[38;5;34m94,144\u001b[0m │\n",
              "├──────────────────────────────────────┼─────────────────────────────┼─────────────────┤\n",
              "│ sequential_3 (\u001b[38;5;33mSequential\u001b[0m)            │ (32, 128)                   │         \u001b[38;5;34m164,224\u001b[0m │\n",
              "└──────────────────────────────────────┴─────────────────────────────┴─────────────────┘\n"
            ],
            "text/html": [
              "<pre style=\"white-space:pre;overflow-x:auto;line-height:normal;font-family:Menlo,'DejaVu Sans Mono',consolas,'Courier New',monospace\">┏━━━━━━━━━━━━━━━━━━━━━━━━━━━━━━━━━━━━━━┳━━━━━━━━━━━━━━━━━━━━━━━━━━━━━┳━━━━━━━━━━━━━━━━━┓\n",
              "┃<span style=\"font-weight: bold\"> Layer (type)                         </span>┃<span style=\"font-weight: bold\"> Output Shape                </span>┃<span style=\"font-weight: bold\">         Param # </span>┃\n",
              "┡━━━━━━━━━━━━━━━━━━━━━━━━━━━━━━━━━━━━━━╇━━━━━━━━━━━━━━━━━━━━━━━━━━━━━╇━━━━━━━━━━━━━━━━━┩\n",
              "│ sequential_2 (<span style=\"color: #0087ff; text-decoration-color: #0087ff\">Sequential</span>)            │ (32, 2, 2, 128)             │          <span style=\"color: #00af00; text-decoration-color: #00af00\">94,144</span> │\n",
              "├──────────────────────────────────────┼─────────────────────────────┼─────────────────┤\n",
              "│ sequential_3 (<span style=\"color: #0087ff; text-decoration-color: #0087ff\">Sequential</span>)            │ (32, 128)                   │         <span style=\"color: #00af00; text-decoration-color: #00af00\">164,224</span> │\n",
              "└──────────────────────────────────────┴─────────────────────────────┴─────────────────┘\n",
              "</pre>\n"
            ]
          },
          "metadata": {}
        },
        {
          "output_type": "display_data",
          "data": {
            "text/plain": [
              "\u001b[1m Total params: \u001b[0m\u001b[38;5;34m258,368\u001b[0m (1009.25 KB)\n"
            ],
            "text/html": [
              "<pre style=\"white-space:pre;overflow-x:auto;line-height:normal;font-family:Menlo,'DejaVu Sans Mono',consolas,'Courier New',monospace\"><span style=\"font-weight: bold\"> Total params: </span><span style=\"color: #00af00; text-decoration-color: #00af00\">258,368</span> (1009.25 KB)\n",
              "</pre>\n"
            ]
          },
          "metadata": {}
        },
        {
          "output_type": "display_data",
          "data": {
            "text/plain": [
              "\u001b[1m Trainable params: \u001b[0m\u001b[38;5;34m257,920\u001b[0m (1007.50 KB)\n"
            ],
            "text/html": [
              "<pre style=\"white-space:pre;overflow-x:auto;line-height:normal;font-family:Menlo,'DejaVu Sans Mono',consolas,'Courier New',monospace\"><span style=\"font-weight: bold\"> Trainable params: </span><span style=\"color: #00af00; text-decoration-color: #00af00\">257,920</span> (1007.50 KB)\n",
              "</pre>\n"
            ]
          },
          "metadata": {}
        },
        {
          "output_type": "display_data",
          "data": {
            "text/plain": [
              "\u001b[1m Non-trainable params: \u001b[0m\u001b[38;5;34m448\u001b[0m (1.75 KB)\n"
            ],
            "text/html": [
              "<pre style=\"white-space:pre;overflow-x:auto;line-height:normal;font-family:Menlo,'DejaVu Sans Mono',consolas,'Courier New',monospace\"><span style=\"font-weight: bold\"> Non-trainable params: </span><span style=\"color: #00af00; text-decoration-color: #00af00\">448</span> (1.75 KB)\n",
              "</pre>\n"
            ]
          },
          "metadata": {}
        }
      ]
    },
    {
      "cell_type": "code",
      "source": [
        "predictor_model.summary()"
      ],
      "metadata": {
        "colab": {
          "base_uri": "https://localhost:8080/",
          "height": 364
        },
        "id": "3eW8EgEERiNi",
        "outputId": "a439d7b6-f1c4-464b-a32f-bd4bdc50995a"
      },
      "execution_count": 11,
      "outputs": [
        {
          "output_type": "display_data",
          "data": {
            "text/plain": [
              "\u001b[1mModel: \"functional\"\u001b[0m\n"
            ],
            "text/html": [
              "<pre style=\"white-space:pre;overflow-x:auto;line-height:normal;font-family:Menlo,'DejaVu Sans Mono',consolas,'Courier New',monospace\"><span style=\"font-weight: bold\">Model: \"functional\"</span>\n",
              "</pre>\n"
            ]
          },
          "metadata": {}
        },
        {
          "output_type": "display_data",
          "data": {
            "text/plain": [
              "┏━━━━━━━━━━━━━━━━━━━━━━━━━━━┳━━━━━━━━━━━━━━━━━━━━━━━━┳━━━━━━━━━━━━━━━━┳━━━━━━━━━━━━━━━━━━━━━━━━┓\n",
              "┃\u001b[1m \u001b[0m\u001b[1mLayer (type)             \u001b[0m\u001b[1m \u001b[0m┃\u001b[1m \u001b[0m\u001b[1mOutput Shape          \u001b[0m\u001b[1m \u001b[0m┃\u001b[1m \u001b[0m\u001b[1m       Param #\u001b[0m\u001b[1m \u001b[0m┃\u001b[1m \u001b[0m\u001b[1mConnected to          \u001b[0m\u001b[1m \u001b[0m┃\n",
              "┡━━━━━━━━━━━━━━━━━━━━━━━━━━━╇━━━━━━━━━━━━━━━━━━━━━━━━╇━━━━━━━━━━━━━━━━╇━━━━━━━━━━━━━━━━━━━━━━━━┩\n",
              "│ context_input             │ (\u001b[38;5;45mNone\u001b[0m, \u001b[38;5;34m128\u001b[0m)            │              \u001b[38;5;34m0\u001b[0m │ -                      │\n",
              "│ (\u001b[38;5;33mInputLayer\u001b[0m)              │                        │                │                        │\n",
              "├───────────────────────────┼────────────────────────┼────────────────┼────────────────────────┤\n",
              "│ coords_input (\u001b[38;5;33mInputLayer\u001b[0m) │ (\u001b[38;5;45mNone\u001b[0m, \u001b[38;5;34m4\u001b[0m)              │              \u001b[38;5;34m0\u001b[0m │ -                      │\n",
              "├───────────────────────────┼────────────────────────┼────────────────┼────────────────────────┤\n",
              "│ concatenate (\u001b[38;5;33mConcatenate\u001b[0m) │ (\u001b[38;5;45mNone\u001b[0m, \u001b[38;5;34m132\u001b[0m)            │              \u001b[38;5;34m0\u001b[0m │ context_input[\u001b[38;5;34m0\u001b[0m][\u001b[38;5;34m0\u001b[0m],   │\n",
              "│                           │                        │                │ coords_input[\u001b[38;5;34m0\u001b[0m][\u001b[38;5;34m0\u001b[0m]     │\n",
              "├───────────────────────────┼────────────────────────┼────────────────┼────────────────────────┤\n",
              "│ dense_4 (\u001b[38;5;33mDense\u001b[0m)           │ (\u001b[38;5;45mNone\u001b[0m, \u001b[38;5;34m256\u001b[0m)            │         \u001b[38;5;34m34,048\u001b[0m │ concatenate[\u001b[38;5;34m0\u001b[0m][\u001b[38;5;34m0\u001b[0m]      │\n",
              "├───────────────────────────┼────────────────────────┼────────────────┼────────────────────────┤\n",
              "│ dense_5 (\u001b[38;5;33mDense\u001b[0m)           │ (\u001b[38;5;45mNone\u001b[0m, \u001b[38;5;34m128\u001b[0m)            │         \u001b[38;5;34m32,896\u001b[0m │ dense_4[\u001b[38;5;34m0\u001b[0m][\u001b[38;5;34m0\u001b[0m]          │\n",
              "├───────────────────────────┼────────────────────────┼────────────────┼────────────────────────┤\n",
              "│ dense_6 (\u001b[38;5;33mDense\u001b[0m)           │ (\u001b[38;5;45mNone\u001b[0m, \u001b[38;5;34m128\u001b[0m)            │         \u001b[38;5;34m16,512\u001b[0m │ dense_5[\u001b[38;5;34m0\u001b[0m][\u001b[38;5;34m0\u001b[0m]          │\n",
              "└───────────────────────────┴────────────────────────┴────────────────┴────────────────────────┘\n"
            ],
            "text/html": [
              "<pre style=\"white-space:pre;overflow-x:auto;line-height:normal;font-family:Menlo,'DejaVu Sans Mono',consolas,'Courier New',monospace\">┏━━━━━━━━━━━━━━━━━━━━━━━━━━━┳━━━━━━━━━━━━━━━━━━━━━━━━┳━━━━━━━━━━━━━━━━┳━━━━━━━━━━━━━━━━━━━━━━━━┓\n",
              "┃<span style=\"font-weight: bold\"> Layer (type)              </span>┃<span style=\"font-weight: bold\"> Output Shape           </span>┃<span style=\"font-weight: bold\">        Param # </span>┃<span style=\"font-weight: bold\"> Connected to           </span>┃\n",
              "┡━━━━━━━━━━━━━━━━━━━━━━━━━━━╇━━━━━━━━━━━━━━━━━━━━━━━━╇━━━━━━━━━━━━━━━━╇━━━━━━━━━━━━━━━━━━━━━━━━┩\n",
              "│ context_input             │ (<span style=\"color: #00d7ff; text-decoration-color: #00d7ff\">None</span>, <span style=\"color: #00af00; text-decoration-color: #00af00\">128</span>)            │              <span style=\"color: #00af00; text-decoration-color: #00af00\">0</span> │ -                      │\n",
              "│ (<span style=\"color: #0087ff; text-decoration-color: #0087ff\">InputLayer</span>)              │                        │                │                        │\n",
              "├───────────────────────────┼────────────────────────┼────────────────┼────────────────────────┤\n",
              "│ coords_input (<span style=\"color: #0087ff; text-decoration-color: #0087ff\">InputLayer</span>) │ (<span style=\"color: #00d7ff; text-decoration-color: #00d7ff\">None</span>, <span style=\"color: #00af00; text-decoration-color: #00af00\">4</span>)              │              <span style=\"color: #00af00; text-decoration-color: #00af00\">0</span> │ -                      │\n",
              "├───────────────────────────┼────────────────────────┼────────────────┼────────────────────────┤\n",
              "│ concatenate (<span style=\"color: #0087ff; text-decoration-color: #0087ff\">Concatenate</span>) │ (<span style=\"color: #00d7ff; text-decoration-color: #00d7ff\">None</span>, <span style=\"color: #00af00; text-decoration-color: #00af00\">132</span>)            │              <span style=\"color: #00af00; text-decoration-color: #00af00\">0</span> │ context_input[<span style=\"color: #00af00; text-decoration-color: #00af00\">0</span>][<span style=\"color: #00af00; text-decoration-color: #00af00\">0</span>],   │\n",
              "│                           │                        │                │ coords_input[<span style=\"color: #00af00; text-decoration-color: #00af00\">0</span>][<span style=\"color: #00af00; text-decoration-color: #00af00\">0</span>]     │\n",
              "├───────────────────────────┼────────────────────────┼────────────────┼────────────────────────┤\n",
              "│ dense_4 (<span style=\"color: #0087ff; text-decoration-color: #0087ff\">Dense</span>)           │ (<span style=\"color: #00d7ff; text-decoration-color: #00d7ff\">None</span>, <span style=\"color: #00af00; text-decoration-color: #00af00\">256</span>)            │         <span style=\"color: #00af00; text-decoration-color: #00af00\">34,048</span> │ concatenate[<span style=\"color: #00af00; text-decoration-color: #00af00\">0</span>][<span style=\"color: #00af00; text-decoration-color: #00af00\">0</span>]      │\n",
              "├───────────────────────────┼────────────────────────┼────────────────┼────────────────────────┤\n",
              "│ dense_5 (<span style=\"color: #0087ff; text-decoration-color: #0087ff\">Dense</span>)           │ (<span style=\"color: #00d7ff; text-decoration-color: #00d7ff\">None</span>, <span style=\"color: #00af00; text-decoration-color: #00af00\">128</span>)            │         <span style=\"color: #00af00; text-decoration-color: #00af00\">32,896</span> │ dense_4[<span style=\"color: #00af00; text-decoration-color: #00af00\">0</span>][<span style=\"color: #00af00; text-decoration-color: #00af00\">0</span>]          │\n",
              "├───────────────────────────┼────────────────────────┼────────────────┼────────────────────────┤\n",
              "│ dense_6 (<span style=\"color: #0087ff; text-decoration-color: #0087ff\">Dense</span>)           │ (<span style=\"color: #00d7ff; text-decoration-color: #00d7ff\">None</span>, <span style=\"color: #00af00; text-decoration-color: #00af00\">128</span>)            │         <span style=\"color: #00af00; text-decoration-color: #00af00\">16,512</span> │ dense_5[<span style=\"color: #00af00; text-decoration-color: #00af00\">0</span>][<span style=\"color: #00af00; text-decoration-color: #00af00\">0</span>]          │\n",
              "└───────────────────────────┴────────────────────────┴────────────────┴────────────────────────┘\n",
              "</pre>\n"
            ]
          },
          "metadata": {}
        },
        {
          "output_type": "display_data",
          "data": {
            "text/plain": [
              "\u001b[1m Total params: \u001b[0m\u001b[38;5;34m83,456\u001b[0m (326.00 KB)\n"
            ],
            "text/html": [
              "<pre style=\"white-space:pre;overflow-x:auto;line-height:normal;font-family:Menlo,'DejaVu Sans Mono',consolas,'Courier New',monospace\"><span style=\"font-weight: bold\"> Total params: </span><span style=\"color: #00af00; text-decoration-color: #00af00\">83,456</span> (326.00 KB)\n",
              "</pre>\n"
            ]
          },
          "metadata": {}
        },
        {
          "output_type": "display_data",
          "data": {
            "text/plain": [
              "\u001b[1m Trainable params: \u001b[0m\u001b[38;5;34m83,456\u001b[0m (326.00 KB)\n"
            ],
            "text/html": [
              "<pre style=\"white-space:pre;overflow-x:auto;line-height:normal;font-family:Menlo,'DejaVu Sans Mono',consolas,'Courier New',monospace\"><span style=\"font-weight: bold\"> Trainable params: </span><span style=\"color: #00af00; text-decoration-color: #00af00\">83,456</span> (326.00 KB)\n",
              "</pre>\n"
            ]
          },
          "metadata": {}
        },
        {
          "output_type": "display_data",
          "data": {
            "text/plain": [
              "\u001b[1m Non-trainable params: \u001b[0m\u001b[38;5;34m0\u001b[0m (0.00 B)\n"
            ],
            "text/html": [
              "<pre style=\"white-space:pre;overflow-x:auto;line-height:normal;font-family:Menlo,'DejaVu Sans Mono',consolas,'Courier New',monospace\"><span style=\"font-weight: bold\"> Non-trainable params: </span><span style=\"color: #00af00; text-decoration-color: #00af00\">0</span> (0.00 B)\n",
              "</pre>\n"
            ]
          },
          "metadata": {}
        }
      ]
    },
    {
      "cell_type": "markdown",
      "source": [
        "## Linear Probing"
      ],
      "metadata": {
        "id": "pXUhRVUKEsNM"
      }
    },
    {
      "cell_type": "code",
      "source": [
        "from tensorflow.keras.layers import Dense, Input\n",
        "from tensorflow.keras.models import Model\n",
        "\n",
        "# Freeze the target encoder\n",
        "for layer in target_encoder.layers:\n",
        "    layer.trainable = False\n",
        "\n",
        "# Build linear probing model\n",
        "def build_linear_probe_model(encoder, num_classes):\n",
        "    # Input for image\n",
        "    input_layer = Input(shape=(32, 32, 3), name=\"image_input\")\n",
        "\n",
        "    # Pass input through the frozen encoder\n",
        "    x = encoder(input_layer)\n",
        "\n",
        "    # Add linear classification head\n",
        "    output_layer = Dense(num_classes, activation=\"softmax\", name=\"classification_head\")(x)\n",
        "\n",
        "    # Build model\n",
        "    model = Model(inputs=input_layer, outputs=output_layer)\n",
        "    return model\n",
        "\n",
        "# Create the linear probing model\n",
        "num_classes = 10  # CIFAR-10 has 10 classes\n",
        "linear_probe_model = build_linear_probe_model(target_encoder, num_classes)\n"
      ],
      "metadata": {
        "id": "tCzw94mrExGc"
      },
      "execution_count": 12,
      "outputs": []
    },
    {
      "cell_type": "code",
      "source": [
        "# Compile the model\n",
        "linear_probe_model.compile(\n",
        "    optimizer=tf.keras.optimizers.Adam(learning_rate=1e-3),\n",
        "    loss=\"sparse_categorical_crossentropy\",\n",
        "    metrics=[\"accuracy\"]\n",
        ")"
      ],
      "metadata": {
        "id": "WtwYgPH5ozdw"
      },
      "execution_count": 13,
      "outputs": []
    },
    {
      "cell_type": "code",
      "source": [
        "# Train the linear probing model\n",
        "history = linear_probe_model.fit(\n",
        "    x_train, y_train,\n",
        "    validation_data=(x_test, y_test),\n",
        "    batch_size=64,\n",
        "    epochs=40\n",
        ")\n"
      ],
      "metadata": {
        "colab": {
          "base_uri": "https://localhost:8080/"
        },
        "id": "U4KaKxonjkrc",
        "outputId": "73fd63de-64e5-46d7-a3d6-7bec532ea5aa"
      },
      "execution_count": 14,
      "outputs": [
        {
          "output_type": "stream",
          "name": "stdout",
          "text": [
            "Epoch 1/40\n",
            "\u001b[1m782/782\u001b[0m \u001b[32m━━━━━━━━━━━━━━━━━━━━\u001b[0m\u001b[37m\u001b[0m \u001b[1m8s\u001b[0m 7ms/step - accuracy: 0.1586 - loss: 2.2838 - val_accuracy: 0.2467 - val_loss: 2.2360\n",
            "Epoch 2/40\n",
            "\u001b[1m782/782\u001b[0m \u001b[32m━━━━━━━━━━━━━━━━━━━━\u001b[0m\u001b[37m\u001b[0m \u001b[1m2s\u001b[0m 2ms/step - accuracy: 0.2358 - loss: 2.2228 - val_accuracy: 0.2541 - val_loss: 2.1902\n",
            "Epoch 3/40\n",
            "\u001b[1m782/782\u001b[0m \u001b[32m━━━━━━━━━━━━━━━━━━━━\u001b[0m\u001b[37m\u001b[0m \u001b[1m2s\u001b[0m 2ms/step - accuracy: 0.2622 - loss: 2.1771 - val_accuracy: 0.2665 - val_loss: 2.1561\n",
            "Epoch 4/40\n",
            "\u001b[1m782/782\u001b[0m \u001b[32m━━━━━━━━━━━━━━━━━━━━\u001b[0m\u001b[37m\u001b[0m \u001b[1m2s\u001b[0m 2ms/step - accuracy: 0.2750 - loss: 2.1437 - val_accuracy: 0.2765 - val_loss: 2.1275\n",
            "Epoch 5/40\n",
            "\u001b[1m782/782\u001b[0m \u001b[32m━━━━━━━━━━━━━━━━━━━━\u001b[0m\u001b[37m\u001b[0m \u001b[1m2s\u001b[0m 2ms/step - accuracy: 0.2868 - loss: 2.1177 - val_accuracy: 0.2885 - val_loss: 2.1035\n",
            "Epoch 6/40\n",
            "\u001b[1m782/782\u001b[0m \u001b[32m━━━━━━━━━━━━━━━━━━━━\u001b[0m\u001b[37m\u001b[0m \u001b[1m2s\u001b[0m 2ms/step - accuracy: 0.2911 - loss: 2.0950 - val_accuracy: 0.2987 - val_loss: 2.0828\n",
            "Epoch 7/40\n",
            "\u001b[1m782/782\u001b[0m \u001b[32m━━━━━━━━━━━━━━━━━━━━\u001b[0m\u001b[37m\u001b[0m \u001b[1m2s\u001b[0m 2ms/step - accuracy: 0.3021 - loss: 2.0729 - val_accuracy: 0.3083 - val_loss: 2.0647\n",
            "Epoch 8/40\n",
            "\u001b[1m782/782\u001b[0m \u001b[32m━━━━━━━━━━━━━━━━━━━━\u001b[0m\u001b[37m\u001b[0m \u001b[1m2s\u001b[0m 2ms/step - accuracy: 0.3073 - loss: 2.0567 - val_accuracy: 0.3056 - val_loss: 2.0491\n",
            "Epoch 9/40\n",
            "\u001b[1m782/782\u001b[0m \u001b[32m━━━━━━━━━━━━━━━━━━━━\u001b[0m\u001b[37m\u001b[0m \u001b[1m2s\u001b[0m 2ms/step - accuracy: 0.3071 - loss: 2.0402 - val_accuracy: 0.3115 - val_loss: 2.0345\n",
            "Epoch 10/40\n",
            "\u001b[1m782/782\u001b[0m \u001b[32m━━━━━━━━━━━━━━━━━━━━\u001b[0m\u001b[37m\u001b[0m \u001b[1m2s\u001b[0m 2ms/step - accuracy: 0.3093 - loss: 2.0281 - val_accuracy: 0.3141 - val_loss: 2.0230\n",
            "Epoch 11/40\n",
            "\u001b[1m782/782\u001b[0m \u001b[32m━━━━━━━━━━━━━━━━━━━━\u001b[0m\u001b[37m\u001b[0m \u001b[1m2s\u001b[0m 2ms/step - accuracy: 0.3105 - loss: 2.0168 - val_accuracy: 0.3167 - val_loss: 2.0096\n",
            "Epoch 12/40\n",
            "\u001b[1m782/782\u001b[0m \u001b[32m━━━━━━━━━━━━━━━━━━━━\u001b[0m\u001b[37m\u001b[0m \u001b[1m2s\u001b[0m 2ms/step - accuracy: 0.3177 - loss: 2.0030 - val_accuracy: 0.3218 - val_loss: 1.9986\n",
            "Epoch 13/40\n",
            "\u001b[1m782/782\u001b[0m \u001b[32m━━━━━━━━━━━━━━━━━━━━\u001b[0m\u001b[37m\u001b[0m \u001b[1m2s\u001b[0m 2ms/step - accuracy: 0.3179 - loss: 1.9939 - val_accuracy: 0.3238 - val_loss: 1.9886\n",
            "Epoch 14/40\n",
            "\u001b[1m782/782\u001b[0m \u001b[32m━━━━━━━━━━━━━━━━━━━━\u001b[0m\u001b[37m\u001b[0m \u001b[1m2s\u001b[0m 2ms/step - accuracy: 0.3241 - loss: 1.9789 - val_accuracy: 0.3237 - val_loss: 1.9804\n",
            "Epoch 15/40\n",
            "\u001b[1m782/782\u001b[0m \u001b[32m━━━━━━━━━━━━━━━━━━━━\u001b[0m\u001b[37m\u001b[0m \u001b[1m2s\u001b[0m 2ms/step - accuracy: 0.3253 - loss: 1.9732 - val_accuracy: 0.3258 - val_loss: 1.9711\n",
            "Epoch 16/40\n",
            "\u001b[1m782/782\u001b[0m \u001b[32m━━━━━━━━━━━━━━━━━━━━\u001b[0m\u001b[37m\u001b[0m \u001b[1m2s\u001b[0m 2ms/step - accuracy: 0.3252 - loss: 1.9644 - val_accuracy: 0.3286 - val_loss: 1.9638\n",
            "Epoch 17/40\n",
            "\u001b[1m782/782\u001b[0m \u001b[32m━━━━━━━━━━━━━━━━━━━━\u001b[0m\u001b[37m\u001b[0m \u001b[1m2s\u001b[0m 2ms/step - accuracy: 0.3344 - loss: 1.9577 - val_accuracy: 0.3253 - val_loss: 1.9569\n",
            "Epoch 18/40\n",
            "\u001b[1m782/782\u001b[0m \u001b[32m━━━━━━━━━━━━━━━━━━━━\u001b[0m\u001b[37m\u001b[0m \u001b[1m2s\u001b[0m 2ms/step - accuracy: 0.3267 - loss: 1.9527 - val_accuracy: 0.3334 - val_loss: 1.9493\n",
            "Epoch 19/40\n",
            "\u001b[1m782/782\u001b[0m \u001b[32m━━━━━━━━━━━━━━━━━━━━\u001b[0m\u001b[37m\u001b[0m \u001b[1m2s\u001b[0m 2ms/step - accuracy: 0.3319 - loss: 1.9434 - val_accuracy: 0.3312 - val_loss: 1.9438\n",
            "Epoch 20/40\n",
            "\u001b[1m782/782\u001b[0m \u001b[32m━━━━━━━━━━━━━━━━━━━━\u001b[0m\u001b[37m\u001b[0m \u001b[1m2s\u001b[0m 2ms/step - accuracy: 0.3300 - loss: 1.9426 - val_accuracy: 0.3324 - val_loss: 1.9371\n",
            "Epoch 21/40\n",
            "\u001b[1m782/782\u001b[0m \u001b[32m━━━━━━━━━━━━━━━━━━━━\u001b[0m\u001b[37m\u001b[0m \u001b[1m2s\u001b[0m 2ms/step - accuracy: 0.3330 - loss: 1.9329 - val_accuracy: 0.3324 - val_loss: 1.9318\n",
            "Epoch 22/40\n",
            "\u001b[1m782/782\u001b[0m \u001b[32m━━━━━━━━━━━━━━━━━━━━\u001b[0m\u001b[37m\u001b[0m \u001b[1m2s\u001b[0m 2ms/step - accuracy: 0.3295 - loss: 1.9288 - val_accuracy: 0.3349 - val_loss: 1.9277\n",
            "Epoch 23/40\n",
            "\u001b[1m782/782\u001b[0m \u001b[32m━━━━━━━━━━━━━━━━━━━━\u001b[0m\u001b[37m\u001b[0m \u001b[1m2s\u001b[0m 2ms/step - accuracy: 0.3376 - loss: 1.9217 - val_accuracy: 0.3348 - val_loss: 1.9214\n",
            "Epoch 24/40\n",
            "\u001b[1m782/782\u001b[0m \u001b[32m━━━━━━━━━━━━━━━━━━━━\u001b[0m\u001b[37m\u001b[0m \u001b[1m2s\u001b[0m 2ms/step - accuracy: 0.3347 - loss: 1.9175 - val_accuracy: 0.3382 - val_loss: 1.9172\n",
            "Epoch 25/40\n",
            "\u001b[1m782/782\u001b[0m \u001b[32m━━━━━━━━━━━━━━━━━━━━\u001b[0m\u001b[37m\u001b[0m \u001b[1m2s\u001b[0m 2ms/step - accuracy: 0.3394 - loss: 1.9100 - val_accuracy: 0.3392 - val_loss: 1.9128\n",
            "Epoch 26/40\n",
            "\u001b[1m782/782\u001b[0m \u001b[32m━━━━━━━━━━━━━━━━━━━━\u001b[0m\u001b[37m\u001b[0m \u001b[1m2s\u001b[0m 2ms/step - accuracy: 0.3398 - loss: 1.9053 - val_accuracy: 0.3395 - val_loss: 1.9085\n",
            "Epoch 27/40\n",
            "\u001b[1m782/782\u001b[0m \u001b[32m━━━━━━━━━━━━━━━━━━━━\u001b[0m\u001b[37m\u001b[0m \u001b[1m2s\u001b[0m 2ms/step - accuracy: 0.3373 - loss: 1.9041 - val_accuracy: 0.3401 - val_loss: 1.9044\n",
            "Epoch 28/40\n",
            "\u001b[1m782/782\u001b[0m \u001b[32m━━━━━━━━━━━━━━━━━━━━\u001b[0m\u001b[37m\u001b[0m \u001b[1m2s\u001b[0m 2ms/step - accuracy: 0.3444 - loss: 1.8997 - val_accuracy: 0.3413 - val_loss: 1.9021\n",
            "Epoch 29/40\n",
            "\u001b[1m782/782\u001b[0m \u001b[32m━━━━━━━━━━━━━━━━━━━━\u001b[0m\u001b[37m\u001b[0m \u001b[1m2s\u001b[0m 2ms/step - accuracy: 0.3419 - loss: 1.8950 - val_accuracy: 0.3412 - val_loss: 1.8970\n",
            "Epoch 30/40\n",
            "\u001b[1m782/782\u001b[0m \u001b[32m━━━━━━━━━━━━━━━━━━━━\u001b[0m\u001b[37m\u001b[0m \u001b[1m2s\u001b[0m 2ms/step - accuracy: 0.3440 - loss: 1.8893 - val_accuracy: 0.3440 - val_loss: 1.8938\n",
            "Epoch 31/40\n",
            "\u001b[1m782/782\u001b[0m \u001b[32m━━━━━━━━━━━━━━━━━━━━\u001b[0m\u001b[37m\u001b[0m \u001b[1m2s\u001b[0m 2ms/step - accuracy: 0.3437 - loss: 1.8896 - val_accuracy: 0.3464 - val_loss: 1.8904\n",
            "Epoch 32/40\n",
            "\u001b[1m782/782\u001b[0m \u001b[32m━━━━━━━━━━━━━━━━━━━━\u001b[0m\u001b[37m\u001b[0m \u001b[1m2s\u001b[0m 2ms/step - accuracy: 0.3458 - loss: 1.8880 - val_accuracy: 0.3441 - val_loss: 1.8869\n",
            "Epoch 33/40\n",
            "\u001b[1m782/782\u001b[0m \u001b[32m━━━━━━━━━━━━━━━━━━━━\u001b[0m\u001b[37m\u001b[0m \u001b[1m2s\u001b[0m 2ms/step - accuracy: 0.3445 - loss: 1.8791 - val_accuracy: 0.3447 - val_loss: 1.8840\n",
            "Epoch 34/40\n",
            "\u001b[1m782/782\u001b[0m \u001b[32m━━━━━━━━━━━━━━━━━━━━\u001b[0m\u001b[37m\u001b[0m \u001b[1m2s\u001b[0m 2ms/step - accuracy: 0.3475 - loss: 1.8731 - val_accuracy: 0.3450 - val_loss: 1.8813\n",
            "Epoch 35/40\n",
            "\u001b[1m782/782\u001b[0m \u001b[32m━━━━━━━━━━━━━━━━━━━━\u001b[0m\u001b[37m\u001b[0m \u001b[1m2s\u001b[0m 2ms/step - accuracy: 0.3466 - loss: 1.8801 - val_accuracy: 0.3493 - val_loss: 1.8781\n",
            "Epoch 36/40\n",
            "\u001b[1m782/782\u001b[0m \u001b[32m━━━━━━━━━━━━━━━━━━━━\u001b[0m\u001b[37m\u001b[0m \u001b[1m2s\u001b[0m 2ms/step - accuracy: 0.3484 - loss: 1.8712 - val_accuracy: 0.3472 - val_loss: 1.8757\n",
            "Epoch 37/40\n",
            "\u001b[1m782/782\u001b[0m \u001b[32m━━━━━━━━━━━━━━━━━━━━\u001b[0m\u001b[37m\u001b[0m \u001b[1m2s\u001b[0m 2ms/step - accuracy: 0.3465 - loss: 1.8731 - val_accuracy: 0.3489 - val_loss: 1.8737\n",
            "Epoch 38/40\n",
            "\u001b[1m782/782\u001b[0m \u001b[32m━━━━━━━━━━━━━━━━━━━━\u001b[0m\u001b[37m\u001b[0m \u001b[1m2s\u001b[0m 2ms/step - accuracy: 0.3481 - loss: 1.8711 - val_accuracy: 0.3482 - val_loss: 1.8708\n",
            "Epoch 39/40\n",
            "\u001b[1m782/782\u001b[0m \u001b[32m━━━━━━━━━━━━━━━━━━━━\u001b[0m\u001b[37m\u001b[0m \u001b[1m2s\u001b[0m 2ms/step - accuracy: 0.3497 - loss: 1.8647 - val_accuracy: 0.3507 - val_loss: 1.8688\n",
            "Epoch 40/40\n",
            "\u001b[1m782/782\u001b[0m \u001b[32m━━━━━━━━━━━━━━━━━━━━\u001b[0m\u001b[37m\u001b[0m \u001b[1m2s\u001b[0m 2ms/step - accuracy: 0.3498 - loss: 1.8650 - val_accuracy: 0.3467 - val_loss: 1.8670\n"
          ]
        }
      ]
    },
    {
      "cell_type": "code",
      "source": [
        "# Evaluate on the test set\n",
        "test_loss, test_accuracy = linear_probe_model.evaluate(x_test, y_test)\n",
        "print(f\"Test Accuracy: {test_accuracy * 100:.2f}%\")\n"
      ],
      "metadata": {
        "colab": {
          "base_uri": "https://localhost:8080/"
        },
        "id": "t_X1Y63ybcqu",
        "outputId": "8e4c95bd-aac6-4d6e-98e8-24b5b0e998f0"
      },
      "execution_count": 15,
      "outputs": [
        {
          "output_type": "stream",
          "name": "stdout",
          "text": [
            "\u001b[1m313/313\u001b[0m \u001b[32m━━━━━━━━━━━━━━━━━━━━\u001b[0m\u001b[37m\u001b[0m \u001b[1m2s\u001b[0m 2ms/step - accuracy: 0.3511 - loss: 1.8661\n",
            "Test Accuracy: 34.67%\n"
          ]
        }
      ]
    },
    {
      "cell_type": "code",
      "source": [],
      "metadata": {
        "id": "6b67SfxYo1Zu"
      },
      "execution_count": 15,
      "outputs": []
    }
  ]
}
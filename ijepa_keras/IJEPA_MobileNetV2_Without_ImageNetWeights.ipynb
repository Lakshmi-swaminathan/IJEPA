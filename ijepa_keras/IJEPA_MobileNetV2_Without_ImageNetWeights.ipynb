{
  "nbformat": 4,
  "nbformat_minor": 0,
  "metadata": {
    "colab": {
      "provenance": [],
      "machine_shape": "hm",
      "gpuType": "V28"
    },
    "kernelspec": {
      "name": "python3",
      "display_name": "Python 3"
    },
    "language_info": {
      "name": "python"
    },
    "accelerator": "TPU"
  },
  "cells": [
    {
      "cell_type": "code",
      "execution_count": 2,
      "metadata": {
        "id": "QRUwDfbt6QFE"
      },
      "outputs": [],
      "source": [
        "from datetime import datetime\n",
        "import tensorflow as tf\n",
        "\n",
        "from tensorflow.keras.datasets import cifar10\n",
        "from tensorflow.keras.optimizers import Adam\n",
        "from tensorflow.keras.losses import MeanSquaredError\n",
        "from tensorflow.keras.models import load_model, Model\n",
        "from google.colab import drive\n",
        "import sys\n",
        "import os\n",
        "sys.path.append('/content')\n",
        "\n",
        "from ijepa_keras.utils.encoder import MobileNetV2Encoder\n",
        "from ijepa_keras.utils.pretrain import JEPA\n",
        "from ijepa_keras.utils.predictor import MobileNetV2Predictor\n",
        "from ijepa_keras.utils.plotting import plot_training_history\n"
      ]
    },
    {
      "cell_type": "code",
      "source": [
        "drive.mount('/content/drive')"
      ],
      "metadata": {
        "colab": {
          "base_uri": "https://localhost:8080/"
        },
        "id": "3Y4gWhCg7V2m",
        "outputId": "a4965fc1-4c6b-49c9-82c3-0b62a31cfee6"
      },
      "execution_count": 4,
      "outputs": [
        {
          "output_type": "stream",
          "name": "stdout",
          "text": [
            "Mounted at /content/drive\n"
          ]
        }
      ]
    },
    {
      "cell_type": "code",
      "source": [
        "\n",
        "EPOCHS = 25\n",
        "BATCH_SIZE = 32\n",
        "SAVE_MODEL_PATH = '/content/drive/MyDrive/IJEPA_MobileNetV2_Without_Imagenet_Weights'"
      ],
      "metadata": {
        "id": "aTzkIU5H7YMe"
      },
      "execution_count": 5,
      "outputs": []
    },
    {
      "cell_type": "code",
      "source": [
        "# Load CIFAR-10 dataset\n",
        "(x_train, y_train), (x_test, y_test) = cifar10.load_data()"
      ],
      "metadata": {
        "colab": {
          "base_uri": "https://localhost:8080/"
        },
        "id": "4iZvMGyR7fWx",
        "outputId": "63868a8c-dbc8-4367-feed-718d44dfb045"
      },
      "execution_count": 6,
      "outputs": [
        {
          "output_type": "stream",
          "name": "stdout",
          "text": [
            "Downloading data from https://www.cs.toronto.edu/~kriz/cifar-10-python.tar.gz\n",
            "\u001b[1m170498071/170498071\u001b[0m \u001b[32m━━━━━━━━━━━━━━━━━━━━\u001b[0m\u001b[37m\u001b[0m \u001b[1m2s\u001b[0m 0us/step\n"
          ]
        }
      ]
    },
    {
      "cell_type": "code",
      "source": [
        "# Initialize MobileNet V2 encoder\n",
        "encoder = MobileNetV2Encoder()\n",
        "context_encoder = encoder.get_context_encoder()\n",
        "target_encoder = encoder.get_target_encoder()"
      ],
      "metadata": {
        "id": "JBcY-t2J7iEO"
      },
      "execution_count": 7,
      "outputs": []
    },
    {
      "cell_type": "code",
      "source": [
        "# Initialize VGG16 predictor\n",
        "predictor = MobileNetV2Predictor()\n",
        "predictor_model = predictor.get_predictor()"
      ],
      "metadata": {
        "id": "-L19Ff3c7lho"
      },
      "execution_count": 8,
      "outputs": []
    },
    {
      "cell_type": "code",
      "source": [
        "# I-JEPA Pretraining\n",
        "jepa = JEPA(context_encoder=context_encoder,\n",
        "             target_encoder=target_encoder,\n",
        "             predictor_model=predictor_model,\n",
        "             optimizer=Adam(),\n",
        "             loss_fn=MeanSquaredError(),\n",
        "             model_save_path=SAVE_MODEL_PATH)"
      ],
      "metadata": {
        "id": "dSYGdw7q7qU4"
      },
      "execution_count": 9,
      "outputs": []
    },
    {
      "cell_type": "code",
      "source": [
        "jepa.train(x_train, epochs=EPOCHS, batch_size=BATCH_SIZE)"
      ],
      "metadata": {
        "colab": {
          "base_uri": "https://localhost:8080/"
        },
        "id": "VxQXhfdo7rGG",
        "outputId": "c92ebcc8-1933-4282-a72f-b2810c83e136"
      },
      "execution_count": 10,
      "outputs": [
        {
          "metadata": {
            "tags": null
          },
          "name": "stderr",
          "output_type": "stream",
          "text": [
            "Epoch 1/25:   0%|          | 0/1562 [00:00<?, ?batch/s]/usr/local/lib/python3.10/dist-packages/keras/src/optimizers/base_optimizer.py:678: UserWarning: Gradients do not exist for variables ['kernel', 'gamma', 'beta', 'kernel', 'gamma', 'beta', 'kernel', 'gamma', 'beta', 'kernel', 'gamma', 'beta', 'kernel', 'gamma', 'beta', 'kernel', 'gamma', 'beta', 'kernel', 'gamma', 'beta', 'kernel', 'gamma', 'beta', 'kernel', 'gamma', 'beta', 'kernel', 'gamma', 'beta', 'kernel', 'gamma', 'beta', 'kernel', 'gamma', 'beta', 'kernel', 'gamma', 'beta', 'kernel', 'gamma', 'beta', 'kernel', 'gamma', 'beta', 'kernel', 'gamma', 'beta', 'kernel', 'gamma', 'beta', 'kernel', 'gamma', 'beta', 'kernel', 'gamma', 'beta', 'kernel', 'gamma', 'beta', 'kernel', 'gamma', 'beta', 'kernel', 'gamma', 'beta', 'kernel', 'gamma', 'beta', 'kernel', 'gamma', 'beta', 'kernel', 'gamma', 'beta', 'kernel', 'gamma', 'beta', 'kernel', 'gamma', 'beta', 'kernel', 'gamma', 'beta', 'kernel', 'gamma', 'beta', 'kernel', 'gamma', 'beta', 'kernel', 'gamma', 'beta', 'kernel', 'gamma', 'beta', 'kernel', 'gamma', 'beta', 'kernel', 'gamma', 'beta', 'kernel', 'gamma', 'beta', 'kernel', 'gamma', 'beta', 'kernel', 'gamma', 'beta', 'kernel', 'gamma', 'beta', 'kernel', 'gamma', 'beta', 'kernel', 'gamma', 'beta', 'kernel', 'gamma', 'beta', 'kernel', 'gamma', 'beta', 'kernel', 'gamma', 'beta', 'kernel', 'gamma', 'beta', 'kernel', 'gamma', 'beta', 'kernel', 'gamma', 'beta', 'kernel', 'gamma', 'beta', 'kernel', 'gamma', 'beta', 'kernel', 'gamma', 'beta', 'kernel', 'gamma', 'beta', 'kernel', 'gamma', 'beta', 'kernel', 'gamma', 'beta'] when minimizing the loss. If using `model.compile()`, did you forget to provide a `loss` argument?\n",
            "  warnings.warn(\n",
            "Epoch 1/25: 100%|██████████| 1562/1562 [16:54<00:00,  1.54batch/s]\n"
          ]
        },
        {
          "metadata": {
            "tags": null
          },
          "name": "stdout",
          "output_type": "stream",
          "text": [
            "Epoch 1/25, Loss: 0.0003, Momentum: 0.9600\n",
            "Saving best models with loss:0.0003113190267088825...\n"
          ]
        },
        {
          "metadata": {
            "tags": null
          },
          "name": "stderr",
          "output_type": "stream",
          "text": [
            "Epoch 2/25: 100%|██████████| 1562/1562 [17:26<00:00,  1.49batch/s]\n"
          ]
        },
        {
          "metadata": {
            "tags": null
          },
          "name": "stdout",
          "output_type": "stream",
          "text": [
            "Epoch 2/25, Loss: 0.0000, Momentum: 0.9616\n",
            "Saving best models with loss:6.987360578176019e-26...\n"
          ]
        },
        {
          "metadata": {
            "tags": null
          },
          "name": "stderr",
          "output_type": "stream",
          "text": [
            "Epoch 3/25: 100%|██████████| 1562/1562 [17:05<00:00,  1.52batch/s]\n"
          ]
        },
        {
          "metadata": {
            "tags": null
          },
          "name": "stdout",
          "output_type": "stream",
          "text": [
            "Epoch 3/25, Loss: 0.0000, Momentum: 0.9632\n"
          ]
        },
        {
          "metadata": {
            "tags": null
          },
          "name": "stderr",
          "output_type": "stream",
          "text": [
            "Epoch 4/25: 100%|██████████| 1562/1562 [17:24<00:00,  1.50batch/s]\n"
          ]
        },
        {
          "metadata": {
            "tags": null
          },
          "name": "stdout",
          "output_type": "stream",
          "text": [
            "Epoch 4/25, Loss: 0.0000, Momentum: 0.9648\n"
          ]
        },
        {
          "metadata": {
            "tags": null
          },
          "name": "stderr",
          "output_type": "stream",
          "text": [
            "Epoch 5/25: 100%|██████████| 1562/1562 [17:18<00:00,  1.50batch/s]\n"
          ]
        },
        {
          "metadata": {
            "tags": null
          },
          "name": "stdout",
          "output_type": "stream",
          "text": [
            "Epoch 5/25, Loss: 0.0000, Momentum: 0.9664\n"
          ]
        },
        {
          "metadata": {
            "tags": null
          },
          "name": "stderr",
          "output_type": "stream",
          "text": [
            "Epoch 6/25: 100%|██████████| 1562/1562 [17:15<00:00,  1.51batch/s]\n"
          ]
        },
        {
          "metadata": {
            "tags": null
          },
          "name": "stdout",
          "output_type": "stream",
          "text": [
            "Epoch 6/25, Loss: 0.0000, Momentum: 0.9680\n",
            "Saving best models with loss:6.97804352212381e-26...\n"
          ]
        },
        {
          "metadata": {
            "tags": null
          },
          "name": "stderr",
          "output_type": "stream",
          "text": [
            "Epoch 7/25: 100%|██████████| 1562/1562 [17:12<00:00,  1.51batch/s]\n"
          ]
        },
        {
          "metadata": {
            "tags": null
          },
          "name": "stdout",
          "output_type": "stream",
          "text": [
            "Epoch 7/25, Loss: 0.0000, Momentum: 0.9696\n"
          ]
        },
        {
          "metadata": {
            "tags": null
          },
          "name": "stderr",
          "output_type": "stream",
          "text": [
            "Epoch 8/25: 100%|██████████| 1562/1562 [17:07<00:00,  1.52batch/s]\n"
          ]
        },
        {
          "metadata": {
            "tags": null
          },
          "name": "stdout",
          "output_type": "stream",
          "text": [
            "Epoch 8/25, Loss: 0.0000, Momentum: 0.9712\n"
          ]
        },
        {
          "metadata": {
            "tags": null
          },
          "name": "stderr",
          "output_type": "stream",
          "text": [
            "Epoch 9/25: 100%|██████████| 1562/1562 [17:08<00:00,  1.52batch/s]\n"
          ]
        },
        {
          "metadata": {
            "tags": null
          },
          "name": "stdout",
          "output_type": "stream",
          "text": [
            "Epoch 9/25, Loss: 0.0000, Momentum: 0.9728\n"
          ]
        },
        {
          "metadata": {
            "tags": null
          },
          "name": "stderr",
          "output_type": "stream",
          "text": [
            "Epoch 10/25: 100%|██████████| 1562/1562 [17:27<00:00,  1.49batch/s]\n"
          ]
        },
        {
          "metadata": {
            "tags": null
          },
          "name": "stdout",
          "output_type": "stream",
          "text": [
            "Epoch 10/25, Loss: 0.0000, Momentum: 0.9744\n"
          ]
        },
        {
          "metadata": {
            "tags": null
          },
          "name": "stderr",
          "output_type": "stream",
          "text": [
            "Epoch 11/25: 100%|██████████| 1562/1562 [17:16<00:00,  1.51batch/s]\n"
          ]
        },
        {
          "metadata": {
            "tags": null
          },
          "name": "stdout",
          "output_type": "stream",
          "text": [
            "Epoch 11/25, Loss: 0.0000, Momentum: 0.9760\n"
          ]
        },
        {
          "output_type": "stream",
          "name": "stderr",
          "text": [
            "Epoch 12/25: 100%|██████████| 1562/1562 [17:08<00:00,  1.52batch/s]\n"
          ]
        },
        {
          "output_type": "stream",
          "name": "stdout",
          "text": [
            "Epoch 12/25, Loss: 0.0000, Momentum: 0.9776\n",
            "Saving best models with loss:6.977425432070469e-26...\n"
          ]
        },
        {
          "output_type": "stream",
          "name": "stderr",
          "text": [
            "Epoch 13/25: 100%|██████████| 1562/1562 [17:11<00:00,  1.51batch/s]\n"
          ]
        },
        {
          "output_type": "stream",
          "name": "stdout",
          "text": [
            "Epoch 13/25, Loss: 0.0000, Momentum: 0.9792\n"
          ]
        },
        {
          "output_type": "stream",
          "name": "stderr",
          "text": [
            "Epoch 14/25: 100%|██████████| 1562/1562 [17:10<00:00,  1.52batch/s]\n"
          ]
        },
        {
          "output_type": "stream",
          "name": "stdout",
          "text": [
            "Epoch 14/25, Loss: 0.0000, Momentum: 0.9808\n"
          ]
        },
        {
          "output_type": "stream",
          "name": "stderr",
          "text": [
            "Epoch 15/25: 100%|██████████| 1562/1562 [17:09<00:00,  1.52batch/s]\n"
          ]
        },
        {
          "output_type": "stream",
          "name": "stdout",
          "text": [
            "Epoch 15/25, Loss: 0.0000, Momentum: 0.9824\n"
          ]
        },
        {
          "output_type": "stream",
          "name": "stderr",
          "text": [
            "Epoch 16/25: 100%|██████████| 1562/1562 [17:09<00:00,  1.52batch/s]\n"
          ]
        },
        {
          "output_type": "stream",
          "name": "stdout",
          "text": [
            "Epoch 16/25, Loss: 0.0000, Momentum: 0.9840\n",
            "Saving best models with loss:6.975662906998729e-26...\n"
          ]
        },
        {
          "output_type": "stream",
          "name": "stderr",
          "text": [
            "Epoch 17/25: 100%|██████████| 1562/1562 [17:20<00:00,  1.50batch/s]\n"
          ]
        },
        {
          "output_type": "stream",
          "name": "stdout",
          "text": [
            "Epoch 17/25, Loss: 0.0000, Momentum: 0.9856\n"
          ]
        },
        {
          "output_type": "stream",
          "name": "stderr",
          "text": [
            "Epoch 18/25: 100%|██████████| 1562/1562 [17:01<00:00,  1.53batch/s]\n"
          ]
        },
        {
          "output_type": "stream",
          "name": "stdout",
          "text": [
            "Epoch 18/25, Loss: 0.0000, Momentum: 0.9872\n"
          ]
        },
        {
          "output_type": "stream",
          "name": "stderr",
          "text": [
            "Epoch 19/25: 100%|██████████| 1562/1562 [17:11<00:00,  1.51batch/s]\n"
          ]
        },
        {
          "output_type": "stream",
          "name": "stdout",
          "text": [
            "Epoch 19/25, Loss: 0.0000, Momentum: 0.9888\n"
          ]
        },
        {
          "output_type": "stream",
          "name": "stderr",
          "text": [
            "Epoch 20/25: 100%|██████████| 1562/1562 [16:57<00:00,  1.53batch/s]\n"
          ]
        },
        {
          "output_type": "stream",
          "name": "stdout",
          "text": [
            "Epoch 20/25, Loss: 0.0000, Momentum: 0.9904\n"
          ]
        },
        {
          "output_type": "stream",
          "name": "stderr",
          "text": [
            "Epoch 21/25: 100%|██████████| 1562/1562 [16:55<00:00,  1.54batch/s]\n"
          ]
        },
        {
          "output_type": "stream",
          "name": "stdout",
          "text": [
            "Epoch 21/25, Loss: 0.0000, Momentum: 0.9920\n"
          ]
        },
        {
          "output_type": "stream",
          "name": "stderr",
          "text": [
            "Epoch 22/25: 100%|██████████| 1562/1562 [17:00<00:00,  1.53batch/s]\n"
          ]
        },
        {
          "output_type": "stream",
          "name": "stdout",
          "text": [
            "Epoch 22/25, Loss: 0.0000, Momentum: 0.9936\n"
          ]
        },
        {
          "output_type": "stream",
          "name": "stderr",
          "text": [
            "Epoch 23/25: 100%|██████████| 1562/1562 [17:00<00:00,  1.53batch/s]\n"
          ]
        },
        {
          "output_type": "stream",
          "name": "stdout",
          "text": [
            "Epoch 23/25, Loss: 0.0000, Momentum: 0.9952\n"
          ]
        },
        {
          "output_type": "stream",
          "name": "stderr",
          "text": [
            "Epoch 24/25: 100%|██████████| 1562/1562 [17:12<00:00,  1.51batch/s]\n"
          ]
        },
        {
          "output_type": "stream",
          "name": "stdout",
          "text": [
            "Epoch 24/25, Loss: 0.0000, Momentum: 0.9968\n"
          ]
        },
        {
          "output_type": "stream",
          "name": "stderr",
          "text": [
            "Epoch 25/25: 100%|██████████| 1562/1562 [16:55<00:00,  1.54batch/s]\n"
          ]
        },
        {
          "output_type": "stream",
          "name": "stdout",
          "text": [
            "Epoch 25/25, Loss: 0.0000, Momentum: 0.9984\n",
            "Saving best models with loss:6.963016704917395e-26...\n"
          ]
        }
      ]
    },
    {
      "cell_type": "code",
      "source": [
        "model_path = '/content/drive/MyDrive/IJEPA_MobileNetV2_Without_Imagenet_Weightsbest_target_encoder.keras'\n",
        "target_encoder  = tf.keras.models.load_model(model_path)\n",
        "# Load saved models from disk\n",
        "# target_encoder = load_model(os.path.join(SAVE_MODEL_PATH, \"best_target_encoder.keras\"))\n"
      ],
      "metadata": {
        "id": "CTdVQ_lM7tth"
      },
      "execution_count": 10,
      "outputs": []
    },
    {
      "cell_type": "code",
      "source": [
        "# Freeze the target encoder\n",
        "for layer in target_encoder.layers:\n",
        "    layer.trainable = False\n"
      ],
      "metadata": {
        "id": "IZGjqxMqdSdY"
      },
      "execution_count": 11,
      "outputs": []
    },
    {
      "cell_type": "code",
      "source": [
        "from tensorflow.keras.layers import Input, Dense\n",
        "from tensorflow.keras.models import Model\n",
        "\n",
        "# Build linear probing model\n",
        "def build_linear_probe_model(encoder, num_classes):\n",
        "    # Input for image\n",
        "    input_layer = Input(shape=(32, 32, 3), name=\"embedding input\")\n",
        "\n",
        "    # Pass input through the frozen encoder\n",
        "    x = encoder(input_layer)\n",
        "\n",
        "    # Add linear classification head\n",
        "    output_layer = Dense(num_classes, activation=\"softmax\", name=\"classification_head\")(x)\n",
        "\n",
        "    # Build model\n",
        "    model = Model(inputs=input_layer, outputs=output_layer)\n",
        "    return model\n"
      ],
      "metadata": {
        "id": "AZy78wdr73m9"
      },
      "execution_count": 12,
      "outputs": []
    },
    {
      "cell_type": "code",
      "source": [
        "# Create the linear probing model\n",
        "num_classes = 10  # CIFAR-10 has 10 classes\n",
        "linear_probe_model = build_linear_probe_model(target_encoder, num_classes)"
      ],
      "metadata": {
        "id": "mZg7-ZEs76d9"
      },
      "execution_count": 13,
      "outputs": []
    },
    {
      "cell_type": "code",
      "source": [
        "# Compile the model\n",
        "linear_probe_model.compile(\n",
        "    optimizer=Adam(),\n",
        "    loss=\"sparse_categorical_crossentropy\",\n",
        "    metrics=[\"accuracy\"]\n",
        ")"
      ],
      "metadata": {
        "id": "8FLQAODn8Khi"
      },
      "execution_count": 14,
      "outputs": []
    },
    {
      "cell_type": "code",
      "source": [
        "# Train the linear probing model\n",
        "history = linear_probe_model.fit(\n",
        "    x_train, y_train,\n",
        "    validation_data=(x_test, y_test),\n",
        "    batch_size=64,\n",
        "    epochs=60\n",
        ")"
      ],
      "metadata": {
        "colab": {
          "base_uri": "https://localhost:8080/"
        },
        "id": "1w-z4ZB78O8a",
        "outputId": "045472c5-1da8-4a6e-ac6d-021eb3445560"
      },
      "execution_count": 15,
      "outputs": [
        {
          "output_type": "stream",
          "name": "stdout",
          "text": [
            "Epoch 1/60\n",
            "\u001b[1m782/782\u001b[0m \u001b[32m━━━━━━━━━━━━━━━━━━━━\u001b[0m\u001b[37m\u001b[0m \u001b[1m319s\u001b[0m 367ms/step - accuracy: 0.2293 - loss: 2.1594 - val_accuracy: 0.1000 - val_loss: 2.3185\n",
            "Epoch 2/60\n",
            "\u001b[1m782/782\u001b[0m \u001b[32m━━━━━━━━━━━━━━━━━━━━\u001b[0m\u001b[37m\u001b[0m \u001b[1m315s\u001b[0m 359ms/step - accuracy: 0.4254 - loss: 1.5792 - val_accuracy: 0.1000 - val_loss: 2.3368\n",
            "Epoch 3/60\n",
            "\u001b[1m782/782\u001b[0m \u001b[32m━━━━━━━━━━━━━━━━━━━━\u001b[0m\u001b[37m\u001b[0m \u001b[1m319s\u001b[0m 355ms/step - accuracy: 0.4793 - loss: 1.4556 - val_accuracy: 0.1000 - val_loss: 2.3189\n",
            "Epoch 4/60\n",
            "\u001b[1m782/782\u001b[0m \u001b[32m━━━━━━━━━━━━━━━━━━━━\u001b[0m\u001b[37m\u001b[0m \u001b[1m322s\u001b[0m 355ms/step - accuracy: 0.4756 - loss: 1.4670 - val_accuracy: 0.1000 - val_loss: 2.3499\n",
            "Epoch 5/60\n",
            "\u001b[1m782/782\u001b[0m \u001b[32m━━━━━━━━━━━━━━━━━━━━\u001b[0m\u001b[37m\u001b[0m \u001b[1m277s\u001b[0m 354ms/step - accuracy: 0.5023 - loss: 1.3967 - val_accuracy: 0.1829 - val_loss: 2.2729\n",
            "Epoch 6/60\n",
            "\u001b[1m782/782\u001b[0m \u001b[32m━━━━━━━━━━━━━━━━━━━━\u001b[0m\u001b[37m\u001b[0m \u001b[1m329s\u001b[0m 363ms/step - accuracy: 0.5121 - loss: 1.3666 - val_accuracy: 0.3681 - val_loss: 1.8046\n",
            "Epoch 7/60\n",
            "\u001b[1m782/782\u001b[0m \u001b[32m━━━━━━━━━━━━━━━━━━━━\u001b[0m\u001b[37m\u001b[0m \u001b[1m316s\u001b[0m 355ms/step - accuracy: 0.5165 - loss: 1.4240 - val_accuracy: 0.3152 - val_loss: 2.8662\n",
            "Epoch 8/60\n",
            "\u001b[1m782/782\u001b[0m \u001b[32m━━━━━━━━━━━━━━━━━━━━\u001b[0m\u001b[37m\u001b[0m \u001b[1m338s\u001b[0m 376ms/step - accuracy: 0.5839 - loss: 1.1792 - val_accuracy: 0.4644 - val_loss: 2.8599\n",
            "Epoch 9/60\n",
            "\u001b[1m782/782\u001b[0m \u001b[32m━━━━━━━━━━━━━━━━━━━━\u001b[0m\u001b[37m\u001b[0m \u001b[1m352s\u001b[0m 414ms/step - accuracy: 0.6123 - loss: 1.1085 - val_accuracy: 0.4247 - val_loss: 3.0608\n",
            "Epoch 10/60\n",
            "\u001b[1m782/782\u001b[0m \u001b[32m━━━━━━━━━━━━━━━━━━━━\u001b[0m\u001b[37m\u001b[0m \u001b[1m374s\u001b[0m 404ms/step - accuracy: 0.5834 - loss: 1.2244 - val_accuracy: 0.5177 - val_loss: 2.5914\n",
            "Epoch 11/60\n",
            "\u001b[1m782/782\u001b[0m \u001b[32m━━━━━━━━━━━━━━━━━━━━\u001b[0m\u001b[37m\u001b[0m \u001b[1m316s\u001b[0m 397ms/step - accuracy: 0.6119 - loss: 1.1049 - val_accuracy: 0.1856 - val_loss: 7.4958\n",
            "Epoch 12/60\n",
            "\u001b[1m782/782\u001b[0m \u001b[32m━━━━━━━━━━━━━━━━━━━━\u001b[0m\u001b[37m\u001b[0m \u001b[1m322s\u001b[0m 412ms/step - accuracy: 0.5466 - loss: 1.3098 - val_accuracy: 0.4104 - val_loss: 2.7622\n",
            "Epoch 13/60\n",
            "\u001b[1m782/782\u001b[0m \u001b[32m━━━━━━━━━━━━━━━━━━━━\u001b[0m\u001b[37m\u001b[0m \u001b[1m382s\u001b[0m 412ms/step - accuracy: 0.6282 - loss: 1.0531 - val_accuracy: 0.5555 - val_loss: 1.8339\n",
            "Epoch 14/60\n",
            "\u001b[1m782/782\u001b[0m \u001b[32m━━━━━━━━━━━━━━━━━━━━\u001b[0m\u001b[37m\u001b[0m \u001b[1m382s\u001b[0m 413ms/step - accuracy: 0.6468 - loss: 1.0159 - val_accuracy: 0.4176 - val_loss: 3.1223\n",
            "Epoch 15/60\n",
            "\u001b[1m782/782\u001b[0m \u001b[32m━━━━━━━━━━━━━━━━━━━━\u001b[0m\u001b[37m\u001b[0m \u001b[1m387s\u001b[0m 419ms/step - accuracy: 0.5992 - loss: 1.1668 - val_accuracy: 0.3712 - val_loss: 3.5122\n",
            "Epoch 16/60\n",
            "\u001b[1m782/782\u001b[0m \u001b[32m━━━━━━━━━━━━━━━━━━━━\u001b[0m\u001b[37m\u001b[0m \u001b[1m325s\u001b[0m 416ms/step - accuracy: 0.6453 - loss: 1.0223 - val_accuracy: 0.5491 - val_loss: 1.5976\n",
            "Epoch 17/60\n",
            "\u001b[1m782/782\u001b[0m \u001b[32m━━━━━━━━━━━━━━━━━━━━\u001b[0m\u001b[37m\u001b[0m \u001b[1m376s\u001b[0m 408ms/step - accuracy: 0.6734 - loss: 0.9331 - val_accuracy: 0.6470 - val_loss: 1.2177\n",
            "Epoch 18/60\n",
            "\u001b[1m782/782\u001b[0m \u001b[32m━━━━━━━━━━━━━━━━━━━━\u001b[0m\u001b[37m\u001b[0m \u001b[1m328s\u001b[0m 416ms/step - accuracy: 0.7022 - loss: 0.8469 - val_accuracy: 0.2350 - val_loss: 6.6390\n",
            "Epoch 19/60\n",
            "\u001b[1m782/782\u001b[0m \u001b[32m━━━━━━━━━━━━━━━━━━━━\u001b[0m\u001b[37m\u001b[0m \u001b[1m383s\u001b[0m 417ms/step - accuracy: 0.6638 - loss: 0.9739 - val_accuracy: 0.5485 - val_loss: 1.7729\n",
            "Epoch 20/60\n",
            "\u001b[1m782/782\u001b[0m \u001b[32m━━━━━━━━━━━━━━━━━━━━\u001b[0m\u001b[37m\u001b[0m \u001b[1m380s\u001b[0m 415ms/step - accuracy: 0.7092 - loss: 0.8302 - val_accuracy: 0.6683 - val_loss: 1.0580\n",
            "Epoch 21/60\n",
            "\u001b[1m782/782\u001b[0m \u001b[32m━━━━━━━━━━━━━━━━━━━━\u001b[0m\u001b[37m\u001b[0m \u001b[1m366s\u001b[0m 395ms/step - accuracy: 0.7458 - loss: 0.7227 - val_accuracy: 0.6307 - val_loss: 1.2278\n",
            "Epoch 22/60\n",
            "\u001b[1m782/782\u001b[0m \u001b[32m━━━━━━━━━━━━━━━━━━━━\u001b[0m\u001b[37m\u001b[0m \u001b[1m326s\u001b[0m 417ms/step - accuracy: 0.7476 - loss: 0.7168 - val_accuracy: 0.6830 - val_loss: 1.0275\n",
            "Epoch 23/60\n",
            "\u001b[1m782/782\u001b[0m \u001b[32m━━━━━━━━━━━━━━━━━━━━\u001b[0m\u001b[37m\u001b[0m \u001b[1m384s\u001b[0m 420ms/step - accuracy: 0.7688 - loss: 0.6604 - val_accuracy: 0.6632 - val_loss: 1.1589\n",
            "Epoch 24/60\n",
            "\u001b[1m782/782\u001b[0m \u001b[32m━━━━━━━━━━━━━━━━━━━━\u001b[0m\u001b[37m\u001b[0m \u001b[1m331s\u001b[0m 424ms/step - accuracy: 0.7691 - loss: 0.6584 - val_accuracy: 0.6641 - val_loss: 1.3721\n",
            "Epoch 25/60\n",
            "\u001b[1m782/782\u001b[0m \u001b[32m━━━━━━━━━━━━━━━━━━━━\u001b[0m\u001b[37m\u001b[0m \u001b[1m326s\u001b[0m 417ms/step - accuracy: 0.7704 - loss: 0.6646 - val_accuracy: 0.4136 - val_loss: 2.4266\n",
            "Epoch 26/60\n",
            "\u001b[1m782/782\u001b[0m \u001b[32m━━━━━━━━━━━━━━━━━━━━\u001b[0m\u001b[37m\u001b[0m \u001b[1m383s\u001b[0m 419ms/step - accuracy: 0.6853 - loss: 0.9315 - val_accuracy: 0.6464 - val_loss: 1.2612\n",
            "Epoch 27/60\n",
            "\u001b[1m782/782\u001b[0m \u001b[32m━━━━━━━━━━━━━━━━━━━━\u001b[0m\u001b[37m\u001b[0m \u001b[1m336s\u001b[0m 430ms/step - accuracy: 0.7677 - loss: 0.6658 - val_accuracy: 0.6867 - val_loss: 1.0329\n",
            "Epoch 28/60\n",
            "\u001b[1m782/782\u001b[0m \u001b[32m━━━━━━━━━━━━━━━━━━━━\u001b[0m\u001b[37m\u001b[0m \u001b[1m377s\u001b[0m 424ms/step - accuracy: 0.7922 - loss: 0.5936 - val_accuracy: 0.7014 - val_loss: 0.9685\n",
            "Epoch 29/60\n",
            "\u001b[1m782/782\u001b[0m \u001b[32m━━━━━━━━━━━━━━━━━━━━\u001b[0m\u001b[37m\u001b[0m \u001b[1m376s\u001b[0m 416ms/step - accuracy: 0.8122 - loss: 0.5343 - val_accuracy: 0.7064 - val_loss: 0.9964\n",
            "Epoch 30/60\n",
            "\u001b[1m782/782\u001b[0m \u001b[32m━━━━━━━━━━━━━━━━━━━━\u001b[0m\u001b[37m\u001b[0m \u001b[1m381s\u001b[0m 415ms/step - accuracy: 0.8214 - loss: 0.5153 - val_accuracy: 0.6684 - val_loss: 1.2180\n",
            "Epoch 31/60\n",
            "\u001b[1m782/782\u001b[0m \u001b[32m━━━━━━━━━━━━━━━━━━━━\u001b[0m\u001b[37m\u001b[0m \u001b[1m380s\u001b[0m 413ms/step - accuracy: 0.8113 - loss: 0.5398 - val_accuracy: 0.7004 - val_loss: 1.0603\n",
            "Epoch 32/60\n",
            "\u001b[1m782/782\u001b[0m \u001b[32m━━━━━━━━━━━━━━━━━━━━\u001b[0m\u001b[37m\u001b[0m \u001b[1m384s\u001b[0m 415ms/step - accuracy: 0.8281 - loss: 0.4847 - val_accuracy: 0.1999 - val_loss: 10.3937\n",
            "Epoch 33/60\n",
            "\u001b[1m782/782\u001b[0m \u001b[32m━━━━━━━━━━━━━━━━━━━━\u001b[0m\u001b[37m\u001b[0m \u001b[1m381s\u001b[0m 414ms/step - accuracy: 0.6600 - loss: 0.9741 - val_accuracy: 0.6273 - val_loss: 1.4094\n",
            "Epoch 34/60\n",
            "\u001b[1m782/782\u001b[0m \u001b[32m━━━━━━━━━━━━━━━━━━━━\u001b[0m\u001b[37m\u001b[0m \u001b[1m385s\u001b[0m 417ms/step - accuracy: 0.7873 - loss: 0.6037 - val_accuracy: 0.6819 - val_loss: 1.0646\n",
            "Epoch 35/60\n",
            "\u001b[1m782/782\u001b[0m \u001b[32m━━━━━━━━━━━━━━━━━━━━\u001b[0m\u001b[37m\u001b[0m \u001b[1m320s\u001b[0m 410ms/step - accuracy: 0.8306 - loss: 0.4887 - val_accuracy: 0.6448 - val_loss: 1.1534\n",
            "Epoch 36/60\n",
            "\u001b[1m782/782\u001b[0m \u001b[32m━━━━━━━━━━━━━━━━━━━━\u001b[0m\u001b[37m\u001b[0m \u001b[1m326s\u001b[0m 415ms/step - accuracy: 0.8185 - loss: 0.5136 - val_accuracy: 0.7198 - val_loss: 0.9085\n",
            "Epoch 37/60\n",
            "\u001b[1m782/782\u001b[0m \u001b[32m━━━━━━━━━━━━━━━━━━━━\u001b[0m\u001b[37m\u001b[0m \u001b[1m379s\u001b[0m 412ms/step - accuracy: 0.8521 - loss: 0.4241 - val_accuracy: 0.7002 - val_loss: 1.0537\n",
            "Epoch 38/60\n",
            "\u001b[1m782/782\u001b[0m \u001b[32m━━━━━━━━━━━━━━━━━━━━\u001b[0m\u001b[37m\u001b[0m \u001b[1m325s\u001b[0m 416ms/step - accuracy: 0.8672 - loss: 0.3810 - val_accuracy: 0.6841 - val_loss: 1.1278\n",
            "Epoch 39/60\n",
            "\u001b[1m782/782\u001b[0m \u001b[32m━━━━━━━━━━━━━━━━━━━━\u001b[0m\u001b[37m\u001b[0m \u001b[1m385s\u001b[0m 420ms/step - accuracy: 0.8761 - loss: 0.3591 - val_accuracy: 0.7112 - val_loss: 0.9970\n",
            "Epoch 40/60\n",
            "\u001b[1m782/782\u001b[0m \u001b[32m━━━━━━━━━━━━━━━━━━━━\u001b[0m\u001b[37m\u001b[0m \u001b[1m381s\u001b[0m 419ms/step - accuracy: 0.8671 - loss: 0.3781 - val_accuracy: 0.7227 - val_loss: 1.0254\n",
            "Epoch 41/60\n",
            "\u001b[1m782/782\u001b[0m \u001b[32m━━━━━━━━━━━━━━━━━━━━\u001b[0m\u001b[37m\u001b[0m \u001b[1m326s\u001b[0m 418ms/step - accuracy: 0.8845 - loss: 0.3296 - val_accuracy: 0.7230 - val_loss: 0.9969\n",
            "Epoch 42/60\n",
            "\u001b[1m782/782\u001b[0m \u001b[32m━━━━━━━━━━━━━━━━━━━━\u001b[0m\u001b[37m\u001b[0m \u001b[1m380s\u001b[0m 415ms/step - accuracy: 0.8866 - loss: 0.3236 - val_accuracy: 0.6908 - val_loss: 1.1800\n",
            "Epoch 43/60\n",
            "\u001b[1m782/782\u001b[0m \u001b[32m━━━━━━━━━━━━━━━━━━━━\u001b[0m\u001b[37m\u001b[0m \u001b[1m381s\u001b[0m 413ms/step - accuracy: 0.8831 - loss: 0.3374 - val_accuracy: 0.7220 - val_loss: 1.0412\n",
            "Epoch 44/60\n",
            "\u001b[1m782/782\u001b[0m \u001b[32m━━━━━━━━━━━━━━━━━━━━\u001b[0m\u001b[37m\u001b[0m \u001b[1m325s\u001b[0m 416ms/step - accuracy: 0.8915 - loss: 0.3105 - val_accuracy: 0.7129 - val_loss: 1.1138\n",
            "Epoch 45/60\n",
            "\u001b[1m782/782\u001b[0m \u001b[32m━━━━━━━━━━━━━━━━━━━━\u001b[0m\u001b[37m\u001b[0m \u001b[1m365s\u001b[0m 395ms/step - accuracy: 0.9013 - loss: 0.2807 - val_accuracy: 0.7240 - val_loss: 1.1114\n",
            "Epoch 46/60\n",
            "\u001b[1m782/782\u001b[0m \u001b[32m━━━━━━━━━━━━━━━━━━━━\u001b[0m\u001b[37m\u001b[0m \u001b[1m280s\u001b[0m 358ms/step - accuracy: 0.9049 - loss: 0.2657 - val_accuracy: 0.6979 - val_loss: 1.2409\n",
            "Epoch 47/60\n",
            "\u001b[1m782/782\u001b[0m \u001b[32m━━━━━━━━━━━━━━━━━━━━\u001b[0m\u001b[37m\u001b[0m \u001b[1m277s\u001b[0m 355ms/step - accuracy: 0.9170 - loss: 0.2373 - val_accuracy: 0.7193 - val_loss: 1.1433\n",
            "Epoch 48/60\n",
            "\u001b[1m782/782\u001b[0m \u001b[32m━━━━━━━━━━━━━━━━━━━━\u001b[0m\u001b[37m\u001b[0m \u001b[1m321s\u001b[0m 354ms/step - accuracy: 0.9095 - loss: 0.2614 - val_accuracy: 0.7162 - val_loss: 1.2237\n",
            "Epoch 49/60\n",
            "\u001b[1m782/782\u001b[0m \u001b[32m━━━━━━━━━━━━━━━━━━━━\u001b[0m\u001b[37m\u001b[0m \u001b[1m277s\u001b[0m 355ms/step - accuracy: 0.9239 - loss: 0.2170 - val_accuracy: 0.7296 - val_loss: 1.1258\n",
            "Epoch 50/60\n",
            "\u001b[1m782/782\u001b[0m \u001b[32m━━━━━━━━━━━━━━━━━━━━\u001b[0m\u001b[37m\u001b[0m \u001b[1m323s\u001b[0m 356ms/step - accuracy: 0.9283 - loss: 0.2007 - val_accuracy: 0.7175 - val_loss: 1.1879\n",
            "Epoch 51/60\n",
            "\u001b[1m782/782\u001b[0m \u001b[32m━━━━━━━━━━━━━━━━━━━━\u001b[0m\u001b[37m\u001b[0m \u001b[1m322s\u001b[0m 355ms/step - accuracy: 0.9230 - loss: 0.2196 - val_accuracy: 0.7324 - val_loss: 1.1662\n",
            "Epoch 52/60\n",
            "\u001b[1m782/782\u001b[0m \u001b[32m━━━━━━━━━━━━━━━━━━━━\u001b[0m\u001b[37m\u001b[0m \u001b[1m324s\u001b[0m 358ms/step - accuracy: 0.9323 - loss: 0.1892 - val_accuracy: 0.7214 - val_loss: 1.1886\n",
            "Epoch 53/60\n",
            "\u001b[1m782/782\u001b[0m \u001b[32m━━━━━━━━━━━━━━━━━━━━\u001b[0m\u001b[37m\u001b[0m \u001b[1m319s\u001b[0m 354ms/step - accuracy: 0.9335 - loss: 0.1874 - val_accuracy: 0.7392 - val_loss: 1.1877\n",
            "Epoch 54/60\n",
            "\u001b[1m782/782\u001b[0m \u001b[32m━━━━━━━━━━━━━━━━━━━━\u001b[0m\u001b[37m\u001b[0m \u001b[1m322s\u001b[0m 354ms/step - accuracy: 0.9382 - loss: 0.1721 - val_accuracy: 0.7130 - val_loss: 1.3248\n",
            "Epoch 55/60\n",
            "\u001b[1m782/782\u001b[0m \u001b[32m━━━━━━━━━━━━━━━━━━━━\u001b[0m\u001b[37m\u001b[0m \u001b[1m276s\u001b[0m 353ms/step - accuracy: 0.9144 - loss: 0.2448 - val_accuracy: 0.7340 - val_loss: 1.1780\n",
            "Epoch 56/60\n",
            "\u001b[1m782/782\u001b[0m \u001b[32m━━━━━━━━━━━━━━━━━━━━\u001b[0m\u001b[37m\u001b[0m \u001b[1m324s\u001b[0m 356ms/step - accuracy: 0.9410 - loss: 0.1663 - val_accuracy: 0.7103 - val_loss: 1.3376\n",
            "Epoch 57/60\n",
            "\u001b[1m782/782\u001b[0m \u001b[32m━━━━━━━━━━━━━━━━━━━━\u001b[0m\u001b[37m\u001b[0m \u001b[1m323s\u001b[0m 357ms/step - accuracy: 0.9278 - loss: 0.2099 - val_accuracy: 0.7296 - val_loss: 1.2409\n",
            "Epoch 58/60\n",
            "\u001b[1m782/782\u001b[0m \u001b[32m━━━━━━━━━━━━━━━━━━━━\u001b[0m\u001b[37m\u001b[0m \u001b[1m285s\u001b[0m 364ms/step - accuracy: 0.9484 - loss: 0.1447 - val_accuracy: 0.7108 - val_loss: 1.3473\n",
            "Epoch 59/60\n",
            "\u001b[1m782/782\u001b[0m \u001b[32m━━━━━━━━━━━━━━━━━━━━\u001b[0m\u001b[37m\u001b[0m \u001b[1m318s\u001b[0m 359ms/step - accuracy: 0.9426 - loss: 0.1649 - val_accuracy: 0.7350 - val_loss: 1.2164\n",
            "Epoch 60/60\n",
            "\u001b[1m782/782\u001b[0m \u001b[32m━━━━━━━━━━━━━━━━━━━━\u001b[0m\u001b[37m\u001b[0m \u001b[1m321s\u001b[0m 358ms/step - accuracy: 0.9503 - loss: 0.1414 - val_accuracy: 0.7217 - val_loss: 1.3460\n"
          ]
        }
      ]
    },
    {
      "cell_type": "code",
      "source": [
        "plot_training_history(history, SAVE_MODEL_PATH)"
      ],
      "metadata": {
        "id": "4n8LuCll8T2J"
      },
      "execution_count": 16,
      "outputs": []
    },
    {
      "cell_type": "code",
      "source": [],
      "metadata": {
        "id": "ElL9Aq7efwvP"
      },
      "execution_count": null,
      "outputs": []
    }
  ]
}
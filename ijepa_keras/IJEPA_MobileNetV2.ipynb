{
  "nbformat": 4,
  "nbformat_minor": 0,
  "metadata": {
    "colab": {
      "provenance": [],
      "machine_shape": "hm",
      "gpuType": "T4"
    },
    "kernelspec": {
      "name": "python3",
      "display_name": "Python 3"
    },
    "language_info": {
      "name": "python"
    },
    "accelerator": "GPU"
  },
  "cells": [
    {
      "cell_type": "code",
      "source": [
        "from datetime import datetime\n",
        "import tensorflow as tf\n",
        "\n",
        "from tensorflow.keras.datasets import cifar10\n",
        "from tensorflow.keras.optimizers import Adam\n",
        "from tensorflow.keras.losses import MeanSquaredError\n",
        "from tensorflow.keras.models import load_model, Model\n",
        "from google.colab import drive\n",
        "import sys\n",
        "import os\n",
        "sys.path.append('/content')\n",
        "\n",
        "from ijepa_keras.utils.encoder import MobileNetV2Encoder\n",
        "from ijepa_keras.utils.pretrain import JEPA\n",
        "from ijepa_keras.utils.predictor import MobileNetV2Predictor\n",
        "from ijepa_keras.utils.plotting import plot_training_history\n"
      ],
      "metadata": {
        "id": "lBvFcRzAoSvu"
      },
      "execution_count": 2,
      "outputs": []
    },
    {
      "cell_type": "code",
      "source": [
        "drive.mount('/content/drive')"
      ],
      "metadata": {
        "colab": {
          "base_uri": "https://localhost:8080/"
        },
        "id": "K9998cqetgnP",
        "outputId": "b40b10d6-694f-45eb-dde4-61e1932c4374"
      },
      "execution_count": 3,
      "outputs": [
        {
          "output_type": "stream",
          "name": "stdout",
          "text": [
            "Mounted at /content/drive\n"
          ]
        }
      ]
    },
    {
      "cell_type": "code",
      "source": [
        "\n",
        "EPOCHS = 100\n",
        "BATCH_SIZE = 32\n",
        "SAVE_MODEL_PATH = '/content/drive/MyDrive/IJEPA_MobileNetV2'"
      ],
      "metadata": {
        "id": "rnIKqP53rKJU"
      },
      "execution_count": 4,
      "outputs": []
    },
    {
      "cell_type": "code",
      "source": [
        "# Load CIFAR-10 dataset\n",
        "(x_train, y_train), (x_test, y_test) = cifar10.load_data()"
      ],
      "metadata": {
        "colab": {
          "base_uri": "https://localhost:8080/"
        },
        "id": "UMLBcGhtrRHw",
        "outputId": "b02105a6-2936-4fd7-b76e-fcbfe218b9de"
      },
      "execution_count": 5,
      "outputs": [
        {
          "output_type": "stream",
          "name": "stdout",
          "text": [
            "Downloading data from https://www.cs.toronto.edu/~kriz/cifar-10-python.tar.gz\n",
            "\u001b[1m170498071/170498071\u001b[0m \u001b[32m━━━━━━━━━━━━━━━━━━━━\u001b[0m\u001b[37m\u001b[0m \u001b[1m3s\u001b[0m 0us/step\n"
          ]
        }
      ]
    },
    {
      "cell_type": "code",
      "source": [
        "# Initialize MobileNet V2 encoder\n",
        "encoder = MobileNetV2Encoder()\n",
        "context_encoder = encoder.get_context_encoder()\n",
        "target_encoder = encoder.get_target_encoder()"
      ],
      "metadata": {
        "id": "Y4_3h2yJtN0r"
      },
      "execution_count": 6,
      "outputs": []
    },
    {
      "cell_type": "code",
      "source": [
        "# Initialize VGG16 predictor\n",
        "predictor = MobileNetV2Predictor()\n",
        "predictor_model = predictor.get_predictor()"
      ],
      "metadata": {
        "id": "anB9OR5itoUh"
      },
      "execution_count": 7,
      "outputs": []
    },
    {
      "cell_type": "code",
      "source": [
        "# I-JEPA Pretraining\n",
        "jepa = JEPA(context_encoder=context_encoder,\n",
        "             target_encoder=target_encoder,\n",
        "             predictor_model=predictor_model,\n",
        "             optimizer=Adam(),\n",
        "             loss_fn=MeanSquaredError(),\n",
        "             model_save_path=SAVE_MODEL_PATH)"
      ],
      "metadata": {
        "id": "UHd8KqvytrRF"
      },
      "execution_count": 8,
      "outputs": []
    },
    {
      "cell_type": "code",
      "source": [
        "jepa.train(x_train, epochs=EPOCHS, batch_size=BATCH_SIZE)"
      ],
      "metadata": {
        "colab": {
          "base_uri": "https://localhost:8080/"
        },
        "id": "l2yVGY03twT8",
        "outputId": "f2fb0a05-b470-479c-ab3f-2bea84e55fbf"
      },
      "execution_count": null,
      "outputs": [
        {
          "output_type": "stream",
          "name": "stderr",
          "text": [
            "\rEpoch 1/100:   0%|          | 0/1562 [00:00<?, ?batch/s]/usr/local/lib/python3.10/dist-packages/keras/src/optimizers/base_optimizer.py:678: UserWarning: Gradients do not exist for variables ['kernel', 'gamma', 'beta', 'kernel', 'gamma', 'beta', 'kernel', 'gamma', 'beta', 'kernel', 'gamma', 'beta', 'kernel', 'gamma', 'beta', 'kernel', 'gamma', 'beta', 'kernel', 'gamma', 'beta', 'kernel', 'gamma', 'beta', 'kernel', 'gamma', 'beta', 'kernel', 'gamma', 'beta', 'kernel', 'gamma', 'beta', 'kernel', 'gamma', 'beta', 'kernel', 'gamma', 'beta', 'kernel', 'gamma', 'beta', 'kernel', 'gamma', 'beta', 'kernel', 'gamma', 'beta', 'kernel', 'gamma', 'beta', 'kernel', 'gamma', 'beta', 'kernel', 'gamma', 'beta', 'kernel', 'gamma', 'beta', 'kernel', 'gamma', 'beta', 'kernel', 'gamma', 'beta', 'kernel', 'gamma', 'beta', 'kernel', 'gamma', 'beta', 'kernel', 'gamma', 'beta', 'kernel', 'gamma', 'beta', 'kernel', 'gamma', 'beta', 'kernel', 'gamma', 'beta', 'kernel', 'gamma', 'beta', 'kernel', 'gamma', 'beta', 'kernel', 'gamma', 'beta', 'kernel', 'gamma', 'beta', 'kernel', 'gamma', 'beta', 'kernel', 'gamma', 'beta', 'kernel', 'gamma', 'beta', 'kernel', 'gamma', 'beta', 'kernel', 'gamma', 'beta', 'kernel', 'gamma', 'beta', 'kernel', 'gamma', 'beta', 'kernel', 'gamma', 'beta', 'kernel', 'gamma', 'beta', 'kernel', 'gamma', 'beta', 'kernel', 'gamma', 'beta', 'kernel', 'gamma', 'beta', 'kernel', 'gamma', 'beta', 'kernel', 'gamma', 'beta', 'kernel', 'gamma', 'beta', 'kernel', 'gamma', 'beta', 'kernel', 'gamma', 'beta', 'kernel', 'gamma', 'beta', 'kernel', 'gamma', 'beta', 'kernel', 'gamma', 'beta'] when minimizing the loss. If using `model.compile()`, did you forget to provide a `loss` argument?\n",
            "  warnings.warn(\n",
            "Epoch 1/100: 100%|██████████| 1562/1562 [09:00<00:00,  2.89batch/s]\n"
          ]
        },
        {
          "output_type": "stream",
          "name": "stdout",
          "text": [
            "Epoch 1/100, Loss: 0.0087, Momentum: 0.9600\n",
            "Saving best models with loss:0.00874591620082118...\n"
          ]
        },
        {
          "output_type": "stream",
          "name": "stderr",
          "text": [
            "Epoch 2/100: 100%|██████████| 1562/1562 [08:56<00:00,  2.91batch/s]\n"
          ]
        },
        {
          "output_type": "stream",
          "name": "stdout",
          "text": [
            "Epoch 2/100, Loss: 0.0093, Momentum: 0.9604\n"
          ]
        },
        {
          "output_type": "stream",
          "name": "stderr",
          "text": [
            "Epoch 3/100: 100%|██████████| 1562/1562 [08:56<00:00,  2.91batch/s]\n"
          ]
        },
        {
          "output_type": "stream",
          "name": "stdout",
          "text": [
            "Epoch 3/100, Loss: 0.0089, Momentum: 0.9608\n"
          ]
        },
        {
          "output_type": "stream",
          "name": "stderr",
          "text": [
            "Epoch 4/100: 100%|██████████| 1562/1562 [08:59<00:00,  2.90batch/s]\n"
          ]
        },
        {
          "output_type": "stream",
          "name": "stdout",
          "text": [
            "Epoch 4/100, Loss: 0.0085, Momentum: 0.9612\n",
            "Saving best models with loss:0.0084965111322286...\n"
          ]
        },
        {
          "output_type": "stream",
          "name": "stderr",
          "text": [
            "Epoch 5/100: 100%|██████████| 1562/1562 [09:01<00:00,  2.88batch/s]\n"
          ]
        },
        {
          "output_type": "stream",
          "name": "stdout",
          "text": [
            "Epoch 5/100, Loss: 0.0075, Momentum: 0.9616\n",
            "Saving best models with loss:0.007499184537703999...\n"
          ]
        },
        {
          "output_type": "stream",
          "name": "stderr",
          "text": [
            "Epoch 6/100: 100%|██████████| 1562/1562 [09:06<00:00,  2.86batch/s]\n"
          ]
        },
        {
          "output_type": "stream",
          "name": "stdout",
          "text": [
            "Epoch 6/100, Loss: 0.0042, Momentum: 0.9620\n",
            "Saving best models with loss:0.004179295548178237...\n"
          ]
        },
        {
          "output_type": "stream",
          "name": "stderr",
          "text": [
            "Epoch 7/100: 100%|██████████| 1562/1562 [09:06<00:00,  2.86batch/s]\n"
          ]
        },
        {
          "output_type": "stream",
          "name": "stdout",
          "text": [
            "Epoch 7/100, Loss: 0.0041, Momentum: 0.9624\n",
            "Saving best models with loss:0.004099608184924771...\n"
          ]
        },
        {
          "output_type": "stream",
          "name": "stderr",
          "text": [
            "Epoch 8/100: 100%|██████████| 1562/1562 [09:05<00:00,  2.86batch/s]\n"
          ]
        },
        {
          "output_type": "stream",
          "name": "stdout",
          "text": [
            "Epoch 8/100, Loss: 0.0041, Momentum: 0.9628\n",
            "Saving best models with loss:0.0040644316642787235...\n"
          ]
        },
        {
          "output_type": "stream",
          "name": "stderr",
          "text": [
            "Epoch 9/100: 100%|██████████| 1562/1562 [09:06<00:00,  2.86batch/s]\n"
          ]
        },
        {
          "output_type": "stream",
          "name": "stdout",
          "text": [
            "Epoch 9/100, Loss: 0.0040, Momentum: 0.9632\n",
            "Saving best models with loss:0.004037005058728235...\n"
          ]
        },
        {
          "output_type": "stream",
          "name": "stderr",
          "text": [
            "Epoch 10/100: 100%|██████████| 1562/1562 [09:03<00:00,  2.87batch/s]\n"
          ]
        },
        {
          "output_type": "stream",
          "name": "stdout",
          "text": [
            "Epoch 10/100, Loss: 0.0040, Momentum: 0.9636\n",
            "Saving best models with loss:0.004026301478085832...\n"
          ]
        },
        {
          "output_type": "stream",
          "name": "stderr",
          "text": [
            "Epoch 11/100: 100%|██████████| 1562/1562 [09:04<00:00,  2.87batch/s]\n"
          ]
        },
        {
          "output_type": "stream",
          "name": "stdout",
          "text": [
            "Epoch 11/100, Loss: 0.0040, Momentum: 0.9640\n",
            "Saving best models with loss:0.004004268750796397...\n"
          ]
        },
        {
          "output_type": "stream",
          "name": "stderr",
          "text": [
            "Epoch 12/100: 100%|██████████| 1562/1562 [09:00<00:00,  2.89batch/s]\n"
          ]
        },
        {
          "output_type": "stream",
          "name": "stdout",
          "text": [
            "Epoch 12/100, Loss: 0.0040, Momentum: 0.9644\n",
            "Saving best models with loss:0.00399460602001968...\n"
          ]
        },
        {
          "output_type": "stream",
          "name": "stderr",
          "text": [
            "Epoch 13/100: 100%|██████████| 1562/1562 [09:00<00:00,  2.89batch/s]\n"
          ]
        },
        {
          "output_type": "stream",
          "name": "stdout",
          "text": [
            "Epoch 13/100, Loss: 0.0039, Momentum: 0.9648\n",
            "Saving best models with loss:0.003948906510645015...\n"
          ]
        },
        {
          "output_type": "stream",
          "name": "stderr",
          "text": [
            "Epoch 14/100: 100%|██████████| 1562/1562 [09:02<00:00,  2.88batch/s]\n"
          ]
        },
        {
          "output_type": "stream",
          "name": "stdout",
          "text": [
            "Epoch 14/100, Loss: 0.0038, Momentum: 0.9652\n",
            "Saving best models with loss:0.003833010878590402...\n"
          ]
        },
        {
          "output_type": "stream",
          "name": "stderr",
          "text": [
            "Epoch 15/100: 100%|██████████| 1562/1562 [09:07<00:00,  2.85batch/s]\n"
          ]
        },
        {
          "output_type": "stream",
          "name": "stdout",
          "text": [
            "Epoch 15/100, Loss: 0.0038, Momentum: 0.9656\n",
            "Saving best models with loss:0.003830316759289389...\n"
          ]
        },
        {
          "output_type": "stream",
          "name": "stderr",
          "text": [
            "Epoch 16/100: 100%|██████████| 1562/1562 [09:03<00:00,  2.87batch/s]\n"
          ]
        },
        {
          "output_type": "stream",
          "name": "stdout",
          "text": [
            "Epoch 16/100, Loss: 0.0038, Momentum: 0.9660\n",
            "Saving best models with loss:0.0038220635415549733...\n"
          ]
        },
        {
          "output_type": "stream",
          "name": "stderr",
          "text": [
            "Epoch 17/100: 100%|██████████| 1562/1562 [09:04<00:00,  2.87batch/s]\n"
          ]
        },
        {
          "output_type": "stream",
          "name": "stdout",
          "text": [
            "Epoch 17/100, Loss: 0.0038, Momentum: 0.9664\n",
            "Saving best models with loss:0.0038150843657987258...\n"
          ]
        },
        {
          "output_type": "stream",
          "name": "stderr",
          "text": [
            "Epoch 18/100: 100%|██████████| 1562/1562 [09:07<00:00,  2.85batch/s]\n"
          ]
        },
        {
          "output_type": "stream",
          "name": "stdout",
          "text": [
            "Epoch 18/100, Loss: 0.0038, Momentum: 0.9668\n"
          ]
        },
        {
          "output_type": "stream",
          "name": "stderr",
          "text": [
            "Epoch 19/100: 100%|██████████| 1562/1562 [09:03<00:00,  2.87batch/s]\n"
          ]
        },
        {
          "output_type": "stream",
          "name": "stdout",
          "text": [
            "Epoch 19/100, Loss: 0.0038, Momentum: 0.9672\n",
            "Saving best models with loss:0.003814449214833227...\n"
          ]
        },
        {
          "output_type": "stream",
          "name": "stderr",
          "text": [
            "Epoch 20/100: 100%|██████████| 1562/1562 [09:03<00:00,  2.87batch/s]\n"
          ]
        },
        {
          "output_type": "stream",
          "name": "stdout",
          "text": [
            "Epoch 20/100, Loss: 0.0038, Momentum: 0.9676\n",
            "Saving best models with loss:0.0037877608623377093...\n"
          ]
        },
        {
          "output_type": "stream",
          "name": "stderr",
          "text": [
            "Epoch 21/100: 100%|██████████| 1562/1562 [09:05<00:00,  2.86batch/s]\n"
          ]
        },
        {
          "output_type": "stream",
          "name": "stdout",
          "text": [
            "Epoch 21/100, Loss: 0.0038, Momentum: 0.9680\n"
          ]
        },
        {
          "output_type": "stream",
          "name": "stderr",
          "text": [
            "Epoch 22/100: 100%|██████████| 1562/1562 [09:03<00:00,  2.88batch/s]\n"
          ]
        },
        {
          "output_type": "stream",
          "name": "stdout",
          "text": [
            "Epoch 22/100, Loss: 0.0038, Momentum: 0.9684\n"
          ]
        },
        {
          "output_type": "stream",
          "name": "stderr",
          "text": [
            "Epoch 23/100: 100%|██████████| 1562/1562 [09:01<00:00,  2.89batch/s]\n"
          ]
        },
        {
          "output_type": "stream",
          "name": "stdout",
          "text": [
            "Epoch 23/100, Loss: 0.0038, Momentum: 0.9688\n",
            "Saving best models with loss:0.0037874090753581553...\n"
          ]
        },
        {
          "output_type": "stream",
          "name": "stderr",
          "text": [
            "Epoch 24/100: 100%|██████████| 1562/1562 [09:00<00:00,  2.89batch/s]\n"
          ]
        },
        {
          "output_type": "stream",
          "name": "stdout",
          "text": [
            "Epoch 24/100, Loss: 0.0038, Momentum: 0.9692\n",
            "Saving best models with loss:0.003777984813989764...\n"
          ]
        },
        {
          "output_type": "stream",
          "name": "stderr",
          "text": [
            "Epoch 25/100: 100%|██████████| 1562/1562 [09:04<00:00,  2.87batch/s]\n"
          ]
        },
        {
          "output_type": "stream",
          "name": "stdout",
          "text": [
            "Epoch 25/100, Loss: 0.0037, Momentum: 0.9696\n",
            "Saving best models with loss:0.003703092954541281...\n"
          ]
        },
        {
          "output_type": "stream",
          "name": "stderr",
          "text": [
            "Epoch 26/100: 100%|██████████| 1562/1562 [08:59<00:00,  2.89batch/s]\n"
          ]
        },
        {
          "output_type": "stream",
          "name": "stdout",
          "text": [
            "Epoch 26/100, Loss: 0.0034, Momentum: 0.9700\n",
            "Saving best models with loss:0.0034002044223840427...\n"
          ]
        },
        {
          "output_type": "stream",
          "name": "stderr",
          "text": [
            "Epoch 27/100: 100%|██████████| 1562/1562 [08:58<00:00,  2.90batch/s]\n"
          ]
        },
        {
          "output_type": "stream",
          "name": "stdout",
          "text": [
            "Epoch 27/100, Loss: 0.0034, Momentum: 0.9704\n",
            "Saving best models with loss:0.003388345530721694...\n"
          ]
        },
        {
          "output_type": "stream",
          "name": "stderr",
          "text": [
            "Epoch 28/100: 100%|██████████| 1562/1562 [08:59<00:00,  2.90batch/s]\n"
          ]
        },
        {
          "output_type": "stream",
          "name": "stdout",
          "text": [
            "Epoch 28/100, Loss: 0.0034, Momentum: 0.9708\n",
            "Saving best models with loss:0.0033835856078214058...\n"
          ]
        },
        {
          "output_type": "stream",
          "name": "stderr",
          "text": [
            "Epoch 29/100: 100%|██████████| 1562/1562 [08:58<00:00,  2.90batch/s]\n"
          ]
        },
        {
          "output_type": "stream",
          "name": "stdout",
          "text": [
            "Epoch 29/100, Loss: 0.0034, Momentum: 0.9712\n"
          ]
        },
        {
          "output_type": "stream",
          "name": "stderr",
          "text": [
            "Epoch 30/100: 100%|██████████| 1562/1562 [09:09<00:00,  2.84batch/s]\n"
          ]
        },
        {
          "output_type": "stream",
          "name": "stdout",
          "text": [
            "Epoch 30/100, Loss: 0.0034, Momentum: 0.9716\n",
            "Saving best models with loss:0.0033736133989108854...\n"
          ]
        },
        {
          "output_type": "stream",
          "name": "stderr",
          "text": [
            "Epoch 31/100: 100%|██████████| 1562/1562 [09:07<00:00,  2.85batch/s]\n"
          ]
        },
        {
          "output_type": "stream",
          "name": "stdout",
          "text": [
            "Epoch 31/100, Loss: 0.0034, Momentum: 0.9720\n"
          ]
        },
        {
          "output_type": "stream",
          "name": "stderr",
          "text": [
            "Epoch 32/100: 100%|██████████| 1562/1562 [09:06<00:00,  2.86batch/s]\n"
          ]
        },
        {
          "output_type": "stream",
          "name": "stdout",
          "text": [
            "Epoch 32/100, Loss: 0.0034, Momentum: 0.9724\n"
          ]
        },
        {
          "output_type": "stream",
          "name": "stderr",
          "text": [
            "Epoch 33/100: 100%|██████████| 1562/1562 [09:04<00:00,  2.87batch/s]\n"
          ]
        },
        {
          "output_type": "stream",
          "name": "stdout",
          "text": [
            "Epoch 33/100, Loss: 0.0034, Momentum: 0.9728\n"
          ]
        },
        {
          "output_type": "stream",
          "name": "stderr",
          "text": [
            "Epoch 34/100: 100%|██████████| 1562/1562 [09:02<00:00,  2.88batch/s]\n"
          ]
        },
        {
          "output_type": "stream",
          "name": "stdout",
          "text": [
            "Epoch 34/100, Loss: 0.0034, Momentum: 0.9732\n"
          ]
        },
        {
          "output_type": "stream",
          "name": "stderr",
          "text": [
            "Epoch 35/100: 100%|██████████| 1562/1562 [08:58<00:00,  2.90batch/s]\n"
          ]
        },
        {
          "output_type": "stream",
          "name": "stdout",
          "text": [
            "Epoch 35/100, Loss: 0.0034, Momentum: 0.9736\n",
            "Saving best models with loss:0.0033644919870087398...\n"
          ]
        },
        {
          "output_type": "stream",
          "name": "stderr",
          "text": [
            "Epoch 36/100: 100%|██████████| 1562/1562 [08:59<00:00,  2.89batch/s]\n"
          ]
        },
        {
          "output_type": "stream",
          "name": "stdout",
          "text": [
            "Epoch 36/100, Loss: 0.0034, Momentum: 0.9740\n"
          ]
        },
        {
          "output_type": "stream",
          "name": "stderr",
          "text": [
            "Epoch 37/100: 100%|██████████| 1562/1562 [08:59<00:00,  2.89batch/s]\n"
          ]
        },
        {
          "output_type": "stream",
          "name": "stdout",
          "text": [
            "Epoch 37/100, Loss: 0.0034, Momentum: 0.9744\n"
          ]
        },
        {
          "output_type": "stream",
          "name": "stderr",
          "text": [
            "Epoch 38/100: 100%|██████████| 1562/1562 [08:57<00:00,  2.91batch/s]\n"
          ]
        },
        {
          "output_type": "stream",
          "name": "stdout",
          "text": [
            "Epoch 38/100, Loss: 0.0034, Momentum: 0.9748\n"
          ]
        },
        {
          "output_type": "stream",
          "name": "stderr",
          "text": [
            "Epoch 39/100: 100%|██████████| 1562/1562 [08:59<00:00,  2.89batch/s]\n"
          ]
        },
        {
          "output_type": "stream",
          "name": "stdout",
          "text": [
            "Epoch 39/100, Loss: 0.0034, Momentum: 0.9752\n",
            "Saving best models with loss:0.0033560724214682885...\n"
          ]
        },
        {
          "output_type": "stream",
          "name": "stderr",
          "text": [
            "Epoch 40/100: 100%|██████████| 1562/1562 [09:00<00:00,  2.89batch/s]\n"
          ]
        },
        {
          "output_type": "stream",
          "name": "stdout",
          "text": [
            "Epoch 40/100, Loss: 0.0034, Momentum: 0.9756\n"
          ]
        },
        {
          "output_type": "stream",
          "name": "stderr",
          "text": [
            "Epoch 41/100: 100%|██████████| 1562/1562 [08:59<00:00,  2.90batch/s]\n"
          ]
        },
        {
          "output_type": "stream",
          "name": "stdout",
          "text": [
            "Epoch 41/100, Loss: 0.0034, Momentum: 0.9760\n",
            "Saving best models with loss:0.0033556232649222415...\n"
          ]
        },
        {
          "output_type": "stream",
          "name": "stderr",
          "text": [
            "Epoch 42/100: 100%|██████████| 1562/1562 [09:02<00:00,  2.88batch/s]\n"
          ]
        },
        {
          "output_type": "stream",
          "name": "stdout",
          "text": [
            "Epoch 42/100, Loss: 0.0034, Momentum: 0.9764\n"
          ]
        },
        {
          "output_type": "stream",
          "name": "stderr",
          "text": [
            "Epoch 43/100: 100%|██████████| 1562/1562 [09:01<00:00,  2.88batch/s]\n"
          ]
        },
        {
          "output_type": "stream",
          "name": "stdout",
          "text": [
            "Epoch 43/100, Loss: 0.0034, Momentum: 0.9768\n"
          ]
        },
        {
          "output_type": "stream",
          "name": "stderr",
          "text": [
            "Epoch 44/100: 100%|██████████| 1562/1562 [08:58<00:00,  2.90batch/s]\n"
          ]
        },
        {
          "output_type": "stream",
          "name": "stdout",
          "text": [
            "Epoch 44/100, Loss: 0.0034, Momentum: 0.9772\n",
            "Saving best models with loss:0.003351482979490609...\n"
          ]
        },
        {
          "output_type": "stream",
          "name": "stderr",
          "text": [
            "Epoch 45/100: 100%|██████████| 1562/1562 [08:59<00:00,  2.89batch/s]\n"
          ]
        },
        {
          "output_type": "stream",
          "name": "stdout",
          "text": [
            "Epoch 45/100, Loss: 0.0034, Momentum: 0.9776\n"
          ]
        },
        {
          "output_type": "stream",
          "name": "stderr",
          "text": [
            "Epoch 46/100: 100%|██████████| 1562/1562 [09:00<00:00,  2.89batch/s]\n"
          ]
        },
        {
          "output_type": "stream",
          "name": "stdout",
          "text": [
            "Epoch 46/100, Loss: 0.0034, Momentum: 0.9780\n"
          ]
        },
        {
          "output_type": "stream",
          "name": "stderr",
          "text": [
            "Epoch 47/100: 100%|██████████| 1562/1562 [09:01<00:00,  2.89batch/s]\n"
          ]
        },
        {
          "output_type": "stream",
          "name": "stdout",
          "text": [
            "Epoch 47/100, Loss: 0.0033, Momentum: 0.9784\n",
            "Saving best models with loss:0.0033426965581176853...\n"
          ]
        },
        {
          "output_type": "stream",
          "name": "stderr",
          "text": [
            "Epoch 48/100: 100%|██████████| 1562/1562 [08:58<00:00,  2.90batch/s]\n"
          ]
        },
        {
          "output_type": "stream",
          "name": "stdout",
          "text": [
            "Epoch 48/100, Loss: 0.0034, Momentum: 0.9788\n"
          ]
        },
        {
          "output_type": "stream",
          "name": "stderr",
          "text": [
            "Epoch 49/100: 100%|██████████| 1562/1562 [08:59<00:00,  2.89batch/s]\n"
          ]
        },
        {
          "output_type": "stream",
          "name": "stdout",
          "text": [
            "Epoch 49/100, Loss: 0.0034, Momentum: 0.9792\n"
          ]
        },
        {
          "output_type": "stream",
          "name": "stderr",
          "text": [
            "Epoch 50/100: 100%|██████████| 1562/1562 [08:58<00:00,  2.90batch/s]\n"
          ]
        },
        {
          "output_type": "stream",
          "name": "stdout",
          "text": [
            "Epoch 50/100, Loss: 0.0034, Momentum: 0.9796\n"
          ]
        },
        {
          "output_type": "stream",
          "name": "stderr",
          "text": [
            "Epoch 51/100: 100%|██████████| 1562/1562 [09:01<00:00,  2.89batch/s]\n"
          ]
        },
        {
          "output_type": "stream",
          "name": "stdout",
          "text": [
            "Epoch 51/100, Loss: 0.0034, Momentum: 0.9800\n"
          ]
        },
        {
          "output_type": "stream",
          "name": "stderr",
          "text": [
            "Epoch 52/100: 100%|██████████| 1562/1562 [09:02<00:00,  2.88batch/s]\n"
          ]
        },
        {
          "output_type": "stream",
          "name": "stdout",
          "text": [
            "Epoch 52/100, Loss: 0.0033, Momentum: 0.9804\n",
            "Saving best models with loss:0.0033180453531651563...\n"
          ]
        },
        {
          "output_type": "stream",
          "name": "stderr",
          "text": [
            "Epoch 53/100: 100%|██████████| 1562/1562 [08:59<00:00,  2.90batch/s]\n"
          ]
        },
        {
          "output_type": "stream",
          "name": "stdout",
          "text": [
            "Epoch 53/100, Loss: 0.0033, Momentum: 0.9808\n",
            "Saving best models with loss:0.0033174012657958495...\n"
          ]
        },
        {
          "output_type": "stream",
          "name": "stderr",
          "text": [
            "Epoch 54/100: 100%|██████████| 1562/1562 [09:00<00:00,  2.89batch/s]\n"
          ]
        },
        {
          "output_type": "stream",
          "name": "stdout",
          "text": [
            "Epoch 54/100, Loss: 0.0033, Momentum: 0.9812\n",
            "Saving best models with loss:0.0033123240319930885...\n"
          ]
        },
        {
          "output_type": "stream",
          "name": "stderr",
          "text": [
            "Epoch 55/100: 100%|██████████| 1562/1562 [09:00<00:00,  2.89batch/s]\n"
          ]
        },
        {
          "output_type": "stream",
          "name": "stdout",
          "text": [
            "Epoch 55/100, Loss: 0.0033, Momentum: 0.9816\n",
            "Saving best models with loss:0.003307375573510216...\n"
          ]
        },
        {
          "output_type": "stream",
          "name": "stderr",
          "text": [
            "Epoch 56/100: 100%|██████████| 1562/1562 [09:00<00:00,  2.89batch/s]\n"
          ]
        },
        {
          "output_type": "stream",
          "name": "stdout",
          "text": [
            "Epoch 56/100, Loss: 0.0033, Momentum: 0.9820\n",
            "Saving best models with loss:0.003303120848836041...\n"
          ]
        },
        {
          "output_type": "stream",
          "name": "stderr",
          "text": [
            "Epoch 57/100: 100%|██████████| 1562/1562 [08:59<00:00,  2.89batch/s]\n"
          ]
        },
        {
          "output_type": "stream",
          "name": "stdout",
          "text": [
            "Epoch 57/100, Loss: 0.0033, Momentum: 0.9824\n"
          ]
        },
        {
          "output_type": "stream",
          "name": "stderr",
          "text": [
            "Epoch 58/100: 100%|██████████| 1562/1562 [09:02<00:00,  2.88batch/s]\n"
          ]
        },
        {
          "output_type": "stream",
          "name": "stdout",
          "text": [
            "Epoch 58/100, Loss: 0.0033, Momentum: 0.9828\n"
          ]
        },
        {
          "output_type": "stream",
          "name": "stderr",
          "text": [
            "Epoch 59/100: 100%|██████████| 1562/1562 [08:59<00:00,  2.90batch/s]\n"
          ]
        },
        {
          "output_type": "stream",
          "name": "stdout",
          "text": [
            "Epoch 59/100, Loss: 0.0033, Momentum: 0.9832\n",
            "Saving best models with loss:0.003299148352017743...\n"
          ]
        },
        {
          "output_type": "stream",
          "name": "stderr",
          "text": [
            "Epoch 60/100: 100%|██████████| 1562/1562 [08:59<00:00,  2.90batch/s]\n"
          ]
        },
        {
          "output_type": "stream",
          "name": "stdout",
          "text": [
            "Epoch 60/100, Loss: 0.0033, Momentum: 0.9836\n"
          ]
        },
        {
          "output_type": "stream",
          "name": "stderr",
          "text": [
            "Epoch 61/100: 100%|██████████| 1562/1562 [09:00<00:00,  2.89batch/s]\n"
          ]
        },
        {
          "output_type": "stream",
          "name": "stdout",
          "text": [
            "Epoch 61/100, Loss: 0.0033, Momentum: 0.9840\n"
          ]
        },
        {
          "output_type": "stream",
          "name": "stderr",
          "text": [
            "Epoch 62/100: 100%|██████████| 1562/1562 [08:59<00:00,  2.89batch/s]\n"
          ]
        },
        {
          "output_type": "stream",
          "name": "stdout",
          "text": [
            "Epoch 62/100, Loss: 0.0033, Momentum: 0.9844\n",
            "Saving best models with loss:0.0032964172147312196...\n"
          ]
        },
        {
          "output_type": "stream",
          "name": "stderr",
          "text": [
            "Epoch 63/100: 100%|██████████| 1562/1562 [08:59<00:00,  2.90batch/s]\n"
          ]
        },
        {
          "output_type": "stream",
          "name": "stdout",
          "text": [
            "Epoch 63/100, Loss: 0.0033, Momentum: 0.9848\n"
          ]
        },
        {
          "output_type": "stream",
          "name": "stderr",
          "text": [
            "Epoch 64/100: 100%|██████████| 1562/1562 [09:00<00:00,  2.89batch/s]\n"
          ]
        },
        {
          "output_type": "stream",
          "name": "stdout",
          "text": [
            "Epoch 64/100, Loss: 0.0033, Momentum: 0.9852\n"
          ]
        },
        {
          "output_type": "stream",
          "name": "stderr",
          "text": [
            "Epoch 65/100: 100%|██████████| 1562/1562 [08:59<00:00,  2.89batch/s]\n"
          ]
        },
        {
          "output_type": "stream",
          "name": "stdout",
          "text": [
            "Epoch 65/100, Loss: 0.0033, Momentum: 0.9856\n"
          ]
        },
        {
          "output_type": "stream",
          "name": "stderr",
          "text": [
            "Epoch 66/100: 100%|██████████| 1562/1562 [08:58<00:00,  2.90batch/s]\n"
          ]
        },
        {
          "output_type": "stream",
          "name": "stdout",
          "text": [
            "Epoch 66/100, Loss: 0.0033, Momentum: 0.9860\n",
            "Saving best models with loss:0.00329293635427575...\n"
          ]
        },
        {
          "output_type": "stream",
          "name": "stderr",
          "text": [
            "Epoch 67/100: 100%|██████████| 1562/1562 [09:00<00:00,  2.89batch/s]\n"
          ]
        },
        {
          "output_type": "stream",
          "name": "stdout",
          "text": [
            "Epoch 67/100, Loss: 0.0033, Momentum: 0.9864\n"
          ]
        },
        {
          "output_type": "stream",
          "name": "stderr",
          "text": [
            "Epoch 68/100: 100%|██████████| 1562/1562 [09:06<00:00,  2.86batch/s]\n"
          ]
        },
        {
          "output_type": "stream",
          "name": "stdout",
          "text": [
            "Epoch 68/100, Loss: 0.0033, Momentum: 0.9868\n",
            "Saving best models with loss:0.0032917736101151468...\n"
          ]
        },
        {
          "output_type": "stream",
          "name": "stderr",
          "text": [
            "Epoch 69/100: 100%|██████████| 1562/1562 [09:02<00:00,  2.88batch/s]\n"
          ]
        },
        {
          "output_type": "stream",
          "name": "stdout",
          "text": [
            "Epoch 69/100, Loss: 0.0033, Momentum: 0.9872\n"
          ]
        },
        {
          "output_type": "stream",
          "name": "stderr",
          "text": [
            "Epoch 70/100:  62%|██████▏   | 969/1562 [05:36<03:22,  2.92batch/s]"
          ]
        }
      ]
    },
    {
      "cell_type": "code",
      "source": [
        "model_path = '/content/drive/MyDrive/IJEPA_MobileNetV2best_target_encoder.keras'\n",
        "target_encoder  = tf.keras.models.load_model(model_path)\n",
        "# Load saved models from disk\n",
        "# target_encoder = load_model(os.path.join(SAVE_MODEL_PATH, \"best_target_encoder.keras\"))\n"
      ],
      "metadata": {
        "id": "mVw6JlXyty7H"
      },
      "execution_count": 9,
      "outputs": []
    },
    {
      "cell_type": "code",
      "source": [
        "# Freeze the target encoder\n",
        "for layer in target_encoder.layers:\n",
        "    layer.trainable = False\n"
      ],
      "metadata": {
        "id": "qqVjbQ4Tt25R"
      },
      "execution_count": 10,
      "outputs": []
    },
    {
      "cell_type": "code",
      "source": [
        "from tensorflow.keras.layers import Input, Dense\n",
        "from tensorflow.keras.models import Model\n",
        "\n",
        "# Build linear probing model\n",
        "def build_linear_probe_model(encoder, num_classes):\n",
        "    # Input for image\n",
        "    input_layer = Input(shape=(32, 32, 3), name=\"embedding input\")\n",
        "\n",
        "    # Pass input through the frozen encoder\n",
        "    x = encoder(input_layer)\n",
        "\n",
        "    # Add linear classification head\n",
        "    output_layer = Dense(num_classes, activation=\"softmax\", name=\"classification_head\")(x)\n",
        "\n",
        "    # Build model\n",
        "    model = Model(inputs=input_layer, outputs=output_layer)\n",
        "    return model\n"
      ],
      "metadata": {
        "id": "VvLxuTIpt3uE"
      },
      "execution_count": 11,
      "outputs": []
    },
    {
      "cell_type": "code",
      "source": [
        "# Create the linear probing model\n",
        "num_classes = 10  # CIFAR-10 has 10 classes\n",
        "linear_probe_model = build_linear_probe_model(target_encoder, num_classes)"
      ],
      "metadata": {
        "id": "jaK7fDxUt6vr"
      },
      "execution_count": 12,
      "outputs": []
    },
    {
      "cell_type": "code",
      "source": [
        "# Compile the model\n",
        "linear_probe_model.compile(\n",
        "    optimizer=Adam(),\n",
        "    loss=\"sparse_categorical_crossentropy\",\n",
        "    metrics=[\"accuracy\"]\n",
        ")"
      ],
      "metadata": {
        "id": "g3WaeEgVt89M"
      },
      "execution_count": 13,
      "outputs": []
    },
    {
      "cell_type": "code",
      "source": [
        "# Train the linear probing model\n",
        "history = linear_probe_model.fit(\n",
        "    x_train, y_train,\n",
        "    validation_data=(x_test, y_test),\n",
        "    batch_size=64,\n",
        "    epochs=60\n",
        ")"
      ],
      "metadata": {
        "id": "E0XM8yuTuAHH",
        "colab": {
          "base_uri": "https://localhost:8080/"
        },
        "outputId": "a503d30f-c431-4d88-aff6-f07c094779ea"
      },
      "execution_count": 14,
      "outputs": [
        {
          "output_type": "stream",
          "name": "stdout",
          "text": [
            "Epoch 1/60\n",
            "\u001b[1m782/782\u001b[0m \u001b[32m━━━━━━━━━━━━━━━━━━━━\u001b[0m\u001b[37m\u001b[0m \u001b[1m285s\u001b[0m 325ms/step - accuracy: 0.4838 - loss: 1.6100 - val_accuracy: 0.3254 - val_loss: 4.6461\n",
            "Epoch 2/60\n",
            "\u001b[1m782/782\u001b[0m \u001b[32m━━━━━━━━━━━━━━━━━━━━\u001b[0m\u001b[37m\u001b[0m \u001b[1m263s\u001b[0m 327ms/step - accuracy: 0.6607 - loss: 1.0172 - val_accuracy: 0.4255 - val_loss: 3.3290\n",
            "Epoch 3/60\n",
            "\u001b[1m782/782\u001b[0m \u001b[32m━━━━━━━━━━━━━━━━━━━━\u001b[0m\u001b[37m\u001b[0m \u001b[1m262s\u001b[0m 335ms/step - accuracy: 0.5945 - loss: 1.2062 - val_accuracy: 0.3926 - val_loss: 2.2459\n",
            "Epoch 4/60\n",
            "\u001b[1m782/782\u001b[0m \u001b[32m━━━━━━━━━━━━━━━━━━━━\u001b[0m\u001b[37m\u001b[0m \u001b[1m256s\u001b[0m 327ms/step - accuracy: 0.6184 - loss: 1.1201 - val_accuracy: 0.2977 - val_loss: 4.8124\n",
            "Epoch 5/60\n",
            "\u001b[1m782/782\u001b[0m \u001b[32m━━━━━━━━━━━━━━━━━━━━\u001b[0m\u001b[37m\u001b[0m \u001b[1m257s\u001b[0m 321ms/step - accuracy: 0.6352 - loss: 1.0790 - val_accuracy: 0.2643 - val_loss: 4.1825\n",
            "Epoch 6/60\n",
            "\u001b[1m782/782\u001b[0m \u001b[32m━━━━━━━━━━━━━━━━━━━━\u001b[0m\u001b[37m\u001b[0m \u001b[1m266s\u001b[0m 326ms/step - accuracy: 0.5996 - loss: 1.1875 - val_accuracy: 0.3271 - val_loss: 2.9720\n",
            "Epoch 7/60\n",
            "\u001b[1m782/782\u001b[0m \u001b[32m━━━━━━━━━━━━━━━━━━━━\u001b[0m\u001b[37m\u001b[0m \u001b[1m261s\u001b[0m 325ms/step - accuracy: 0.5971 - loss: 1.1695 - val_accuracy: 0.3312 - val_loss: 5.3580\n",
            "Epoch 8/60\n",
            "\u001b[1m782/782\u001b[0m \u001b[32m━━━━━━━━━━━━━━━━━━━━\u001b[0m\u001b[37m\u001b[0m \u001b[1m254s\u001b[0m 325ms/step - accuracy: 0.6082 - loss: 1.1417 - val_accuracy: 0.5192 - val_loss: 1.9426\n",
            "Epoch 9/60\n",
            "\u001b[1m782/782\u001b[0m \u001b[32m━━━━━━━━━━━━━━━━━━━━\u001b[0m\u001b[37m\u001b[0m \u001b[1m261s\u001b[0m 325ms/step - accuracy: 0.5644 - loss: 1.2741 - val_accuracy: 0.4759 - val_loss: 2.3378\n",
            "Epoch 10/60\n",
            "\u001b[1m782/782\u001b[0m \u001b[32m━━━━━━━━━━━━━━━━━━━━\u001b[0m\u001b[37m\u001b[0m \u001b[1m264s\u001b[0m 327ms/step - accuracy: 0.6610 - loss: 0.9751 - val_accuracy: 0.3856 - val_loss: 3.9302\n",
            "Epoch 11/60\n",
            "\u001b[1m782/782\u001b[0m \u001b[32m━━━━━━━━━━━━━━━━━━━━\u001b[0m\u001b[37m\u001b[0m \u001b[1m259s\u001b[0m 323ms/step - accuracy: 0.6350 - loss: 1.0793 - val_accuracy: 0.5525 - val_loss: 1.8510\n",
            "Epoch 12/60\n",
            "\u001b[1m782/782\u001b[0m \u001b[32m━━━━━━━━━━━━━━━━━━━━\u001b[0m\u001b[37m\u001b[0m \u001b[1m258s\u001b[0m 330ms/step - accuracy: 0.6916 - loss: 0.8890 - val_accuracy: 0.6741 - val_loss: 1.1432\n",
            "Epoch 13/60\n",
            "\u001b[1m782/782\u001b[0m \u001b[32m━━━━━━━━━━━━━━━━━━━━\u001b[0m\u001b[37m\u001b[0m \u001b[1m258s\u001b[0m 324ms/step - accuracy: 0.7158 - loss: 0.8294 - val_accuracy: 0.3040 - val_loss: 4.2164\n",
            "Epoch 14/60\n",
            "\u001b[1m782/782\u001b[0m \u001b[32m━━━━━━━━━━━━━━━━━━━━\u001b[0m\u001b[37m\u001b[0m \u001b[1m264s\u001b[0m 327ms/step - accuracy: 0.6746 - loss: 0.9641 - val_accuracy: 0.6261 - val_loss: 1.2968\n",
            "Epoch 15/60\n",
            "\u001b[1m782/782\u001b[0m \u001b[32m━━━━━━━━━━━━━━━━━━━━\u001b[0m\u001b[37m\u001b[0m \u001b[1m260s\u001b[0m 324ms/step - accuracy: 0.6767 - loss: 0.9644 - val_accuracy: 0.5386 - val_loss: 1.8450\n",
            "Epoch 16/60\n",
            "\u001b[1m782/782\u001b[0m \u001b[32m━━━━━━━━━━━━━━━━━━━━\u001b[0m\u001b[37m\u001b[0m \u001b[1m265s\u001b[0m 328ms/step - accuracy: 0.7213 - loss: 0.8040 - val_accuracy: 0.6412 - val_loss: 1.2256\n",
            "Epoch 17/60\n",
            "\u001b[1m782/782\u001b[0m \u001b[32m━━━━━━━━━━━━━━━━━━━━\u001b[0m\u001b[37m\u001b[0m \u001b[1m265s\u001b[0m 331ms/step - accuracy: 0.6842 - loss: 0.9414 - val_accuracy: 0.3741 - val_loss: 2.8744\n",
            "Epoch 18/60\n",
            "\u001b[1m782/782\u001b[0m \u001b[32m━━━━━━━━━━━━━━━━━━━━\u001b[0m\u001b[37m\u001b[0m \u001b[1m257s\u001b[0m 328ms/step - accuracy: 0.6719 - loss: 0.9664 - val_accuracy: 0.5977 - val_loss: 1.5489\n",
            "Epoch 19/60\n",
            "\u001b[1m782/782\u001b[0m \u001b[32m━━━━━━━━━━━━━━━━━━━━\u001b[0m\u001b[37m\u001b[0m \u001b[1m261s\u001b[0m 328ms/step - accuracy: 0.7252 - loss: 0.8013 - val_accuracy: 0.4678 - val_loss: 1.9457\n",
            "Epoch 20/60\n",
            "\u001b[1m782/782\u001b[0m \u001b[32m━━━━━━━━━━━━━━━━━━━━\u001b[0m\u001b[37m\u001b[0m \u001b[1m260s\u001b[0m 325ms/step - accuracy: 0.6975 - loss: 0.9018 - val_accuracy: 0.6334 - val_loss: 1.2381\n",
            "Epoch 21/60\n",
            "\u001b[1m782/782\u001b[0m \u001b[32m━━━━━━━━━━━━━━━━━━━━\u001b[0m\u001b[37m\u001b[0m \u001b[1m254s\u001b[0m 324ms/step - accuracy: 0.7369 - loss: 0.7687 - val_accuracy: 0.6014 - val_loss: 1.3055\n",
            "Epoch 22/60\n",
            "\u001b[1m782/782\u001b[0m \u001b[32m━━━━━━━━━━━━━━━━━━━━\u001b[0m\u001b[37m\u001b[0m \u001b[1m261s\u001b[0m 323ms/step - accuracy: 0.7251 - loss: 0.8087 - val_accuracy: 0.6611 - val_loss: 1.1008\n",
            "Epoch 23/60\n",
            "\u001b[1m782/782\u001b[0m \u001b[32m━━━━━━━━━━━━━━━━━━━━\u001b[0m\u001b[37m\u001b[0m \u001b[1m261s\u001b[0m 322ms/step - accuracy: 0.7017 - loss: 0.8731 - val_accuracy: 0.3578 - val_loss: 3.5012\n",
            "Epoch 24/60\n",
            "\u001b[1m782/782\u001b[0m \u001b[32m━━━━━━━━━━━━━━━━━━━━\u001b[0m\u001b[37m\u001b[0m \u001b[1m255s\u001b[0m 326ms/step - accuracy: 0.6839 - loss: 0.9268 - val_accuracy: 0.6866 - val_loss: 0.9779\n",
            "Epoch 25/60\n",
            "\u001b[1m782/782\u001b[0m \u001b[32m━━━━━━━━━━━━━━━━━━━━\u001b[0m\u001b[37m\u001b[0m \u001b[1m254s\u001b[0m 325ms/step - accuracy: 0.7410 - loss: 0.7580 - val_accuracy: 0.6895 - val_loss: 0.9814\n",
            "Epoch 26/60\n",
            "\u001b[1m782/782\u001b[0m \u001b[32m━━━━━━━━━━━━━━━━━━━━\u001b[0m\u001b[37m\u001b[0m \u001b[1m267s\u001b[0m 332ms/step - accuracy: 0.7087 - loss: 0.8671 - val_accuracy: 0.6802 - val_loss: 1.0338\n",
            "Epoch 27/60\n",
            "\u001b[1m782/782\u001b[0m \u001b[32m━━━━━━━━━━━━━━━━━━━━\u001b[0m\u001b[37m\u001b[0m \u001b[1m256s\u001b[0m 325ms/step - accuracy: 0.7536 - loss: 0.7283 - val_accuracy: 0.7133 - val_loss: 0.8827\n",
            "Epoch 28/60\n",
            "\u001b[1m782/782\u001b[0m \u001b[32m━━━━━━━━━━━━━━━━━━━━\u001b[0m\u001b[37m\u001b[0m \u001b[1m259s\u001b[0m 321ms/step - accuracy: 0.7684 - loss: 0.6795 - val_accuracy: 0.7083 - val_loss: 0.8942\n",
            "Epoch 29/60\n",
            "\u001b[1m782/782\u001b[0m \u001b[32m━━━━━━━━━━━━━━━━━━━━\u001b[0m\u001b[37m\u001b[0m \u001b[1m253s\u001b[0m 324ms/step - accuracy: 0.7445 - loss: 0.7491 - val_accuracy: 0.5397 - val_loss: 1.7717\n",
            "Epoch 30/60\n",
            "\u001b[1m782/782\u001b[0m \u001b[32m━━━━━━━━━━━━━━━━━━━━\u001b[0m\u001b[37m\u001b[0m \u001b[1m264s\u001b[0m 326ms/step - accuracy: 0.6944 - loss: 0.9158 - val_accuracy: 0.5899 - val_loss: 1.4626\n",
            "Epoch 31/60\n",
            "\u001b[1m782/782\u001b[0m \u001b[32m━━━━━━━━━━━━━━━━━━━━\u001b[0m\u001b[37m\u001b[0m \u001b[1m255s\u001b[0m 326ms/step - accuracy: 0.7479 - loss: 0.7476 - val_accuracy: 0.7052 - val_loss: 0.9586\n",
            "Epoch 32/60\n",
            "\u001b[1m782/782\u001b[0m \u001b[32m━━━━━━━━━━━━━━━━━━━━\u001b[0m\u001b[37m\u001b[0m \u001b[1m259s\u001b[0m 322ms/step - accuracy: 0.7708 - loss: 0.6714 - val_accuracy: 0.4204 - val_loss: 2.8394\n",
            "Epoch 33/60\n",
            "\u001b[1m782/782\u001b[0m \u001b[32m━━━━━━━━━━━━━━━━━━━━\u001b[0m\u001b[37m\u001b[0m \u001b[1m252s\u001b[0m 323ms/step - accuracy: 0.7673 - loss: 0.6817 - val_accuracy: 0.7530 - val_loss: 0.7539\n",
            "Epoch 34/60\n",
            "\u001b[1m782/782\u001b[0m \u001b[32m━━━━━━━━━━━━━━━━━━━━\u001b[0m\u001b[37m\u001b[0m \u001b[1m267s\u001b[0m 329ms/step - accuracy: 0.7904 - loss: 0.6211 - val_accuracy: 0.7652 - val_loss: 0.7214\n",
            "Epoch 35/60\n",
            "\u001b[1m782/782\u001b[0m \u001b[32m━━━━━━━━━━━━━━━━━━━━\u001b[0m\u001b[37m\u001b[0m \u001b[1m255s\u001b[0m 327ms/step - accuracy: 0.8065 - loss: 0.5663 - val_accuracy: 0.7440 - val_loss: 0.8007\n",
            "Epoch 36/60\n",
            "\u001b[1m782/782\u001b[0m \u001b[32m━━━━━━━━━━━━━━━━━━━━\u001b[0m\u001b[37m\u001b[0m \u001b[1m259s\u001b[0m 324ms/step - accuracy: 0.8206 - loss: 0.5155 - val_accuracy: 0.6960 - val_loss: 1.0319\n",
            "Epoch 37/60\n",
            "\u001b[1m782/782\u001b[0m \u001b[32m━━━━━━━━━━━━━━━━━━━━\u001b[0m\u001b[37m\u001b[0m \u001b[1m260s\u001b[0m 321ms/step - accuracy: 0.8222 - loss: 0.5168 - val_accuracy: 0.4624 - val_loss: 3.0020\n",
            "Epoch 38/60\n",
            "\u001b[1m782/782\u001b[0m \u001b[32m━━━━━━━━━━━━━━━━━━━━\u001b[0m\u001b[37m\u001b[0m \u001b[1m264s\u001b[0m 324ms/step - accuracy: 0.7696 - loss: 0.6863 - val_accuracy: 0.6803 - val_loss: 1.2115\n",
            "Epoch 39/60\n",
            "\u001b[1m782/782\u001b[0m \u001b[32m━━━━━━━━━━━━━━━━━━━━\u001b[0m\u001b[37m\u001b[0m \u001b[1m263s\u001b[0m 325ms/step - accuracy: 0.8283 - loss: 0.5092 - val_accuracy: 0.7206 - val_loss: 1.0585\n",
            "Epoch 40/60\n",
            "\u001b[1m782/782\u001b[0m \u001b[32m━━━━━━━━━━━━━━━━━━━━\u001b[0m\u001b[37m\u001b[0m \u001b[1m264s\u001b[0m 338ms/step - accuracy: 0.8198 - loss: 0.5323 - val_accuracy: 0.4851 - val_loss: 2.1496\n",
            "Epoch 41/60\n",
            "\u001b[1m782/782\u001b[0m \u001b[32m━━━━━━━━━━━━━━━━━━━━\u001b[0m\u001b[37m\u001b[0m \u001b[1m260s\u001b[0m 333ms/step - accuracy: 0.6858 - loss: 0.9289 - val_accuracy: 0.6352 - val_loss: 1.3003\n",
            "Epoch 42/60\n",
            "\u001b[1m782/782\u001b[0m \u001b[32m━━━━━━━━━━━━━━━━━━━━\u001b[0m\u001b[37m\u001b[0m \u001b[1m261s\u001b[0m 331ms/step - accuracy: 0.7246 - loss: 0.8119 - val_accuracy: 0.6419 - val_loss: 1.1229\n",
            "Epoch 43/60\n",
            "\u001b[1m782/782\u001b[0m \u001b[32m━━━━━━━━━━━━━━━━━━━━\u001b[0m\u001b[37m\u001b[0m \u001b[1m258s\u001b[0m 327ms/step - accuracy: 0.7328 - loss: 0.7861 - val_accuracy: 0.3655 - val_loss: 2.4215\n",
            "Epoch 44/60\n",
            "\u001b[1m782/782\u001b[0m \u001b[32m━━━━━━━━━━━━━━━━━━━━\u001b[0m\u001b[37m\u001b[0m \u001b[1m262s\u001b[0m 326ms/step - accuracy: 0.7479 - loss: 0.7327 - val_accuracy: 0.7292 - val_loss: 0.7999\n",
            "Epoch 45/60\n",
            "\u001b[1m782/782\u001b[0m \u001b[32m━━━━━━━━━━━━━━━━━━━━\u001b[0m\u001b[37m\u001b[0m \u001b[1m263s\u001b[0m 328ms/step - accuracy: 0.7868 - loss: 0.6262 - val_accuracy: 0.7552 - val_loss: 0.7271\n",
            "Epoch 46/60\n",
            "\u001b[1m782/782\u001b[0m \u001b[32m━━━━━━━━━━━━━━━━━━━━\u001b[0m\u001b[37m\u001b[0m \u001b[1m266s\u001b[0m 333ms/step - accuracy: 0.7852 - loss: 0.6220 - val_accuracy: 0.4752 - val_loss: 1.9332\n",
            "Epoch 47/60\n",
            "\u001b[1m782/782\u001b[0m \u001b[32m━━━━━━━━━━━━━━━━━━━━\u001b[0m\u001b[37m\u001b[0m \u001b[1m259s\u001b[0m 329ms/step - accuracy: 0.6941 - loss: 0.8691 - val_accuracy: 0.7157 - val_loss: 0.8554\n",
            "Epoch 48/60\n",
            "\u001b[1m782/782\u001b[0m \u001b[32m━━━━━━━━━━━━━━━━━━━━\u001b[0m\u001b[37m\u001b[0m \u001b[1m264s\u001b[0m 332ms/step - accuracy: 0.7495 - loss: 0.7213 - val_accuracy: 0.7424 - val_loss: 0.7769\n",
            "Epoch 49/60\n",
            "\u001b[1m782/782\u001b[0m \u001b[32m━━━━━━━━━━━━━━━━━━━━\u001b[0m\u001b[37m\u001b[0m \u001b[1m258s\u001b[0m 327ms/step - accuracy: 0.7908 - loss: 0.5967 - val_accuracy: 0.7492 - val_loss: 0.7664\n",
            "Epoch 50/60\n",
            "\u001b[1m782/782\u001b[0m \u001b[32m━━━━━━━━━━━━━━━━━━━━\u001b[0m\u001b[37m\u001b[0m \u001b[1m264s\u001b[0m 330ms/step - accuracy: 0.7929 - loss: 0.6016 - val_accuracy: 0.5168 - val_loss: 1.9317\n",
            "Epoch 51/60\n",
            "\u001b[1m782/782\u001b[0m \u001b[32m━━━━━━━━━━━━━━━━━━━━\u001b[0m\u001b[37m\u001b[0m \u001b[1m257s\u001b[0m 324ms/step - accuracy: 0.7528 - loss: 0.7344 - val_accuracy: 0.7218 - val_loss: 0.8831\n",
            "Epoch 52/60\n",
            "\u001b[1m782/782\u001b[0m \u001b[32m━━━━━━━━━━━━━━━━━━━━\u001b[0m\u001b[37m\u001b[0m \u001b[1m262s\u001b[0m 324ms/step - accuracy: 0.8087 - loss: 0.5653 - val_accuracy: 0.7636 - val_loss: 0.7772\n",
            "Epoch 53/60\n",
            "\u001b[1m782/782\u001b[0m \u001b[32m━━━━━━━━━━━━━━━━━━━━\u001b[0m\u001b[37m\u001b[0m \u001b[1m254s\u001b[0m 324ms/step - accuracy: 0.8300 - loss: 0.4863 - val_accuracy: 0.7536 - val_loss: 0.7662\n",
            "Epoch 54/60\n",
            "\u001b[1m782/782\u001b[0m \u001b[32m━━━━━━━━━━━━━━━━━━━━\u001b[0m\u001b[37m\u001b[0m \u001b[1m263s\u001b[0m 326ms/step - accuracy: 0.8029 - loss: 0.5947 - val_accuracy: 0.6859 - val_loss: 1.0013\n",
            "Epoch 55/60\n",
            "\u001b[1m782/782\u001b[0m \u001b[32m━━━━━━━━━━━━━━━━━━━━\u001b[0m\u001b[37m\u001b[0m \u001b[1m259s\u001b[0m 323ms/step - accuracy: 0.7935 - loss: 0.5929 - val_accuracy: 0.7332 - val_loss: 0.8010\n",
            "Epoch 56/60\n",
            "\u001b[1m782/782\u001b[0m \u001b[32m━━━━━━━━━━━━━━━━━━━━\u001b[0m\u001b[37m\u001b[0m \u001b[1m257s\u001b[0m 329ms/step - accuracy: 0.7921 - loss: 0.6132 - val_accuracy: 0.2393 - val_loss: 5.3483\n",
            "Epoch 57/60\n",
            "\u001b[1m782/782\u001b[0m \u001b[32m━━━━━━━━━━━━━━━━━━━━\u001b[0m\u001b[37m\u001b[0m \u001b[1m258s\u001b[0m 324ms/step - accuracy: 0.6539 - loss: 1.0391 - val_accuracy: 0.5013 - val_loss: 1.6113\n",
            "Epoch 58/60\n",
            "\u001b[1m782/782\u001b[0m \u001b[32m━━━━━━━━━━━━━━━━━━━━\u001b[0m\u001b[37m\u001b[0m \u001b[1m267s\u001b[0m 330ms/step - accuracy: 0.7319 - loss: 0.7819 - val_accuracy: 0.4986 - val_loss: 1.6545\n",
            "Epoch 59/60\n",
            "\u001b[1m782/782\u001b[0m \u001b[32m━━━━━━━━━━━━━━━━━━━━\u001b[0m\u001b[37m\u001b[0m \u001b[1m262s\u001b[0m 331ms/step - accuracy: 0.7381 - loss: 0.7631 - val_accuracy: 0.6816 - val_loss: 0.9672\n",
            "Epoch 60/60\n",
            "\u001b[1m782/782\u001b[0m \u001b[32m━━━━━━━━━━━━━━━━━━━━\u001b[0m\u001b[37m\u001b[0m \u001b[1m257s\u001b[0m 324ms/step - accuracy: 0.7511 - loss: 0.7408 - val_accuracy: 0.5426 - val_loss: 1.6786\n"
          ]
        }
      ]
    },
    {
      "cell_type": "code",
      "source": [
        "plot_training_history(history, SAVE_MODEL_PATH)"
      ],
      "metadata": {
        "id": "D2M56ZuCuCYr"
      },
      "execution_count": 15,
      "outputs": []
    },
    {
      "cell_type": "code",
      "source": [],
      "metadata": {
        "id": "82o5l_RlqY8u"
      },
      "execution_count": null,
      "outputs": []
    }
  ]
}
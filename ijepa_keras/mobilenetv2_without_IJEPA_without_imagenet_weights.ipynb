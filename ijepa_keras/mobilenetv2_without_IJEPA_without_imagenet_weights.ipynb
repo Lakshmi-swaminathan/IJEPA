{
  "nbformat": 4,
  "nbformat_minor": 0,
  "metadata": {
    "colab": {
      "provenance": [],
      "gpuType": "V28"
    },
    "kernelspec": {
      "name": "python3",
      "display_name": "Python 3"
    },
    "language_info": {
      "name": "python"
    },
    "accelerator": "TPU"
  },
  "cells": [
    {
      "cell_type": "code",
      "execution_count": 1,
      "metadata": {
        "colab": {
          "base_uri": "https://localhost:8080/"
        },
        "id": "nBjw5buCahQD",
        "outputId": "a62c4459-c447-4030-832f-ad4d8a5b22ac"
      },
      "outputs": [
        {
          "output_type": "stream",
          "name": "stdout",
          "text": [
            "Mounted at /content/drive\n"
          ]
        }
      ],
      "source": [
        "from google.colab import drive\n",
        "drive.mount('/content/drive')\n"
      ]
    },
    {
      "cell_type": "code",
      "source": [
        "import tensorflow as tf\n",
        "from tensorflow.keras import layers, models\n",
        "from tensorflow.keras.preprocessing import image_dataset_from_directory\n",
        "from tensorflow.keras.callbacks import ModelCheckpoint\n",
        "from tensorflow.keras.applications import MobileNetV2\n",
        "from sklearn.model_selection import train_test_split\n",
        "import os"
      ],
      "metadata": {
        "id": "lqrBg08FbSCx"
      },
      "execution_count": 2,
      "outputs": []
    },
    {
      "cell_type": "code",
      "source": [
        "# 1. Load CIFAR-10 dataset\n",
        "# CIFAR-10 is already available in TensorFlow datasets, but we can carve out validation data manually from the training data\n",
        "(x_train, y_train), (x_test, y_test) = tf.keras.datasets.cifar10.load_data()\n"
      ],
      "metadata": {
        "colab": {
          "base_uri": "https://localhost:8080/"
        },
        "id": "ThCZgqZVbV7A",
        "outputId": "bf45c76d-a610-4e07-e024-8e03c56a0d25"
      },
      "execution_count": 3,
      "outputs": [
        {
          "output_type": "stream",
          "name": "stdout",
          "text": [
            "Downloading data from https://www.cs.toronto.edu/~kriz/cifar-10-python.tar.gz\n",
            "170498071/170498071 [==============================] - 2s 0us/step\n"
          ]
        }
      ]
    },
    {
      "cell_type": "code",
      "source": [
        "# Normalize pixel values to be between 0 and 1\n",
        "x_train, x_test = x_train / 255.0, x_test / 255.0"
      ],
      "metadata": {
        "id": "Du_iD6YvbYer"
      },
      "execution_count": 4,
      "outputs": []
    },
    {
      "cell_type": "code",
      "source": [
        "# Split part of the training data into validation\n",
        "x_train, x_val, y_train, y_val = train_test_split(x_train, y_train, test_size=0.1, random_state=42)\n"
      ],
      "metadata": {
        "id": "F8-azXxHbZCk"
      },
      "execution_count": 5,
      "outputs": []
    },
    {
      "cell_type": "code",
      "source": [
        "# 2. Build the MobileNetV2 model\n",
        "base_model = MobileNetV2(input_shape=(32, 32, 3), include_top=False, weights=None)\n"
      ],
      "metadata": {
        "id": "TrGiRX63ba2w"
      },
      "execution_count": 6,
      "outputs": []
    },
    {
      "cell_type": "code",
      "source": [
        "\n",
        "base_model.trainable = True"
      ],
      "metadata": {
        "id": "Z7izQHYVbcyx"
      },
      "execution_count": 7,
      "outputs": []
    },
    {
      "cell_type": "code",
      "source": [
        "# Build the custom model on top of MobileNetV2\n",
        "model = models.Sequential([\n",
        "    base_model,\n",
        "    layers.GlobalAveragePooling2D(),\n",
        "    layers.Dense(512, activation='relu'),\n",
        "    layers.Dense(10, activation='softmax')\n",
        "])"
      ],
      "metadata": {
        "id": "8QXukIuVbfVg"
      },
      "execution_count": 8,
      "outputs": []
    },
    {
      "cell_type": "code",
      "source": [
        "# 3. Compile the model\n",
        "model.compile(optimizer='adam',\n",
        "              loss='sparse_categorical_crossentropy',\n",
        "              metrics=['accuracy'])"
      ],
      "metadata": {
        "id": "782kMf3xbha-"
      },
      "execution_count": 9,
      "outputs": []
    },
    {
      "cell_type": "code",
      "source": [
        "# 4. Create ModelCheckpoint callback to save the best model\n",
        "# Save the model to Google Drive (make sure you've mounted Google Drive)\n",
        "google_drive_path = '/content/drive/MyDrive/cifar10_mobilenetv2_without_imagenet_weight_best_model.keras'\n"
      ],
      "metadata": {
        "id": "OnlwzgRYbkFZ"
      },
      "execution_count": 10,
      "outputs": []
    },
    {
      "cell_type": "code",
      "source": [
        "checkpoint_callback = ModelCheckpoint(google_drive_path,\n",
        "                                      save_best_only=True,\n",
        "                                      monitor='val_loss',\n",
        "                                      mode='min',\n",
        "                                      verbose=1)"
      ],
      "metadata": {
        "id": "ksZ3quEcbm0K"
      },
      "execution_count": 11,
      "outputs": []
    },
    {
      "cell_type": "code",
      "source": [
        "# 5. Train the model\n",
        "history = model.fit(x_train, y_train, epochs=60, validation_data=(x_val, y_val), callbacks=[checkpoint_callback])\n"
      ],
      "metadata": {
        "colab": {
          "base_uri": "https://localhost:8080/"
        },
        "id": "mbpcW_RGbpHB",
        "outputId": "3f5985dc-114d-4426-c2a1-86101a94667c"
      },
      "execution_count": 12,
      "outputs": [
        {
          "output_type": "stream",
          "name": "stdout",
          "text": [
            "Epoch 1/60\n",
            "1407/1407 [==============================] - ETA: 0s - loss: 1.8430 - accuracy: 0.3093\n",
            "Epoch 1: val_loss improved from inf to 2.32181, saving model to /content/drive/MyDrive/cifar10_mobilenetv2_without_imagenet_weight_best_model.keras\n",
            "1407/1407 [==============================] - 219s 148ms/step - loss: 1.8430 - accuracy: 0.3093 - val_loss: 2.3218 - val_accuracy: 0.1018\n",
            "Epoch 2/60\n",
            "1407/1407 [==============================] - ETA: 0s - loss: 1.5341 - accuracy: 0.4416\n",
            "Epoch 2: val_loss did not improve from 2.32181\n",
            "1407/1407 [==============================] - 205s 146ms/step - loss: 1.5341 - accuracy: 0.4416 - val_loss: 2.3439 - val_accuracy: 0.1046\n",
            "Epoch 3/60\n",
            "1407/1407 [==============================] - ETA: 0s - loss: 1.3832 - accuracy: 0.5055\n",
            "Epoch 3: val_loss improved from 2.32181 to 2.25116, saving model to /content/drive/MyDrive/cifar10_mobilenetv2_without_imagenet_weight_best_model.keras\n",
            "1407/1407 [==============================] - 203s 145ms/step - loss: 1.3832 - accuracy: 0.5055 - val_loss: 2.2512 - val_accuracy: 0.1630\n",
            "Epoch 4/60\n",
            "1406/1407 [============================>.] - ETA: 0s - loss: 1.2506 - accuracy: 0.5595\n",
            "Epoch 4: val_loss improved from 2.25116 to 1.64162, saving model to /content/drive/MyDrive/cifar10_mobilenetv2_without_imagenet_weight_best_model.keras\n",
            "1407/1407 [==============================] - 203s 144ms/step - loss: 1.2507 - accuracy: 0.5595 - val_loss: 1.6416 - val_accuracy: 0.4506\n",
            "Epoch 5/60\n",
            "1407/1407 [==============================] - ETA: 0s - loss: 1.1518 - accuracy: 0.5994\n",
            "Epoch 5: val_loss did not improve from 1.64162\n",
            "1407/1407 [==============================] - 201s 143ms/step - loss: 1.1518 - accuracy: 0.5994 - val_loss: 2.7457 - val_accuracy: 0.5166\n",
            "Epoch 6/60\n",
            "1406/1407 [============================>.] - ETA: 0s - loss: 1.0640 - accuracy: 0.6289\n",
            "Epoch 6: val_loss did not improve from 1.64162\n",
            "1407/1407 [==============================] - 201s 143ms/step - loss: 1.0640 - accuracy: 0.6289 - val_loss: 2.7730 - val_accuracy: 0.5386\n",
            "Epoch 7/60\n",
            "1406/1407 [============================>.] - ETA: 0s - loss: 0.9904 - accuracy: 0.6569\n",
            "Epoch 7: val_loss did not improve from 1.64162\n",
            "1407/1407 [==============================] - 202s 143ms/step - loss: 0.9904 - accuracy: 0.6570 - val_loss: 2.2473 - val_accuracy: 0.5672\n",
            "Epoch 8/60\n",
            "1407/1407 [==============================] - ETA: 0s - loss: 0.9233 - accuracy: 0.6821\n",
            "Epoch 8: val_loss did not improve from 1.64162\n",
            "1407/1407 [==============================] - 202s 143ms/step - loss: 0.9233 - accuracy: 0.6821 - val_loss: 1.9584 - val_accuracy: 0.6320\n",
            "Epoch 9/60\n",
            "1406/1407 [============================>.] - ETA: 0s - loss: 0.8642 - accuracy: 0.7052\n",
            "Epoch 9: val_loss improved from 1.64162 to 1.53504, saving model to /content/drive/MyDrive/cifar10_mobilenetv2_without_imagenet_weight_best_model.keras\n",
            "1407/1407 [==============================] - 202s 144ms/step - loss: 0.8641 - accuracy: 0.7053 - val_loss: 1.5350 - val_accuracy: 0.5972\n",
            "Epoch 10/60\n",
            "1406/1407 [============================>.] - ETA: 0s - loss: 0.8142 - accuracy: 0.7243\n",
            "Epoch 10: val_loss improved from 1.53504 to 1.44019, saving model to /content/drive/MyDrive/cifar10_mobilenetv2_without_imagenet_weight_best_model.keras\n",
            "1407/1407 [==============================] - 202s 144ms/step - loss: 0.8143 - accuracy: 0.7242 - val_loss: 1.4402 - val_accuracy: 0.6368\n",
            "Epoch 11/60\n",
            "1407/1407 [==============================] - ETA: 0s - loss: 0.7685 - accuracy: 0.7375\n",
            "Epoch 11: val_loss did not improve from 1.44019\n",
            "1407/1407 [==============================] - 201s 143ms/step - loss: 0.7685 - accuracy: 0.7375 - val_loss: 1.9576 - val_accuracy: 0.5568\n",
            "Epoch 12/60\n",
            "1406/1407 [============================>.] - ETA: 0s - loss: 0.7347 - accuracy: 0.7494\n",
            "Epoch 12: val_loss improved from 1.44019 to 1.23484, saving model to /content/drive/MyDrive/cifar10_mobilenetv2_without_imagenet_weight_best_model.keras\n",
            "1407/1407 [==============================] - 202s 144ms/step - loss: 0.7347 - accuracy: 0.7494 - val_loss: 1.2348 - val_accuracy: 0.6468\n",
            "Epoch 13/60\n",
            "1407/1407 [==============================] - ETA: 0s - loss: 0.6935 - accuracy: 0.7658\n",
            "Epoch 13: val_loss improved from 1.23484 to 1.16164, saving model to /content/drive/MyDrive/cifar10_mobilenetv2_without_imagenet_weight_best_model.keras\n",
            "1407/1407 [==============================] - 202s 144ms/step - loss: 0.6935 - accuracy: 0.7658 - val_loss: 1.1616 - val_accuracy: 0.6796\n",
            "Epoch 14/60\n",
            "1407/1407 [==============================] - ETA: 0s - loss: 0.6667 - accuracy: 0.7741\n",
            "Epoch 14: val_loss did not improve from 1.16164\n",
            "1407/1407 [==============================] - 202s 143ms/step - loss: 0.6667 - accuracy: 0.7741 - val_loss: 1.1665 - val_accuracy: 0.6630\n",
            "Epoch 15/60\n",
            "1407/1407 [==============================] - ETA: 0s - loss: 0.6348 - accuracy: 0.7848\n",
            "Epoch 15: val_loss improved from 1.16164 to 1.07297, saving model to /content/drive/MyDrive/cifar10_mobilenetv2_without_imagenet_weight_best_model.keras\n",
            "1407/1407 [==============================] - 203s 144ms/step - loss: 0.6348 - accuracy: 0.7848 - val_loss: 1.0730 - val_accuracy: 0.6760\n",
            "Epoch 16/60\n",
            "1406/1407 [============================>.] - ETA: 0s - loss: 0.5997 - accuracy: 0.7964\n",
            "Epoch 16: val_loss improved from 1.07297 to 0.99298, saving model to /content/drive/MyDrive/cifar10_mobilenetv2_without_imagenet_weight_best_model.keras\n",
            "1407/1407 [==============================] - 203s 144ms/step - loss: 0.5997 - accuracy: 0.7964 - val_loss: 0.9930 - val_accuracy: 0.6938\n",
            "Epoch 17/60\n",
            "1407/1407 [==============================] - ETA: 0s - loss: 0.5753 - accuracy: 0.8053\n",
            "Epoch 17: val_loss did not improve from 0.99298\n",
            "1407/1407 [==============================] - 201s 143ms/step - loss: 0.5753 - accuracy: 0.8053 - val_loss: 0.9975 - val_accuracy: 0.7036\n",
            "Epoch 18/60\n",
            "1406/1407 [============================>.] - ETA: 0s - loss: 0.5548 - accuracy: 0.8094\n",
            "Epoch 18: val_loss improved from 0.99298 to 0.98415, saving model to /content/drive/MyDrive/cifar10_mobilenetv2_without_imagenet_weight_best_model.keras\n",
            "1407/1407 [==============================] - 202s 144ms/step - loss: 0.5549 - accuracy: 0.8094 - val_loss: 0.9841 - val_accuracy: 0.6988\n",
            "Epoch 19/60\n",
            "1407/1407 [==============================] - ETA: 0s - loss: 0.5262 - accuracy: 0.8211\n",
            "Epoch 19: val_loss improved from 0.98415 to 0.87218, saving model to /content/drive/MyDrive/cifar10_mobilenetv2_without_imagenet_weight_best_model.keras\n",
            "1407/1407 [==============================] - 202s 144ms/step - loss: 0.5262 - accuracy: 0.8211 - val_loss: 0.8722 - val_accuracy: 0.7148\n",
            "Epoch 20/60\n",
            "1407/1407 [==============================] - ETA: 0s - loss: 0.5080 - accuracy: 0.8268\n",
            "Epoch 20: val_loss did not improve from 0.87218\n",
            "1407/1407 [==============================] - 201s 143ms/step - loss: 0.5080 - accuracy: 0.8268 - val_loss: 1.0126 - val_accuracy: 0.7094\n",
            "Epoch 21/60\n",
            "1406/1407 [============================>.] - ETA: 0s - loss: 0.4895 - accuracy: 0.8343\n",
            "Epoch 21: val_loss improved from 0.87218 to 0.85966, saving model to /content/drive/MyDrive/cifar10_mobilenetv2_without_imagenet_weight_best_model.keras\n",
            "1407/1407 [==============================] - 202s 144ms/step - loss: 0.4896 - accuracy: 0.8343 - val_loss: 0.8597 - val_accuracy: 0.7240\n",
            "Epoch 22/60\n",
            "1407/1407 [==============================] - ETA: 0s - loss: 0.4720 - accuracy: 0.8402\n",
            "Epoch 22: val_loss did not improve from 0.85966\n",
            "1407/1407 [==============================] - 201s 143ms/step - loss: 0.4720 - accuracy: 0.8402 - val_loss: 1.0539 - val_accuracy: 0.7012\n",
            "Epoch 23/60\n",
            "1406/1407 [============================>.] - ETA: 0s - loss: 0.4581 - accuracy: 0.8444\n",
            "Epoch 23: val_loss did not improve from 0.85966\n",
            "1407/1407 [==============================] - 201s 143ms/step - loss: 0.4580 - accuracy: 0.8444 - val_loss: 0.8904 - val_accuracy: 0.7298\n",
            "Epoch 24/60\n",
            "1407/1407 [==============================] - ETA: 0s - loss: 0.4377 - accuracy: 0.8525\n",
            "Epoch 24: val_loss did not improve from 0.85966\n",
            "1407/1407 [==============================] - 201s 143ms/step - loss: 0.4377 - accuracy: 0.8525 - val_loss: 0.8673 - val_accuracy: 0.7314\n",
            "Epoch 25/60\n",
            "1407/1407 [==============================] - ETA: 0s - loss: 0.4142 - accuracy: 0.8592\n",
            "Epoch 25: val_loss did not improve from 0.85966\n",
            "1407/1407 [==============================] - 201s 143ms/step - loss: 0.4142 - accuracy: 0.8592 - val_loss: 0.8709 - val_accuracy: 0.7346\n",
            "Epoch 26/60\n",
            "1407/1407 [==============================] - ETA: 0s - loss: 0.4043 - accuracy: 0.8624\n",
            "Epoch 26: val_loss did not improve from 0.85966\n",
            "1407/1407 [==============================] - 201s 143ms/step - loss: 0.4043 - accuracy: 0.8624 - val_loss: 0.9796 - val_accuracy: 0.7068\n",
            "Epoch 27/60\n",
            "1407/1407 [==============================] - ETA: 0s - loss: 0.3841 - accuracy: 0.8692\n",
            "Epoch 27: val_loss improved from 0.85966 to 0.85286, saving model to /content/drive/MyDrive/cifar10_mobilenetv2_without_imagenet_weight_best_model.keras\n",
            "1407/1407 [==============================] - 202s 144ms/step - loss: 0.3841 - accuracy: 0.8692 - val_loss: 0.8529 - val_accuracy: 0.7474\n",
            "Epoch 28/60\n",
            "1407/1407 [==============================] - ETA: 0s - loss: 0.3715 - accuracy: 0.8732\n",
            "Epoch 28: val_loss did not improve from 0.85286\n",
            "1407/1407 [==============================] - 201s 143ms/step - loss: 0.3715 - accuracy: 0.8732 - val_loss: 0.8638 - val_accuracy: 0.7374\n",
            "Epoch 29/60\n",
            "1407/1407 [==============================] - ETA: 0s - loss: 0.3608 - accuracy: 0.8766\n",
            "Epoch 29: val_loss improved from 0.85286 to 0.83588, saving model to /content/drive/MyDrive/cifar10_mobilenetv2_without_imagenet_weight_best_model.keras\n",
            "1407/1407 [==============================] - 202s 144ms/step - loss: 0.3608 - accuracy: 0.8766 - val_loss: 0.8359 - val_accuracy: 0.7458\n",
            "Epoch 30/60\n",
            "1407/1407 [==============================] - ETA: 0s - loss: 0.3479 - accuracy: 0.8824\n",
            "Epoch 30: val_loss did not improve from 0.83588\n",
            "1407/1407 [==============================] - 201s 143ms/step - loss: 0.3479 - accuracy: 0.8824 - val_loss: 0.8784 - val_accuracy: 0.7370\n",
            "Epoch 31/60\n",
            "1407/1407 [==============================] - ETA: 0s - loss: 0.3376 - accuracy: 0.8838\n",
            "Epoch 31: val_loss did not improve from 0.83588\n",
            "1407/1407 [==============================] - 201s 143ms/step - loss: 0.3376 - accuracy: 0.8838 - val_loss: 0.9192 - val_accuracy: 0.7396\n",
            "Epoch 32/60\n",
            "1407/1407 [==============================] - ETA: 0s - loss: 0.3207 - accuracy: 0.8905\n",
            "Epoch 32: val_loss did not improve from 0.83588\n",
            "1407/1407 [==============================] - 201s 143ms/step - loss: 0.3207 - accuracy: 0.8905 - val_loss: 0.8674 - val_accuracy: 0.7416\n",
            "Epoch 33/60\n",
            "1406/1407 [============================>.] - ETA: 0s - loss: 0.3135 - accuracy: 0.8949\n",
            "Epoch 33: val_loss did not improve from 0.83588\n",
            "1407/1407 [==============================] - 201s 143ms/step - loss: 0.3135 - accuracy: 0.8949 - val_loss: 0.8685 - val_accuracy: 0.7468\n",
            "Epoch 34/60\n",
            "1406/1407 [============================>.] - ETA: 0s - loss: 0.2994 - accuracy: 0.8995\n",
            "Epoch 34: val_loss did not improve from 0.83588\n",
            "1407/1407 [==============================] - 201s 143ms/step - loss: 0.2994 - accuracy: 0.8995 - val_loss: 0.8631 - val_accuracy: 0.7572\n",
            "Epoch 35/60\n",
            "1407/1407 [==============================] - ETA: 0s - loss: 0.2921 - accuracy: 0.8997\n",
            "Epoch 35: val_loss did not improve from 0.83588\n",
            "1407/1407 [==============================] - 201s 143ms/step - loss: 0.2921 - accuracy: 0.8997 - val_loss: 0.8895 - val_accuracy: 0.7360\n",
            "Epoch 36/60\n",
            "1407/1407 [==============================] - ETA: 0s - loss: 0.2854 - accuracy: 0.9023\n",
            "Epoch 36: val_loss did not improve from 0.83588\n",
            "1407/1407 [==============================] - 201s 143ms/step - loss: 0.2854 - accuracy: 0.9023 - val_loss: 0.8787 - val_accuracy: 0.7492\n",
            "Epoch 37/60\n",
            "1406/1407 [============================>.] - ETA: 0s - loss: 0.2741 - accuracy: 0.9053\n",
            "Epoch 37: val_loss did not improve from 0.83588\n",
            "1407/1407 [==============================] - 201s 143ms/step - loss: 0.2741 - accuracy: 0.9053 - val_loss: 0.8930 - val_accuracy: 0.7396\n",
            "Epoch 38/60\n",
            "1407/1407 [==============================] - ETA: 0s - loss: 0.2716 - accuracy: 0.9084\n",
            "Epoch 38: val_loss did not improve from 0.83588\n",
            "1407/1407 [==============================] - 201s 143ms/step - loss: 0.2716 - accuracy: 0.9084 - val_loss: 0.8975 - val_accuracy: 0.7356\n",
            "Epoch 39/60\n",
            "1406/1407 [============================>.] - ETA: 0s - loss: 0.2585 - accuracy: 0.9103\n",
            "Epoch 39: val_loss did not improve from 0.83588\n",
            "1407/1407 [==============================] - 201s 143ms/step - loss: 0.2589 - accuracy: 0.9102 - val_loss: 0.9821 - val_accuracy: 0.7458\n",
            "Epoch 40/60\n",
            "1407/1407 [==============================] - ETA: 0s - loss: 0.2477 - accuracy: 0.9155\n",
            "Epoch 40: val_loss did not improve from 0.83588\n",
            "1407/1407 [==============================] - 201s 143ms/step - loss: 0.2477 - accuracy: 0.9155 - val_loss: 0.8413 - val_accuracy: 0.7620\n",
            "Epoch 41/60\n",
            "1406/1407 [============================>.] - ETA: 0s - loss: 0.2375 - accuracy: 0.9207\n",
            "Epoch 41: val_loss did not improve from 0.83588\n",
            "1407/1407 [==============================] - 202s 143ms/step - loss: 0.2375 - accuracy: 0.9206 - val_loss: 0.8829 - val_accuracy: 0.7584\n",
            "Epoch 42/60\n",
            "1407/1407 [==============================] - ETA: 0s - loss: 0.2382 - accuracy: 0.9181\n",
            "Epoch 42: val_loss did not improve from 0.83588\n",
            "1407/1407 [==============================] - 201s 143ms/step - loss: 0.2382 - accuracy: 0.9181 - val_loss: 0.8895 - val_accuracy: 0.7532\n",
            "Epoch 43/60\n",
            "1406/1407 [============================>.] - ETA: 0s - loss: 0.2293 - accuracy: 0.9203\n",
            "Epoch 43: val_loss did not improve from 0.83588\n",
            "1407/1407 [==============================] - 201s 143ms/step - loss: 0.2293 - accuracy: 0.9203 - val_loss: 0.9187 - val_accuracy: 0.7404\n",
            "Epoch 44/60\n",
            "1406/1407 [============================>.] - ETA: 0s - loss: 0.2220 - accuracy: 0.9249\n",
            "Epoch 44: val_loss did not improve from 0.83588\n",
            "1407/1407 [==============================] - 201s 143ms/step - loss: 0.2221 - accuracy: 0.9249 - val_loss: 0.9839 - val_accuracy: 0.7302\n",
            "Epoch 45/60\n",
            "1406/1407 [============================>.] - ETA: 0s - loss: 0.2233 - accuracy: 0.9240\n",
            "Epoch 45: val_loss did not improve from 0.83588\n",
            "1407/1407 [==============================] - 201s 143ms/step - loss: 0.2234 - accuracy: 0.9240 - val_loss: 0.9744 - val_accuracy: 0.7388\n",
            "Epoch 46/60\n",
            "1406/1407 [============================>.] - ETA: 0s - loss: 0.2046 - accuracy: 0.9307\n",
            "Epoch 46: val_loss did not improve from 0.83588\n",
            "1407/1407 [==============================] - 201s 143ms/step - loss: 0.2046 - accuracy: 0.9307 - val_loss: 0.9746 - val_accuracy: 0.7476\n",
            "Epoch 47/60\n",
            "1406/1407 [============================>.] - ETA: 0s - loss: 0.2020 - accuracy: 0.9315\n",
            "Epoch 47: val_loss did not improve from 0.83588\n",
            "1407/1407 [==============================] - 202s 143ms/step - loss: 0.2022 - accuracy: 0.9315 - val_loss: 0.9575 - val_accuracy: 0.7534\n",
            "Epoch 48/60\n",
            "1407/1407 [==============================] - ETA: 0s - loss: 0.2044 - accuracy: 0.9306\n",
            "Epoch 48: val_loss did not improve from 0.83588\n",
            "1407/1407 [==============================] - 201s 143ms/step - loss: 0.2044 - accuracy: 0.9306 - val_loss: 0.9638 - val_accuracy: 0.7384\n",
            "Epoch 49/60\n",
            "1407/1407 [==============================] - ETA: 0s - loss: 0.1955 - accuracy: 0.9324\n",
            "Epoch 49: val_loss did not improve from 0.83588\n",
            "1407/1407 [==============================] - 201s 143ms/step - loss: 0.1955 - accuracy: 0.9324 - val_loss: 0.9919 - val_accuracy: 0.7374\n",
            "Epoch 50/60\n",
            "1407/1407 [==============================] - ETA: 0s - loss: 0.1902 - accuracy: 0.9344\n",
            "Epoch 50: val_loss did not improve from 0.83588\n",
            "1407/1407 [==============================] - 201s 143ms/step - loss: 0.1902 - accuracy: 0.9344 - val_loss: 0.9325 - val_accuracy: 0.7548\n",
            "Epoch 51/60\n",
            "1407/1407 [==============================] - ETA: 0s - loss: 0.1849 - accuracy: 0.9353\n",
            "Epoch 51: val_loss did not improve from 0.83588\n",
            "1407/1407 [==============================] - 201s 143ms/step - loss: 0.1849 - accuracy: 0.9353 - val_loss: 0.9575 - val_accuracy: 0.7554\n",
            "Epoch 52/60\n",
            "1407/1407 [==============================] - ETA: 0s - loss: 0.1775 - accuracy: 0.9398\n",
            "Epoch 52: val_loss did not improve from 0.83588\n",
            "1407/1407 [==============================] - 201s 143ms/step - loss: 0.1775 - accuracy: 0.9398 - val_loss: 1.1150 - val_accuracy: 0.7224\n",
            "Epoch 53/60\n",
            "1406/1407 [============================>.] - ETA: 0s - loss: 0.1746 - accuracy: 0.9400\n",
            "Epoch 53: val_loss did not improve from 0.83588\n",
            "1407/1407 [==============================] - 201s 143ms/step - loss: 0.1746 - accuracy: 0.9400 - val_loss: 0.9337 - val_accuracy: 0.7650\n",
            "Epoch 54/60\n",
            "1406/1407 [============================>.] - ETA: 0s - loss: 0.1749 - accuracy: 0.9396\n",
            "Epoch 54: val_loss did not improve from 0.83588\n",
            "1407/1407 [==============================] - 201s 143ms/step - loss: 0.1749 - accuracy: 0.9396 - val_loss: 1.0765 - val_accuracy: 0.7418\n",
            "Epoch 55/60\n",
            "1407/1407 [==============================] - ETA: 0s - loss: 0.1654 - accuracy: 0.9433\n",
            "Epoch 55: val_loss did not improve from 0.83588\n",
            "1407/1407 [==============================] - 201s 143ms/step - loss: 0.1654 - accuracy: 0.9433 - val_loss: 0.9915 - val_accuracy: 0.7550\n",
            "Epoch 56/60\n",
            "1407/1407 [==============================] - ETA: 0s - loss: 0.1591 - accuracy: 0.9459\n",
            "Epoch 56: val_loss did not improve from 0.83588\n",
            "1407/1407 [==============================] - 201s 143ms/step - loss: 0.1591 - accuracy: 0.9459 - val_loss: 1.0404 - val_accuracy: 0.7472\n",
            "Epoch 57/60\n",
            "1407/1407 [==============================] - ETA: 0s - loss: 0.1579 - accuracy: 0.9466\n",
            "Epoch 57: val_loss did not improve from 0.83588\n",
            "1407/1407 [==============================] - 201s 143ms/step - loss: 0.1579 - accuracy: 0.9466 - val_loss: 1.0366 - val_accuracy: 0.7514\n",
            "Epoch 58/60\n",
            "1406/1407 [============================>.] - ETA: 0s - loss: 0.1583 - accuracy: 0.9461\n",
            "Epoch 58: val_loss did not improve from 0.83588\n",
            "1407/1407 [==============================] - 201s 143ms/step - loss: 0.1585 - accuracy: 0.9461 - val_loss: 0.9611 - val_accuracy: 0.7656\n",
            "Epoch 59/60\n",
            "1407/1407 [==============================] - ETA: 0s - loss: 0.1512 - accuracy: 0.9475\n",
            "Epoch 59: val_loss did not improve from 0.83588\n",
            "1407/1407 [==============================] - 201s 143ms/step - loss: 0.1512 - accuracy: 0.9475 - val_loss: 1.0144 - val_accuracy: 0.7544\n",
            "Epoch 60/60\n",
            "1407/1407 [==============================] - ETA: 0s - loss: 0.1499 - accuracy: 0.9487\n",
            "Epoch 60: val_loss did not improve from 0.83588\n",
            "1407/1407 [==============================] - 201s 143ms/step - loss: 0.1499 - accuracy: 0.9487 - val_loss: 1.0552 - val_accuracy: 0.7432\n"
          ]
        }
      ]
    }
  ]
}
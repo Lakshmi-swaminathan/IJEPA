{
  "nbformat": 4,
  "nbformat_minor": 0,
  "metadata": {
    "colab": {
      "provenance": [],
      "gpuType": "T4"
    },
    "kernelspec": {
      "name": "python3",
      "display_name": "Python 3"
    },
    "language_info": {
      "name": "python"
    },
    "accelerator": "GPU"
  },
  "cells": [
    {
      "cell_type": "markdown",
      "source": [
        "## Training Alexnet Model with IJEPA"
      ],
      "metadata": {
        "id": "ofcttxRghjlz"
      }
    },
    {
      "cell_type": "markdown",
      "source": [
        "### Importing Libraries"
      ],
      "metadata": {
        "id": "ePPV-X8Ail4v"
      }
    },
    {
      "cell_type": "code",
      "execution_count": 39,
      "metadata": {
        "id": "c-QTshKLT9jK"
      },
      "outputs": [],
      "source": [
        "import torch\n",
        "import torch.nn as nn\n",
        "import torchvision.transforms as transforms\n",
        "import torchvision.datasets as datasets\n",
        "from torch.utils.data import DataLoader\n",
        "from torchvision.models import alexnet\n",
        "\n",
        "#use gpu if available\n",
        "device = torch.device(\"cuda\" if torch.cuda.is_available() else \"cpu\")"
      ]
    },
    {
      "cell_type": "markdown",
      "source": [
        "### Importing the CIFAR Dataset"
      ],
      "metadata": {
        "id": "dBjAgNg1iqgw"
      }
    },
    {
      "cell_type": "code",
      "source": [
        "\n",
        "# Load CIFAR dataset\n",
        "transform = transforms.Compose([\n",
        "    transforms.Resize(224),  # Resize to 224x224 for AlexNet compatibility\n",
        "    transforms.ToTensor(),\n",
        "    transforms.Normalize((0.5, 0.5, 0.5), (0.5, 0.5, 0.5))\n",
        "])\n",
        "\n",
        "train_dataset = datasets.CIFAR10(root='./data', train=True, download=True, transform=transform)\n",
        "train_loader = DataLoader(train_dataset, batch_size=64, shuffle=True)\n",
        "\n"
      ],
      "metadata": {
        "colab": {
          "base_uri": "https://localhost:8080/"
        },
        "id": "JSfNsNjlZvkf",
        "outputId": "3a014351-2d2f-4c4f-eb24-513f8f6c1d1b"
      },
      "execution_count": 40,
      "outputs": [
        {
          "output_type": "stream",
          "name": "stdout",
          "text": [
            "Files already downloaded and verified\n"
          ]
        }
      ]
    },
    {
      "cell_type": "markdown",
      "source": [
        "### Defining the Major Modules in IJEPA Architecture\n",
        "- Encoder\n",
        "- Predictor\n",
        "- TargetEncoder"
      ],
      "metadata": {
        "id": "3dQX7QOZiuFp"
      }
    },
    {
      "cell_type": "code",
      "source": [
        "# Encoder class using AlexNet\n",
        "class Encoder(nn.Module):\n",
        "    def __init__(self):\n",
        "        super(Encoder, self).__init__()\n",
        "        self.model = alexnet(pretrained=False)\n",
        "        self.model.classifier = nn.Sequential(*list(self.model.classifier.children())[:-1])  # Remove last layer\n",
        "\n",
        "    def forward(self, x):\n",
        "        return self.model(x)\n",
        "\n",
        "# Target Encoder class with output dimension of 1024\n",
        "class TargetEncoder(nn.Module):\n",
        "    def __init__(self):\n",
        "        super(TargetEncoder, self).__init__()\n",
        "        self.model = alexnet(pretrained=False)\n",
        "        self.model.classifier = nn.Sequential(\n",
        "            *list(self.model.classifier.children())[:-1],  # Remove last layer\n",
        "            nn.Linear(4096, 1024)  # Change to output 1024 dimensions\n",
        "        )\n",
        "\n",
        "    def forward(self, x):\n",
        "        with torch.no_grad():  # Ensure target encoder doesn’t get updated\n",
        "            return self.model(x)\n",
        "\n",
        "# Predictor class for transforming context embeddings to predicted target embeddings\n",
        "class Predictor(nn.Module):\n",
        "    def __init__(self):\n",
        "        super(Predictor, self).__init__()\n",
        "        self.layers = nn.Sequential(\n",
        "            nn.Linear(4096, 1024),  # Match context output size\n",
        "            nn.ReLU(),\n",
        "            nn.Linear(1024, 1024)   # Output size same as target encoder\n",
        "        )\n",
        "\n",
        "    def forward(self, x):\n",
        "        return self.layers(x)\n",
        "\n",
        "\n"
      ],
      "metadata": {
        "id": "rVItNgdKZzL0"
      },
      "execution_count": 41,
      "outputs": []
    },
    {
      "cell_type": "markdown",
      "source": [
        "### Defining the Masking Strategy\n",
        "- Random Masking"
      ],
      "metadata": {
        "id": "G4OJiEMMi9GD"
      }
    },
    {
      "cell_type": "code",
      "source": [
        "import random\n",
        "\n",
        "# Masking Strategy class for masking random regions in the input images\n",
        "class MaskingStrategy:\n",
        "    def __init__(self, mask_size=(16, 16)):\n",
        "        self.mask_size = mask_size  # Size of the mask to be applied\n",
        "\n",
        "    def apply_mask(self, images):\n",
        "        # Clone images to avoid modifying the original input\n",
        "        masked_images = images.clone()\n",
        "\n",
        "        # Get image dimensions\n",
        "        _, _, h, w = images.shape\n",
        "        mask_h, mask_w = self.mask_size\n",
        "\n",
        "        # Ensure the random mask position fits within the image boundaries\n",
        "        x = random.randint(0, h - mask_h)\n",
        "        y = random.randint(0, w - mask_w)\n",
        "\n",
        "        # Apply mask by setting a random region to zero\n",
        "        masked_images[:, :, x:x + mask_h, y:y + mask_w] = 0\n",
        "        return masked_images\n",
        "\n"
      ],
      "metadata": {
        "id": "vxe505lfZ2HF"
      },
      "execution_count": 42,
      "outputs": []
    },
    {
      "cell_type": "markdown",
      "source": [
        "### IJEPA Model"
      ],
      "metadata": {
        "id": "vfbs-CajmxLL"
      }
    },
    {
      "cell_type": "code",
      "source": [
        "# IJEPA Model that combines Encoder, TargetEncoder, Predictor, and MaskingStrategy\n",
        "class IJEPA_Model(nn.Module):\n",
        "    def __init__(self):\n",
        "        super(IJEPA_Model, self).__init__()\n",
        "        self.encoder = Encoder()\n",
        "        self.target_encoder = TargetEncoder()\n",
        "        self.predictor = Predictor()\n",
        "        self.masking_strategy = MaskingStrategy()\n",
        "\n",
        "    def forward(self, images):\n",
        "        # Context embedding from masked images\n",
        "        context_embedding = self.encoder(images)\n",
        "\n",
        "        # Target embedding from original images\n",
        "        target_embedding = self.target_encoder(images)\n",
        "\n",
        "        # Predict masked embeddings from context embedding\n",
        "        predicted_embedding = self.predictor(context_embedding)\n",
        "\n",
        "        return predicted_embedding, target_embedding\n"
      ],
      "metadata": {
        "id": "kp5eGG0FZ5ok"
      },
      "execution_count": 43,
      "outputs": []
    },
    {
      "cell_type": "markdown",
      "source": [
        "### Training Loop"
      ],
      "metadata": {
        "id": "ZMy0ZlPQr1t7"
      }
    },
    {
      "cell_type": "code",
      "source": [
        "import os\n",
        "\n",
        "# Training loop with multiple random masks per image\n",
        "def train(model, dataloader, epochs=10, lr=1e-2, num_masks=4, save_interval=2, checkpoint_dir='checkpoints'):\n",
        "    model.train()\n",
        "    model.to(device)  # Move model to GPU\n",
        "    criterion = nn.CosineEmbeddingLoss()  # Cosine similarity for embedding loss\n",
        "    optimizer = torch.optim.Adam(model.parameters(), lr=lr)\n",
        "\n",
        "    # List to store loss values for plotting\n",
        "    epoch_losses = []\n",
        "\n",
        "    # Create checkpoint directory if it doesn't exist\n",
        "    os.makedirs(checkpoint_dir, exist_ok=True)\n",
        "\n",
        "    print(\"Training Started...\")\n",
        "    for epoch in range(epochs):\n",
        "        epoch_loss = 0.0\n",
        "        for images, _ in dataloader:\n",
        "            images = images.to(device)  # Move data to GPU\n",
        "\n",
        "            # Accumulate loss for multiple masked versions\n",
        "            batch_loss = 0.0\n",
        "\n",
        "            for _ in range(num_masks):\n",
        "                # Apply random masking to the images\n",
        "                masked_images = model.masking_strategy.apply_mask(images)\n",
        "\n",
        "                # Forward pass\n",
        "                predicted_embedding, target_embedding = model(masked_images)\n",
        "\n",
        "                # Cosine similarity loss (target label for similarity is 1)\n",
        "                target = torch.ones(predicted_embedding.size(0)).to(device)\n",
        "                loss = criterion(predicted_embedding, target_embedding.detach(), target)\n",
        "\n",
        "                # Accumulate the loss\n",
        "                batch_loss += loss\n",
        "\n",
        "            # Average the loss over multiple masks\n",
        "            batch_loss /= num_masks\n",
        "\n",
        "            # Backward pass and optimization\n",
        "            optimizer.zero_grad()\n",
        "            batch_loss.backward()\n",
        "            optimizer.step()\n",
        "\n",
        "            epoch_loss += batch_loss.item()\n",
        "\n",
        "        # Append average epoch loss\n",
        "        epoch_losses.append(epoch_loss)\n",
        "\n",
        "        print(f\"Epoch [{epoch+1}/{epochs}], Loss: {epoch_loss:.4f}\")\n",
        "\n",
        "        # Save checkpoint every few epochs\n",
        "        if (epoch + 1) % save_interval == 0:\n",
        "            checkpoint_path = os.path.join(checkpoint_dir, f'checkpoint_epoch_{epoch + 1}.pth')\n",
        "            torch.save({\n",
        "                'epoch': epoch + 1,\n",
        "                'model_state_dict': model.state_dict(),\n",
        "                'optimizer_state_dict': optimizer.state_dict(),\n",
        "                'loss': epoch_loss,\n",
        "            }, checkpoint_path)\n",
        "            print(f\"Checkpoint saved: {checkpoint_path}\")\n",
        "\n",
        "    return epoch_losses  # Return the list of epoch losses"
      ],
      "metadata": {
        "id": "3noaSAIeZ856"
      },
      "execution_count": 62,
      "outputs": []
    },
    {
      "cell_type": "markdown",
      "source": [
        "### Start Training"
      ],
      "metadata": {
        "id": "OSiiW8Ear4xL"
      }
    },
    {
      "cell_type": "code",
      "source": [
        "# Initialize model and start training\n",
        "model = IJEPA_Model()\n",
        "losses = train(model, train_loader)"
      ],
      "metadata": {
        "colab": {
          "base_uri": "https://localhost:8080/"
        },
        "id": "UWr7OPYvbPjf",
        "outputId": "343928b7-f073-4281-94b9-83486cfdce9a"
      },
      "execution_count": 63,
      "outputs": [
        {
          "output_type": "stream",
          "name": "stderr",
          "text": [
            "/usr/local/lib/python3.10/dist-packages/torchvision/models/_utils.py:208: UserWarning: The parameter 'pretrained' is deprecated since 0.13 and may be removed in the future, please use 'weights' instead.\n",
            "  warnings.warn(\n",
            "/usr/local/lib/python3.10/dist-packages/torchvision/models/_utils.py:223: UserWarning: Arguments other than a weight enum or `None` for 'weights' are deprecated since 0.13 and may be removed in the future. The current behavior is equivalent to passing `weights=None`.\n",
            "  warnings.warn(msg)\n"
          ]
        },
        {
          "output_type": "stream",
          "name": "stdout",
          "text": [
            "Training Started...\n",
            "Epoch [1/10], Loss: 25.3898\n",
            "Epoch [2/10], Loss: 24.1548\n",
            "Checkpoint saved: checkpoints/checkpoint_epoch_2.pth\n",
            "Epoch [3/10], Loss: 24.1628\n",
            "Epoch [4/10], Loss: 24.1703\n",
            "Checkpoint saved: checkpoints/checkpoint_epoch_4.pth\n",
            "Epoch [5/10], Loss: 24.1532\n",
            "Epoch [6/10], Loss: 24.1575\n",
            "Checkpoint saved: checkpoints/checkpoint_epoch_6.pth\n",
            "Epoch [7/10], Loss: 24.1522\n",
            "Epoch [8/10], Loss: 24.1407\n",
            "Checkpoint saved: checkpoints/checkpoint_epoch_8.pth\n",
            "Epoch [9/10], Loss: 24.1374\n",
            "Epoch [10/10], Loss: 24.1308\n",
            "Checkpoint saved: checkpoints/checkpoint_epoch_10.pth\n"
          ]
        }
      ]
    },
    {
      "cell_type": "markdown",
      "source": [
        "### Plotting Loss over Epochs"
      ],
      "metadata": {
        "id": "f3W6PfG9r-na"
      }
    },
    {
      "cell_type": "code",
      "source": [
        "import matplotlib.pyplot as plt\n",
        "\n",
        "# Plotting the loss graph\n",
        "plt.figure(figsize=(10, 5))\n",
        "plt.plot(range(1, len(losses) + 1), losses, marker='o')\n",
        "plt.title('Training Loss over Epochs')\n",
        "plt.xlabel('Epochs')\n",
        "plt.ylabel('Loss')\n",
        "plt.xticks(range(1, len(losses) + 1))  # Set x-ticks to be epoch numbers\n",
        "plt.grid()\n",
        "plt.show()"
      ],
      "metadata": {
        "colab": {
          "base_uri": "https://localhost:8080/",
          "height": 487
        },
        "id": "gdw8lw7jrxK_",
        "outputId": "44fca123-1272-4c75-8476-1f8666b8e29a"
      },
      "execution_count": 64,
      "outputs": [
        {
          "output_type": "display_data",
          "data": {
            "text/plain": [
              "<Figure size 1000x500 with 1 Axes>"
            ],
            "image/png": "[encoded data removed]"
          },
          "metadata": {}
        }
      ]
    }
  ]
}
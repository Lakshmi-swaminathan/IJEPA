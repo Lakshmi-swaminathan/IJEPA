{
  "nbformat": 4,
  "nbformat_minor": 0,
  "metadata": {
    "colab": {
      "provenance": [],
      "gpuType": "T4",
      "machine_shape": "hm"
    },
    "kernelspec": {
      "name": "python3",
      "display_name": "Python 3"
    },
    "language_info": {
      "name": "python"
    },
    "accelerator": "GPU"
  },
  "cells": [
    {
      "cell_type": "markdown",
      "source": [
        "## Training Alexnet Model with IJEPA"
      ],
      "metadata": {
        "id": "ofcttxRghjlz"
      }
    },
    {
      "cell_type": "markdown",
      "source": [
        "### Importing Libraries"
      ],
      "metadata": {
        "id": "ePPV-X8Ail4v"
      }
    },
    {
      "cell_type": "code",
      "execution_count": 1,
      "metadata": {
        "id": "c-QTshKLT9jK"
      },
      "outputs": [],
      "source": [
        "import torch\n",
        "import torch.nn as nn\n",
        "import torchvision.transforms as transforms\n",
        "import torchvision.datasets as datasets\n",
        "from torch.utils.data import DataLoader\n",
        "from torchvision.models import alexnet\n",
        "\n",
        "#use gpu if available\n",
        "device = torch.device(\"cuda\" if torch.cuda.is_available() else \"cpu\")"
      ]
    },
    {
      "cell_type": "markdown",
      "source": [
        "### Importing the CIFAR Dataset"
      ],
      "metadata": {
        "id": "dBjAgNg1iqgw"
      }
    },
    {
      "cell_type": "code",
      "source": [
        "\n",
        "# Load CIFAR dataset\n",
        "transform = transforms.Compose([\n",
        "    transforms.Resize(224),  # Resize to 224x224 for AlexNet compatibility\n",
        "    transforms.ToTensor(),\n",
        "    transforms.Normalize((0.5, 0.5, 0.5), (0.5, 0.5, 0.5))\n",
        "])\n",
        "\n",
        "train_dataset = datasets.CIFAR10(root='./data', train=True, download=True, transform=transform)\n",
        "train_loader = DataLoader(train_dataset, batch_size=64, shuffle=True)"
      ],
      "metadata": {
        "colab": {
          "base_uri": "https://localhost:8080/"
        },
        "id": "JSfNsNjlZvkf",
        "outputId": "55a8a31e-ba5c-41a0-ff39-ef6913c3d179"
      },
      "execution_count": 2,
      "outputs": [
        {
          "output_type": "stream",
          "name": "stdout",
          "text": [
            "Downloading https://www.cs.toronto.edu/~kriz/cifar-10-python.tar.gz to ./data/cifar-10-python.tar.gz\n"
          ]
        },
        {
          "output_type": "stream",
          "name": "stderr",
          "text": [
            "100%|██████████| 170M/170M [00:05<00:00, 29.0MB/s]\n"
          ]
        },
        {
          "output_type": "stream",
          "name": "stdout",
          "text": [
            "Extracting ./data/cifar-10-python.tar.gz to ./data\n"
          ]
        }
      ]
    },
    {
      "cell_type": "markdown",
      "source": [
        "### Defining the Major Modules in IJEPA Architecture\n",
        "- Encoder\n",
        "- Predictor\n",
        "- TargetEncoder"
      ],
      "metadata": {
        "id": "3dQX7QOZiuFp"
      }
    },
    {
      "cell_type": "code",
      "source": [
        "# Encoder class using AlexNet\n",
        "class Encoder(nn.Module):\n",
        "    def __init__(self):\n",
        "        super(Encoder, self).__init__()\n",
        "        self.model = alexnet(pretrained=False)\n",
        "        self.model.classifier = nn.Sequential(*list(self.model.classifier.children())[:-1])  # Remove last layer\n",
        "\n",
        "    def forward(self, x):\n",
        "        return self.model(x)\n",
        "\n",
        "# Target Encoder class with output dimension of 1024\n",
        "class TargetEncoder(nn.Module):\n",
        "    def __init__(self):\n",
        "        super(TargetEncoder, self).__init__()\n",
        "        self.model = alexnet(pretrained=True)\n",
        "        self.model.classifier = nn.Sequential(\n",
        "            *list(self.model.classifier.children())[:-1],  # Remove last layer\n",
        "            nn.Linear(4096, 1024)  # Change to output 1024 dimensions\n",
        "        )\n",
        "\n",
        "    def forward(self, x):\n",
        "        with torch.no_grad():  # Ensure target encoder doesn’t get updated\n",
        "            return self.model(x)\n",
        "\n",
        "# Predictor class for transforming context embeddings to predicted target embeddings\n",
        "class Predictor(nn.Module):\n",
        "    def __init__(self):\n",
        "        super(Predictor, self).__init__()\n",
        "        self.layers = nn.Sequential(\n",
        "            nn.Linear(4096, 1024),  # Match context output size\n",
        "            nn.ReLU(),\n",
        "            nn.Linear(1024, 1024)   # Output size same as target encoder\n",
        "        )\n",
        "\n",
        "    def forward(self, x):\n",
        "        return self.layers(x)\n"
      ],
      "metadata": {
        "id": "rVItNgdKZzL0"
      },
      "execution_count": 3,
      "outputs": []
    },
    {
      "cell_type": "markdown",
      "source": [
        "### Defining the Masking Strategy\n",
        "- Random Masking"
      ],
      "metadata": {
        "id": "G4OJiEMMi9GD"
      }
    },
    {
      "cell_type": "code",
      "source": [
        "import random\n",
        "import torch\n",
        "\n",
        "# Masking Strategy class for masking random regions in the input images\n",
        "class MaskingStrategy:\n",
        "    def __init__(self):\n",
        "        pass  # No fixed mask size; we'll randomize it dynamically\n",
        "\n",
        "    def apply_mask(self, images):\n",
        "        # Clone images to avoid modifying the original input\n",
        "        masked_images = images.clone()\n",
        "\n",
        "        # Get image dimensions\n",
        "        _, _, h, w = images.shape\n",
        "\n",
        "        # Randomly determine the mask size in the range [10, 30]\n",
        "        mask_h = random.randint(30, 80)\n",
        "        mask_w = random.randint(30, 80)\n",
        "\n",
        "        # Ensure the random mask position fits within the image boundaries\n",
        "        x = random.randint(0, h - mask_h)\n",
        "        y = random.randint(0, w - mask_w)\n",
        "\n",
        "        # Apply mask by setting a random region to zero\n",
        "        masked_images[:, :, x:x + mask_h, y:y + mask_w] = 0\n",
        "        return masked_images"
      ],
      "metadata": {
        "id": "vxe505lfZ2HF"
      },
      "execution_count": 7,
      "outputs": []
    },
    {
      "cell_type": "code",
      "source": [
        "# Take a sample image and apply the masking strategy\n",
        "sample_image = next(iter(train_loader))[0]\n",
        "masking_strategy = MaskingStrategy()\n",
        "masked_image = masking_strategy.apply_mask(sample_image)\n",
        "\n",
        "# use matplotlib\n",
        "import matplotlib.pyplot as plt\n",
        "\n",
        "# create a 2:1 plot\n",
        "fig, axs = plt.subplots(1, 2, figsize=(6,3))\n",
        "\n",
        "# Add sample image\n",
        "axs[0].imshow(sample_image[0].permute(1, 2, 0))\n",
        "axs[0].set_title('Original Image')\n",
        "\n",
        "# Add masked image\n",
        "axs[1].imshow(masked_image[0].permute(1, 2, 0))\n",
        "\n"
      ],
      "metadata": {
        "id": "G8OO7VT8neMa",
        "colab": {
          "base_uri": "https://localhost:8080/",
          "height": 346
        },
        "outputId": "988a8584-950b-4557-8b79-71cca3b85883"
      },
      "execution_count": 8,
      "outputs": [
        {
          "output_type": "stream",
          "name": "stderr",
          "text": [
            "WARNING:matplotlib.image:Clipping input data to the valid range for imshow with RGB data ([0..1] for floats or [0..255] for integers).\n",
            "WARNING:matplotlib.image:Clipping input data to the valid range for imshow with RGB data ([0..1] for floats or [0..255] for integers).\n"
          ]
        },
        {
          "output_type": "execute_result",
          "data": {
            "text/plain": [
              "<matplotlib.image.AxesImage at 0x7a4a88a0d090>"
            ]
          },
          "metadata": {},
          "execution_count": 8
        },
        {
          "output_type": "display_data",
          "data": {
            "text/plain": [
              "<Figure size 600x300 with 2 Axes>"
            ],
            "image/png": "[encoded data removed]"
          },
          "metadata": {}
        }
      ]
    },
    {
      "cell_type": "code",
      "source": [],
      "metadata": {
        "id": "zcC1_mVGcZy4"
      },
      "execution_count": null,
      "outputs": []
    },
    {
      "cell_type": "markdown",
      "source": [
        "### IJEPA Model"
      ],
      "metadata": {
        "id": "vfbs-CajmxLL"
      }
    },
    {
      "cell_type": "code",
      "source": [
        "# IJEPA Model that combines Encoder, TargetEncoder, Predictor, and MaskingStrategy\n",
        "class IJEPA_Model(nn.Module):\n",
        "    def __init__(self):\n",
        "        super(IJEPA_Model, self).__init__()\n",
        "        self.encoder = Encoder()\n",
        "        self.target_encoder = TargetEncoder()\n",
        "        self.predictor = Predictor()\n",
        "        self.masking_strategy = MaskingStrategy()\n",
        "\n",
        "    def forward(self, images):\n",
        "        # Context embedding from masked images\n",
        "        context_embedding = self.encoder(images)\n",
        "\n",
        "        # Target embedding from original images\n",
        "        target_embedding = self.target_encoder(images)\n",
        "\n",
        "        # Predict masked embeddings from context embedding\n",
        "        predicted_embedding = self.predictor(context_embedding)\n",
        "\n",
        "        return predicted_embedding, target_embedding\n"
      ],
      "metadata": {
        "id": "kp5eGG0FZ5ok"
      },
      "execution_count": 9,
      "outputs": []
    },
    {
      "cell_type": "markdown",
      "source": [
        "### Training Loop"
      ],
      "metadata": {
        "id": "ZMy0ZlPQr1t7"
      }
    },
    {
      "cell_type": "code",
      "source": [
        "import os\n",
        "\n",
        "# Training loop with multiple random masks per image\n",
        "def train(model, dataloader, epochs=10, lr=1e-2, num_masks=4, save_interval=2, checkpoint_dir='checkpoints'):\n",
        "    model.train()\n",
        "    model.to(device)  # Move model to GPU\n",
        "    criterion = nn.MSELoss()  # Cosine similarity for embedding loss\n",
        "    optimizer = torch.optim.Adam(model.parameters(), lr=lr)\n",
        "\n",
        "    # List to store loss values for plotting\n",
        "    epoch_losses = []\n",
        "\n",
        "    # Create checkpoint directory if it doesn't exist\n",
        "    os.makedirs(checkpoint_dir, exist_ok=True)\n",
        "\n",
        "    print(\"Training Started...\")\n",
        "    for epoch in range(epochs):\n",
        "        epoch_loss = 0.0\n",
        "        for images, _ in dataloader:\n",
        "            images = images.to(device)  # Move data to GPU\n",
        "\n",
        "            # Accumulate loss for multiple masked versions\n",
        "            batch_loss = 0.0\n",
        "\n",
        "            for _ in range(num_masks):\n",
        "                # Apply random masking to the images\n",
        "                masked_images = model.masking_strategy.apply_mask(images)\n",
        "\n",
        "                # Forward pass\n",
        "                predicted_embedding, target_embedding = model(masked_images)\n",
        "\n",
        "                # Cosine similarity loss (target label for similarity is 1)\n",
        "                target = torch.ones(predicted_embedding.size(0)).to(device)\n",
        "                loss = criterion(predicted_embedding, target_embedding)\n",
        "\n",
        "                # Accumulate the loss\n",
        "                batch_loss += loss\n",
        "\n",
        "            # Average the loss over multiple masks\n",
        "            batch_loss /= num_masks\n",
        "\n",
        "            # Backward pass and optimization\n",
        "            optimizer.zero_grad()\n",
        "            batch_loss.backward()\n",
        "            optimizer.step()\n",
        "\n",
        "            epoch_loss += batch_loss.item()\n",
        "\n",
        "        # Diving by batch size\n",
        "        epoch_loss /= len(dataloader)\n",
        "\n",
        "        # Append average epoch loss\n",
        "        epoch_losses.append(epoch_loss)\n",
        "\n",
        "        print(f\"Epoch [{epoch+1}/{epochs}], Loss: {epoch_loss:.4f}\")\n",
        "\n",
        "        # Save checkpoint every few epochs\n",
        "        if (epoch + 1) % save_interval == 0:\n",
        "            checkpoint_path = os.path.join(checkpoint_dir, f'checkpoint_epoch_{epoch + 1}.pth')\n",
        "            torch.save({\n",
        "                'epoch': epoch + 1,\n",
        "                'model_state_dict': model.state_dict(),\n",
        "                'optimizer_state_dict': optimizer.state_dict(),\n",
        "                'loss': epoch_loss,\n",
        "            }, checkpoint_path)\n",
        "            print(f\"Checkpoint saved: {checkpoint_path}\")\n",
        "\n",
        "    return epoch_losses  # Return the list of epoch losses"
      ],
      "metadata": {
        "id": "3noaSAIeZ856"
      },
      "execution_count": 10,
      "outputs": []
    },
    {
      "cell_type": "markdown",
      "source": [
        "### Start Training"
      ],
      "metadata": {
        "id": "OSiiW8Ear4xL"
      }
    },
    {
      "cell_type": "code",
      "source": [
        "# Initialize model and start training\n",
        "model = IJEPA_Model()\n",
        "losses = train(model, train_loader, epochs=30)"
      ],
      "metadata": {
        "id": "UWr7OPYvbPjf",
        "colab": {
          "base_uri": "https://localhost:8080/"
        },
        "outputId": "5eb3aabe-b275-4dcb-b979-22d4c2ce378c"
      },
      "execution_count": 11,
      "outputs": [
        {
          "output_type": "stream",
          "name": "stderr",
          "text": [
            "/usr/local/lib/python3.10/dist-packages/torchvision/models/_utils.py:208: UserWarning: The parameter 'pretrained' is deprecated since 0.13 and may be removed in the future, please use 'weights' instead.\n",
            "  warnings.warn(\n",
            "/usr/local/lib/python3.10/dist-packages/torchvision/models/_utils.py:223: UserWarning: Arguments other than a weight enum or `None` for 'weights' are deprecated since 0.13 and may be removed in the future. The current behavior is equivalent to passing `weights=None`.\n",
            "  warnings.warn(msg)\n",
            "/usr/local/lib/python3.10/dist-packages/torchvision/models/_utils.py:223: UserWarning: Arguments other than a weight enum or `None` for 'weights' are deprecated since 0.13 and may be removed in the future. The current behavior is equivalent to passing `weights=AlexNet_Weights.IMAGENET1K_V1`. You can also use `weights=AlexNet_Weights.DEFAULT` to get the most up-to-date weights.\n",
            "  warnings.warn(msg)\n",
            "Downloading: \"https://download.pytorch.org/models/alexnet-owt-7be5be79.pth\" to /root/.cache/torch/hub/checkpoints/alexnet-owt-7be5be79.pth\n",
            "100%|██████████| 233M/233M [00:01<00:00, 208MB/s]\n"
          ]
        },
        {
          "output_type": "stream",
          "name": "stdout",
          "text": [
            "Training Started...\n",
            "Epoch [1/30], Loss: 627718679686.4177\n",
            "Epoch [2/30], Loss: 2.7505\n",
            "Checkpoint saved: checkpoints/checkpoint_epoch_2.pth\n",
            "Epoch [3/30], Loss: 0.1414\n",
            "Epoch [4/30], Loss: 0.1394\n",
            "Checkpoint saved: checkpoints/checkpoint_epoch_4.pth\n",
            "Epoch [5/30], Loss: 0.1367\n",
            "Epoch [6/30], Loss: 0.1338\n",
            "Checkpoint saved: checkpoints/checkpoint_epoch_6.pth\n",
            "Epoch [7/30], Loss: 0.1318\n",
            "Epoch [8/30], Loss: 0.1306\n",
            "Checkpoint saved: checkpoints/checkpoint_epoch_8.pth\n",
            "Epoch [9/30], Loss: 0.1301\n",
            "Epoch [10/30], Loss: 0.1299\n",
            "Checkpoint saved: checkpoints/checkpoint_epoch_10.pth\n",
            "Epoch [11/30], Loss: 0.1300\n",
            "Epoch [12/30], Loss: 0.1300\n",
            "Checkpoint saved: checkpoints/checkpoint_epoch_12.pth\n",
            "Epoch [13/30], Loss: 0.1299\n",
            "Epoch [14/30], Loss: 0.1300\n",
            "Checkpoint saved: checkpoints/checkpoint_epoch_14.pth\n",
            "Epoch [15/30], Loss: 0.1299\n",
            "Epoch [16/30], Loss: 94.8904\n",
            "Checkpoint saved: checkpoints/checkpoint_epoch_16.pth\n",
            "Epoch [17/30], Loss: 0.2453\n",
            "Epoch [18/30], Loss: 0.2432\n",
            "Checkpoint saved: checkpoints/checkpoint_epoch_18.pth\n",
            "Epoch [19/30], Loss: 0.2399\n",
            "Epoch [20/30], Loss: 0.2356\n",
            "Checkpoint saved: checkpoints/checkpoint_epoch_20.pth\n",
            "Epoch [21/30], Loss: 0.2293\n",
            "Epoch [22/30], Loss: 0.2206\n",
            "Checkpoint saved: checkpoints/checkpoint_epoch_22.pth\n",
            "Epoch [23/30], Loss: 0.2090\n",
            "Epoch [24/30], Loss: 0.1949\n",
            "Checkpoint saved: checkpoints/checkpoint_epoch_24.pth\n",
            "Epoch [25/30], Loss: 0.1783\n",
            "Epoch [26/30], Loss: 0.1337\n",
            "Checkpoint saved: checkpoints/checkpoint_epoch_26.pth\n",
            "Epoch [27/30], Loss: 0.1300\n",
            "Epoch [28/30], Loss: 124249.7703\n",
            "Checkpoint saved: checkpoints/checkpoint_epoch_28.pth\n",
            "Epoch [29/30], Loss: 5.0646\n",
            "Epoch [30/30], Loss: 0.1432\n",
            "Checkpoint saved: checkpoints/checkpoint_epoch_30.pth\n"
          ]
        }
      ]
    },
    {
      "cell_type": "markdown",
      "source": [
        "### Plotting Loss over Epochs"
      ],
      "metadata": {
        "id": "f3W6PfG9r-na"
      }
    },
    {
      "cell_type": "code",
      "source": [
        "import matplotlib.pyplot as plt\n",
        "\n",
        "# Plotting the loss graph\n",
        "plt.figure(figsize=(10, 5))\n",
        "plt.plot(range(1, len(losses) + 1), losses, marker='o')\n",
        "plt.title('Training Loss over Epochs')\n",
        "plt.xlabel('Epochs')\n",
        "plt.ylabel('Loss')\n",
        "plt.xticks(range(1, len(losses) + 1))  # Set x-ticks to be epoch numbers\n",
        "plt.grid()\n",
        "plt.show()"
      ],
      "metadata": {
        "id": "gdw8lw7jrxK_",
        "colab": {
          "base_uri": "https://localhost:8080/",
          "height": 487
        },
        "outputId": "b8cc6ebe-02a9-450d-a0e2-89436fb7f5e3"
      },
      "execution_count": 16,
      "outputs": [
        {
          "output_type": "display_data",
          "data": {
            "text/plain": [
              "<Figure size 1000x500 with 1 Axes>"
            ],
            "image/png": "[encoded data removed]"
          },
          "metadata": {}
        }
      ]
    },
    {
      "cell_type": "code",
      "source": [
        "import os\n",
        "from google.colab import files\n",
        "\n",
        "# Specify your checkpoint directory\n",
        "checkpoint_dir = '/content/checkpoints'\n",
        "\n",
        "# List all checkpoint files\n",
        "all_checkpoints = sorted(os.listdir(checkpoint_dir))\n",
        "\n",
        "# Get the latest checkpoint file\n",
        "latest_checkpoint = all_checkpoints[-1] if all_checkpoints else None\n",
        "\n",
        "if latest_checkpoint:\n",
        "    checkpoint_path = os.path.join(checkpoint_dir, latest_checkpoint)\n",
        "    print(f\"Downloading {latest_checkpoint}...\")\n",
        "    files.download(checkpoint_path)  # Download the file\n",
        "else:\n",
        "    print(\"No checkpoint files found.\")\n"
      ],
      "metadata": {
        "id": "aBmbd3KZYnii",
        "colab": {
          "base_uri": "https://localhost:8080/",
          "height": 34
        },
        "outputId": "a2d36ada-d578-4202-be69-21f59e571afb"
      },
      "execution_count": 14,
      "outputs": [
        {
          "output_type": "stream",
          "name": "stdout",
          "text": [
            "Downloading checkpoint_epoch_8.pth...\n"
          ]
        },
        {
          "output_type": "display_data",
          "data": {
            "text/plain": [
              "<IPython.core.display.Javascript object>"
            ],
            "application/javascript": [
              "\n",
              "    async function download(id, filename, size) {\n",
              "      if (!google.colab.kernel.accessAllowed) {\n",
              "        return;\n",
              "      }\n",
              "      const div = document.createElement('div');\n",
              "      const label = document.createElement('label');\n",
              "      label.textContent = `Downloading \"${filename}\": `;\n",
              "      div.appendChild(label);\n",
              "      const progress = document.createElement('progress');\n",
              "      progress.max = size;\n",
              "      div.appendChild(progress);\n",
              "      document.body.appendChild(div);\n",
              "\n",
              "      const buffers = [];\n",
              "      let downloaded = 0;\n",
              "\n",
              "      const channel = await google.colab.kernel.comms.open(id);\n",
              "      // Send a message to notify the kernel that we're ready.\n",
              "      channel.send({})\n",
              "\n",
              "      for await (const message of channel.messages) {\n",
              "        // Send a message to notify the kernel that we're ready.\n",
              "        channel.send({})\n",
              "        if (message.buffers) {\n",
              "          for (const buffer of message.buffers) {\n",
              "            buffers.push(buffer);\n",
              "            downloaded += buffer.byteLength;\n",
              "            progress.value = downloaded;\n",
              "          }\n",
              "        }\n",
              "      }\n",
              "      const blob = new Blob(buffers, {type: 'application/binary'});\n",
              "      const a = document.createElement('a');\n",
              "      a.href = window.URL.createObjectURL(blob);\n",
              "      a.download = filename;\n",
              "      div.appendChild(a);\n",
              "      a.click();\n",
              "      div.remove();\n",
              "    }\n",
              "  "
            ]
          },
          "metadata": {}
        },
        {
          "output_type": "display_data",
          "data": {
            "text/plain": [
              "<IPython.core.display.Javascript object>"
            ],
            "application/javascript": [
              "download(\"download_c41b2073-dac9-4832-bd49-aa4dbb404480\", \"checkpoint_epoch_8.pth\", 991812546)"
            ]
          },
          "metadata": {}
        }
      ]
    }
  ]
}